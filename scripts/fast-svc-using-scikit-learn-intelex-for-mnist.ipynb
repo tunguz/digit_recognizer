{
 "cells": [
  {
   "cell_type": "markdown",
   "id": "3db7a1c1",
   "metadata": {
    "papermill": {
     "duration": 0.011215,
     "end_time": "2022-06-15T15:48:59.504681",
     "exception": false,
     "start_time": "2022-06-15T15:48:59.493466",
     "status": "completed"
    },
    "tags": []
   },
   "source": [
    "# Optimizing Kaggle kernels using Intel(R) Extension for Scikit-learn*\n",
    "\n",
    "For classical machine learning algorithms, we often use the most popular Python library, [scikit-learn](https://scikit-learn.org/stable/). We use it to fit models and search for optimal parameters, but scikit-learn sometimes works for hours, if not days. Speeding up this process is something anyone who uses scikit-learn would be interested in.\n",
    "\n",
    "I want to show you how to get results faster without changing the code. To do this, we will use another Python library, **[scikit-learn-intelex](https://github.com/intel/scikit-learn-intelex)**. It accelerates scikit-learn and does not require you changing the code written for scikit-learn.\n",
    "\n",
    "I will use a Kaggle notebook in which the train and predict of the SVM model executed in over 7 minutes."
   ]
  },
  {
   "cell_type": "code",
   "execution_count": 1,
   "id": "1457288f",
   "metadata": {
    "_cell_guid": "b1076dfc-b9ad-4769-8c92-a6c4dae69d19",
    "_uuid": "8f2839f25d086af736a60e9eeb907d3b93b6e0e5",
    "execution": {
     "iopub.execute_input": "2022-06-15T15:48:59.521427Z",
     "iopub.status.busy": "2022-06-15T15:48:59.520943Z",
     "iopub.status.idle": "2022-06-15T15:48:59.530791Z",
     "shell.execute_reply": "2022-06-15T15:48:59.530109Z"
    },
    "papermill": {
     "duration": 0.020467,
     "end_time": "2022-06-15T15:48:59.532703",
     "exception": false,
     "start_time": "2022-06-15T15:48:59.512236",
     "status": "completed"
    },
    "tags": []
   },
   "outputs": [],
   "source": [
    "import pandas as pd\n",
    "import numpy as np"
   ]
  },
  {
   "cell_type": "code",
   "execution_count": 2,
   "id": "fb1b3edf",
   "metadata": {
    "execution": {
     "iopub.execute_input": "2022-06-15T15:48:59.548951Z",
     "iopub.status.busy": "2022-06-15T15:48:59.548516Z",
     "iopub.status.idle": "2022-06-15T15:49:06.088563Z",
     "shell.execute_reply": "2022-06-15T15:49:06.087121Z"
    },
    "papermill": {
     "duration": 6.550832,
     "end_time": "2022-06-15T15:49:06.090996",
     "exception": false,
     "start_time": "2022-06-15T15:48:59.540164",
     "status": "completed"
    },
    "tags": []
   },
   "outputs": [
    {
     "data": {
      "text/html": [
       "<div>\n",
       "<style scoped>\n",
       "    .dataframe tbody tr th:only-of-type {\n",
       "        vertical-align: middle;\n",
       "    }\n",
       "\n",
       "    .dataframe tbody tr th {\n",
       "        vertical-align: top;\n",
       "    }\n",
       "\n",
       "    .dataframe thead th {\n",
       "        text-align: right;\n",
       "    }\n",
       "</style>\n",
       "<table border=\"1\" class=\"dataframe\">\n",
       "  <thead>\n",
       "    <tr style=\"text-align: right;\">\n",
       "      <th></th>\n",
       "      <th>label</th>\n",
       "      <th>pixel0</th>\n",
       "      <th>pixel1</th>\n",
       "      <th>pixel2</th>\n",
       "      <th>pixel3</th>\n",
       "      <th>pixel4</th>\n",
       "      <th>pixel5</th>\n",
       "      <th>pixel6</th>\n",
       "      <th>pixel7</th>\n",
       "      <th>pixel8</th>\n",
       "      <th>...</th>\n",
       "      <th>pixel774</th>\n",
       "      <th>pixel775</th>\n",
       "      <th>pixel776</th>\n",
       "      <th>pixel777</th>\n",
       "      <th>pixel778</th>\n",
       "      <th>pixel779</th>\n",
       "      <th>pixel780</th>\n",
       "      <th>pixel781</th>\n",
       "      <th>pixel782</th>\n",
       "      <th>pixel783</th>\n",
       "    </tr>\n",
       "  </thead>\n",
       "  <tbody>\n",
       "    <tr>\n",
       "      <th>0</th>\n",
       "      <td>1</td>\n",
       "      <td>0</td>\n",
       "      <td>0</td>\n",
       "      <td>0</td>\n",
       "      <td>0</td>\n",
       "      <td>0</td>\n",
       "      <td>0</td>\n",
       "      <td>0</td>\n",
       "      <td>0</td>\n",
       "      <td>0</td>\n",
       "      <td>...</td>\n",
       "      <td>0</td>\n",
       "      <td>0</td>\n",
       "      <td>0</td>\n",
       "      <td>0</td>\n",
       "      <td>0</td>\n",
       "      <td>0</td>\n",
       "      <td>0</td>\n",
       "      <td>0</td>\n",
       "      <td>0</td>\n",
       "      <td>0</td>\n",
       "    </tr>\n",
       "    <tr>\n",
       "      <th>1</th>\n",
       "      <td>0</td>\n",
       "      <td>0</td>\n",
       "      <td>0</td>\n",
       "      <td>0</td>\n",
       "      <td>0</td>\n",
       "      <td>0</td>\n",
       "      <td>0</td>\n",
       "      <td>0</td>\n",
       "      <td>0</td>\n",
       "      <td>0</td>\n",
       "      <td>...</td>\n",
       "      <td>0</td>\n",
       "      <td>0</td>\n",
       "      <td>0</td>\n",
       "      <td>0</td>\n",
       "      <td>0</td>\n",
       "      <td>0</td>\n",
       "      <td>0</td>\n",
       "      <td>0</td>\n",
       "      <td>0</td>\n",
       "      <td>0</td>\n",
       "    </tr>\n",
       "    <tr>\n",
       "      <th>2</th>\n",
       "      <td>1</td>\n",
       "      <td>0</td>\n",
       "      <td>0</td>\n",
       "      <td>0</td>\n",
       "      <td>0</td>\n",
       "      <td>0</td>\n",
       "      <td>0</td>\n",
       "      <td>0</td>\n",
       "      <td>0</td>\n",
       "      <td>0</td>\n",
       "      <td>...</td>\n",
       "      <td>0</td>\n",
       "      <td>0</td>\n",
       "      <td>0</td>\n",
       "      <td>0</td>\n",
       "      <td>0</td>\n",
       "      <td>0</td>\n",
       "      <td>0</td>\n",
       "      <td>0</td>\n",
       "      <td>0</td>\n",
       "      <td>0</td>\n",
       "    </tr>\n",
       "    <tr>\n",
       "      <th>3</th>\n",
       "      <td>4</td>\n",
       "      <td>0</td>\n",
       "      <td>0</td>\n",
       "      <td>0</td>\n",
       "      <td>0</td>\n",
       "      <td>0</td>\n",
       "      <td>0</td>\n",
       "      <td>0</td>\n",
       "      <td>0</td>\n",
       "      <td>0</td>\n",
       "      <td>...</td>\n",
       "      <td>0</td>\n",
       "      <td>0</td>\n",
       "      <td>0</td>\n",
       "      <td>0</td>\n",
       "      <td>0</td>\n",
       "      <td>0</td>\n",
       "      <td>0</td>\n",
       "      <td>0</td>\n",
       "      <td>0</td>\n",
       "      <td>0</td>\n",
       "    </tr>\n",
       "    <tr>\n",
       "      <th>4</th>\n",
       "      <td>0</td>\n",
       "      <td>0</td>\n",
       "      <td>0</td>\n",
       "      <td>0</td>\n",
       "      <td>0</td>\n",
       "      <td>0</td>\n",
       "      <td>0</td>\n",
       "      <td>0</td>\n",
       "      <td>0</td>\n",
       "      <td>0</td>\n",
       "      <td>...</td>\n",
       "      <td>0</td>\n",
       "      <td>0</td>\n",
       "      <td>0</td>\n",
       "      <td>0</td>\n",
       "      <td>0</td>\n",
       "      <td>0</td>\n",
       "      <td>0</td>\n",
       "      <td>0</td>\n",
       "      <td>0</td>\n",
       "      <td>0</td>\n",
       "    </tr>\n",
       "  </tbody>\n",
       "</table>\n",
       "<p>5 rows × 785 columns</p>\n",
       "</div>"
      ],
      "text/plain": [
       "   label  pixel0  pixel1  pixel2  pixel3  pixel4  pixel5  pixel6  pixel7  \\\n",
       "0      1       0       0       0       0       0       0       0       0   \n",
       "1      0       0       0       0       0       0       0       0       0   \n",
       "2      1       0       0       0       0       0       0       0       0   \n",
       "3      4       0       0       0       0       0       0       0       0   \n",
       "4      0       0       0       0       0       0       0       0       0   \n",
       "\n",
       "   pixel8  ...  pixel774  pixel775  pixel776  pixel777  pixel778  pixel779  \\\n",
       "0       0  ...         0         0         0         0         0         0   \n",
       "1       0  ...         0         0         0         0         0         0   \n",
       "2       0  ...         0         0         0         0         0         0   \n",
       "3       0  ...         0         0         0         0         0         0   \n",
       "4       0  ...         0         0         0         0         0         0   \n",
       "\n",
       "   pixel780  pixel781  pixel782  pixel783  \n",
       "0         0         0         0         0  \n",
       "1         0         0         0         0  \n",
       "2         0         0         0         0  \n",
       "3         0         0         0         0  \n",
       "4         0         0         0         0  \n",
       "\n",
       "[5 rows x 785 columns]"
      ]
     },
     "execution_count": 2,
     "metadata": {},
     "output_type": "execute_result"
    }
   ],
   "source": [
    "train = pd.read_csv('../input/digit-recognizer/train.csv')\n",
    "test = pd.read_csv('../input/digit-recognizer/test.csv')\n",
    "\n",
    "x_train = train[train.columns[1:]]\n",
    "x_test = test\n",
    "y_train = train[train.columns[0]]\n",
    "\n",
    "train.head()"
   ]
  },
  {
   "cell_type": "code",
   "execution_count": 3,
   "id": "0efa8fdd",
   "metadata": {
    "execution": {
     "iopub.execute_input": "2022-06-15T15:49:06.109900Z",
     "iopub.status.busy": "2022-06-15T15:49:06.109469Z",
     "iopub.status.idle": "2022-06-15T15:49:08.163057Z",
     "shell.execute_reply": "2022-06-15T15:49:08.161322Z"
    },
    "papermill": {
     "duration": 2.066816,
     "end_time": "2022-06-15T15:49:08.166269",
     "exception": false,
     "start_time": "2022-06-15T15:49:06.099453",
     "status": "completed"
    },
    "tags": []
   },
   "outputs": [],
   "source": [
    "from sklearn.preprocessing import MinMaxScaler\n",
    "transformer = MinMaxScaler().fit(x_train, y_train)\n",
    "x_train = transformer.transform(x_train)\n",
    "x_test = transformer.transform(x_test)"
   ]
  },
  {
   "cell_type": "markdown",
   "id": "e06f5b55",
   "metadata": {
    "papermill": {
     "duration": 0.007949,
     "end_time": "2022-06-15T15:49:08.182946",
     "exception": false,
     "start_time": "2022-06-15T15:49:08.174997",
     "status": "completed"
    },
    "tags": []
   },
   "source": [
    "Let's take the training and predict into a separate function:"
   ]
  },
  {
   "cell_type": "code",
   "execution_count": 4,
   "id": "cdae8292",
   "metadata": {
    "execution": {
     "iopub.execute_input": "2022-06-15T15:49:08.200895Z",
     "iopub.status.busy": "2022-06-15T15:49:08.200406Z",
     "iopub.status.idle": "2022-06-15T15:49:08.207223Z",
     "shell.execute_reply": "2022-06-15T15:49:08.205598Z"
    },
    "papermill": {
     "duration": 0.018996,
     "end_time": "2022-06-15T15:49:08.210151",
     "exception": false,
     "start_time": "2022-06-15T15:49:08.191155",
     "status": "completed"
    },
    "tags": []
   },
   "outputs": [],
   "source": [
    "def train_predict():\n",
    "    from sklearn.svm import SVC\n",
    "    clf = SVC(C=9, kernel=\"rbf\", probability=True)\n",
    "    clf.fit(x_train, y_train)\n",
    "    return clf.predict_proba(x_test)"
   ]
  },
  {
   "cell_type": "code",
   "execution_count": 5,
   "id": "1946e95e",
   "metadata": {
    "execution": {
     "iopub.execute_input": "2022-06-15T15:49:08.229856Z",
     "iopub.status.busy": "2022-06-15T15:49:08.229443Z",
     "iopub.status.idle": "2022-06-15T16:13:19.282059Z",
     "shell.execute_reply": "2022-06-15T16:13:19.280929Z"
    },
    "papermill": {
     "duration": 1451.073069,
     "end_time": "2022-06-15T16:13:19.292358",
     "exception": false,
     "start_time": "2022-06-15T15:49:08.219289",
     "status": "completed"
    },
    "tags": []
   },
   "outputs": [
    {
     "name": "stdout",
     "output_type": "stream",
     "text": [
      "CPU times: user 24min 4s, sys: 590 ms, total: 24min 4s\n",
      "Wall time: 24min 11s\n"
     ]
    }
   ],
   "source": [
    "%%time\n",
    "y_pred_original = train_predict()"
   ]
  },
  {
   "cell_type": "code",
   "execution_count": 6,
   "id": "514b1bc4",
   "metadata": {
    "execution": {
     "iopub.execute_input": "2022-06-15T16:13:19.309650Z",
     "iopub.status.busy": "2022-06-15T16:13:19.309243Z",
     "iopub.status.idle": "2022-06-15T16:13:19.316914Z",
     "shell.execute_reply": "2022-06-15T16:13:19.316159Z"
    },
    "papermill": {
     "duration": 0.018809,
     "end_time": "2022-06-15T16:13:19.318969",
     "exception": false,
     "start_time": "2022-06-15T16:13:19.300160",
     "status": "completed"
    },
    "tags": []
   },
   "outputs": [
    {
     "data": {
      "text/plain": [
       "array([[8.68212312e-10, 1.89892513e-10, 9.99975778e-01, ...,\n",
       "        5.81773772e-06, 1.48951152e-06, 8.20102662e-06],\n",
       "       [9.99871479e-01, 3.24074563e-05, 3.49360531e-05, ...,\n",
       "        5.19661278e-06, 2.57483574e-06, 1.91215262e-05],\n",
       "       [6.23770048e-05, 5.25438658e-04, 6.21531043e-04, ...,\n",
       "        1.43428289e-03, 2.67552947e-03, 9.88656235e-01],\n",
       "       ...,\n",
       "       [2.73529518e-12, 3.29003903e-12, 6.59424352e-12, ...,\n",
       "        3.99053576e-08, 7.67937459e-07, 1.46370934e-06],\n",
       "       [9.58285682e-05, 2.17489225e-06, 9.55621239e-06, ...,\n",
       "        2.12063270e-04, 1.75644614e-05, 9.95697116e-01],\n",
       "       [3.09939422e-09, 1.51436978e-09, 9.99884886e-01, ...,\n",
       "        6.01502084e-06, 2.88488240e-05, 1.63222430e-05]])"
      ]
     },
     "execution_count": 6,
     "metadata": {},
     "output_type": "execute_result"
    }
   ],
   "source": [
    "y_pred_original"
   ]
  },
  {
   "cell_type": "code",
   "execution_count": 7,
   "id": "8e581961",
   "metadata": {
    "execution": {
     "iopub.execute_input": "2022-06-15T16:13:19.337223Z",
     "iopub.status.busy": "2022-06-15T16:13:19.336602Z",
     "iopub.status.idle": "2022-06-15T16:13:19.343900Z",
     "shell.execute_reply": "2022-06-15T16:13:19.342954Z"
    },
    "papermill": {
     "duration": 0.018528,
     "end_time": "2022-06-15T16:13:19.345805",
     "exception": false,
     "start_time": "2022-06-15T16:13:19.327277",
     "status": "completed"
    },
    "tags": []
   },
   "outputs": [
    {
     "data": {
      "text/plain": [
       "array([2, 0, 9, ..., 3, 9, 2])"
      ]
     },
     "execution_count": 7,
     "metadata": {},
     "output_type": "execute_result"
    }
   ],
   "source": [
    "np.argmax(y_pred_original, axis=1)"
   ]
  },
  {
   "cell_type": "code",
   "execution_count": 8,
   "id": "f1bda455",
   "metadata": {
    "execution": {
     "iopub.execute_input": "2022-06-15T16:13:19.364034Z",
     "iopub.status.busy": "2022-06-15T16:13:19.363448Z",
     "iopub.status.idle": "2022-06-15T16:13:19.440355Z",
     "shell.execute_reply": "2022-06-15T16:13:19.439432Z"
    },
    "papermill": {
     "duration": 0.0888,
     "end_time": "2022-06-15T16:13:19.442696",
     "exception": false,
     "start_time": "2022-06-15T16:13:19.353896",
     "status": "completed"
    },
    "tags": []
   },
   "outputs": [],
   "source": [
    "sub = pd.read_csv('../input/digit-recognizer/sample_submission.csv')\n",
    "sub.Label = np.argmax(y_pred_original, axis=1)\n",
    "sub.to_csv('submission_original.csv',index=False)"
   ]
  },
  {
   "attachments": {
    "image.png": {
     "image/png": "[encoded data removed]"
    }
   },
   "cell_type": "markdown",
   "id": "98c2e49a",
   "metadata": {
    "papermill": {
     "duration": 0.008122,
     "end_time": "2022-06-15T16:13:19.459056",
     "exception": false,
     "start_time": "2022-06-15T16:13:19.450934",
     "status": "completed"
    },
    "tags": []
   },
   "source": [
    "![image.png](attachment:image.png)"
   ]
  },
  {
   "cell_type": "markdown",
   "id": "145f2797",
   "metadata": {
    "papermill": {
     "duration": 0.007663,
     "end_time": "2022-06-15T16:13:19.474852",
     "exception": false,
     "start_time": "2022-06-15T16:13:19.467189",
     "status": "completed"
    },
    "tags": []
   },
   "source": [
    "The train and predict of the SVM model took almost 7 minutes. Let's try to use scikit-learn-intelex. First, download it:"
   ]
  },
  {
   "cell_type": "code",
   "execution_count": 9,
   "id": "17d168ee",
   "metadata": {
    "execution": {
     "iopub.execute_input": "2022-06-15T16:13:19.492392Z",
     "iopub.status.busy": "2022-06-15T16:13:19.491907Z",
     "iopub.status.idle": "2022-06-15T16:13:32.822246Z",
     "shell.execute_reply": "2022-06-15T16:13:32.819047Z"
    },
    "papermill": {
     "duration": 13.343096,
     "end_time": "2022-06-15T16:13:32.825938",
     "exception": false,
     "start_time": "2022-06-15T16:13:19.482842",
     "status": "completed"
    },
    "tags": []
   },
   "outputs": [
    {
     "name": "stdout",
     "output_type": "stream",
     "text": [
      "\u001b[33mWARNING: Running pip as the 'root' user can result in broken permissions and conflicting behaviour with the system package manager. It is recommended to use a virtual environment instead: https://pip.pypa.io/warnings/venv\u001b[0m\u001b[33m\r\n",
      "\u001b[0m"
     ]
    }
   ],
   "source": [
    "!pip install scikit-learn-intelex --progress-bar off >> /tmp/pip_sklearnex.log"
   ]
  },
  {
   "cell_type": "markdown",
   "id": "465812cf",
   "metadata": {
    "papermill": {
     "duration": 0.007834,
     "end_time": "2022-06-15T16:13:32.843070",
     "exception": false,
     "start_time": "2022-06-15T16:13:32.835236",
     "status": "completed"
    },
    "tags": []
   },
   "source": [
    "To get optimizations, patch scikit-learn using scikit-learn-intelex:"
   ]
  },
  {
   "cell_type": "code",
   "execution_count": 10,
   "id": "c76e18b5",
   "metadata": {
    "execution": {
     "iopub.execute_input": "2022-06-15T16:13:32.863266Z",
     "iopub.status.busy": "2022-06-15T16:13:32.862747Z",
     "iopub.status.idle": "2022-06-15T16:13:33.759312Z",
     "shell.execute_reply": "2022-06-15T16:13:33.758316Z"
    },
    "papermill": {
     "duration": 0.910144,
     "end_time": "2022-06-15T16:13:33.761356",
     "exception": false,
     "start_time": "2022-06-15T16:13:32.851212",
     "status": "completed"
    },
    "tags": []
   },
   "outputs": [
    {
     "name": "stderr",
     "output_type": "stream",
     "text": [
      "Intel(R) Extension for Scikit-learn* enabled (https://github.com/intel/scikit-learn-intelex)\n"
     ]
    }
   ],
   "source": [
    "from sklearnex import patch_sklearn, config_context\n",
    "patch_sklearn()"
   ]
  },
  {
   "cell_type": "code",
   "execution_count": 11,
   "id": "4c11fb08",
   "metadata": {
    "execution": {
     "iopub.execute_input": "2022-06-15T16:13:33.779640Z",
     "iopub.status.busy": "2022-06-15T16:13:33.779257Z",
     "iopub.status.idle": "2022-06-15T16:13:33.783552Z",
     "shell.execute_reply": "2022-06-15T16:13:33.782529Z"
    },
    "papermill": {
     "duration": 0.015842,
     "end_time": "2022-06-15T16:13:33.785480",
     "exception": false,
     "start_time": "2022-06-15T16:13:33.769638",
     "status": "completed"
    },
    "tags": []
   },
   "outputs": [],
   "source": [
    "from sklearn.svm import SVC"
   ]
  },
  {
   "cell_type": "markdown",
   "id": "ddffe077",
   "metadata": {
    "papermill": {
     "duration": 0.008656,
     "end_time": "2022-06-15T16:13:33.802706",
     "exception": false,
     "start_time": "2022-06-15T16:13:33.794050",
     "status": "completed"
    },
    "tags": []
   },
   "source": [
    "Let’s run the same code to train and predict the SVM model:"
   ]
  },
  {
   "cell_type": "code",
   "execution_count": 12,
   "id": "4c644fc6",
   "metadata": {
    "execution": {
     "iopub.execute_input": "2022-06-15T16:13:33.822784Z",
     "iopub.status.busy": "2022-06-15T16:13:33.821772Z",
     "iopub.status.idle": "2022-06-15T16:20:35.769587Z",
     "shell.execute_reply": "2022-06-15T16:20:35.766684Z"
    },
    "papermill": {
     "duration": 421.976834,
     "end_time": "2022-06-15T16:20:35.788830",
     "exception": false,
     "start_time": "2022-06-15T16:13:33.811996",
     "status": "completed"
    },
    "tags": []
   },
   "outputs": [
    {
     "name": "stdout",
     "output_type": "stream",
     "text": [
      "CPU times: user 5min 43s, sys: 20.7 s, total: 6min 4s\n",
      "Wall time: 7min 1s\n"
     ]
    }
   ],
   "source": [
    "%%time\n",
    "\n",
    "y_pred_oprimized = train_predict()"
   ]
  },
  {
   "cell_type": "markdown",
   "id": "5c2b5fa8",
   "metadata": {
    "papermill": {
     "duration": 0.010577,
     "end_time": "2022-06-15T16:20:35.809312",
     "exception": false,
     "start_time": "2022-06-15T16:20:35.798735",
     "status": "completed"
    },
    "tags": []
   },
   "source": [
    "This time, the train and predict took **a little over minute**, which saved us almost **7 minutes**! Let’s make sure that the quality has not changed:"
   ]
  },
  {
   "cell_type": "code",
   "execution_count": 13,
   "id": "c7e9d304",
   "metadata": {
    "execution": {
     "iopub.execute_input": "2022-06-15T16:20:35.833767Z",
     "iopub.status.busy": "2022-06-15T16:20:35.832799Z",
     "iopub.status.idle": "2022-06-15T16:20:35.839051Z",
     "shell.execute_reply": "2022-06-15T16:20:35.837641Z"
    },
    "papermill": {
     "duration": 0.023713,
     "end_time": "2022-06-15T16:20:35.842189",
     "exception": false,
     "start_time": "2022-06-15T16:20:35.818476",
     "status": "completed"
    },
    "tags": []
   },
   "outputs": [],
   "source": [
    "#np.mean(y_pred_oprimized == y_pred_original)"
   ]
  },
  {
   "cell_type": "code",
   "execution_count": 14,
   "id": "09d8bcf9",
   "metadata": {
    "execution": {
     "iopub.execute_input": "2022-06-15T16:20:35.864098Z",
     "iopub.status.busy": "2022-06-15T16:20:35.863410Z",
     "iopub.status.idle": "2022-06-15T16:20:35.963994Z",
     "shell.execute_reply": "2022-06-15T16:20:35.962667Z"
    },
    "papermill": {
     "duration": 0.113734,
     "end_time": "2022-06-15T16:20:35.966988",
     "exception": false,
     "start_time": "2022-06-15T16:20:35.853254",
     "status": "completed"
    },
    "tags": []
   },
   "outputs": [],
   "source": [
    "sub = pd.read_csv('../input/digit-recognizer/sample_submission.csv')\n",
    "sub.Label = np.argmax(y_pred_oprimized, axis=1)\n",
    "sub.to_csv('submission_sklearnex.csv',index=False)"
   ]
  },
  {
   "attachments": {
    "0c784ed7-8541-439e-b162-70fc8f0401b6.png": {
     "image/png": "[encoded data removed]"
    },
    "image.png": {
     "image/png": "[encoded data removed]"
    }
   },
   "cell_type": "markdown",
   "id": "41d95c80",
   "metadata": {
    "papermill": {
     "duration": 0.01152,
     "end_time": "2022-06-15T16:20:35.987557",
     "exception": false,
     "start_time": "2022-06-15T16:20:35.976037",
     "status": "completed"
    },
    "tags": []
   },
   "source": [
    "![image.png](attachment:0c784ed7-8541-439e-b162-70fc8f0401b6.png)"
   ]
  },
  {
   "cell_type": "markdown",
   "id": "a499ff57",
   "metadata": {
    "papermill": {
     "duration": 0.010514,
     "end_time": "2022-06-15T16:20:36.007079",
     "exception": false,
     "start_time": "2022-06-15T16:20:35.996565",
     "status": "completed"
    },
    "tags": []
   },
   "source": [
    "With scikit-learn-intelex patching you can:\n",
    "\n",
    "- Use your scikit-learn code for training and inference without modification.\n",
    "- Train and predict scikit-learn models up to **7 times faster**.\n",
    "- Get the same quality of predictions as other tested frameworks.\n",
    "\n",
    "*Please, upvote if you like.*"
   ]
  }
 ],
 "metadata": {
  "kernelspec": {
   "display_name": "Python 3",
   "language": "python",
   "name": "python3"
  },
  "language_info": {
   "codemirror_mode": {
    "name": "ipython",
    "version": 3
   },
   "file_extension": ".py",
   "mimetype": "text/x-python",
   "name": "python",
   "nbconvert_exporter": "python",
   "pygments_lexer": "ipython3",
   "version": "3.7.12"
  },
  "papermill": {
   "default_parameters": {},
   "duration": 1910.786174,
   "end_time": "2022-06-15T16:20:38.650821",
   "environment_variables": {},
   "exception": null,
   "input_path": "__notebook__.ipynb",
   "output_path": "__notebook__.ipynb",
   "parameters": {},
   "start_time": "2022-06-15T15:48:47.864647",
   "version": "2.3.4"
  }
 },
 "nbformat": 4,
 "nbformat_minor": 5
}
