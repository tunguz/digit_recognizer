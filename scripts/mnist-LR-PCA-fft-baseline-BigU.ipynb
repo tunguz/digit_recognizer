{
 "cells": [
  {
   "cell_type": "markdown",
   "metadata": {},
   "source": [
    "<a href=\"https://www.kaggle.com/tunguz/mnist-svc-baseline?scriptVersionId=86666014\" target=\"_blank\"><img align=\"left\" alt=\"Kaggle\" title=\"Open in Kaggle\" src=\"https://kaggle.com/static/images/open-in-kaggle.svg\"></a>"
   ]
  },
  {
   "cell_type": "code",
   "execution_count": 1,
   "metadata": {
    "_cell_guid": "b1076dfc-b9ad-4769-8c92-a6c4dae69d19",
    "_uuid": "8f2839f25d086af736a60e9eeb907d3b93b6e0e5"
   },
   "outputs": [],
   "source": [
    "# This Python 3 environment comes with many helpful analytics libraries installed\n",
    "# It is defined by the kaggle/python docker image: https://github.com/kaggle/docker-python\n",
    "# For example, here's several helpful packages to load in \n",
    "\n",
    "import numpy as np # linear algebra\n",
    "import pandas as pd # data processing, CSV file I/O (e.g. pd.read_csv)\n",
    "\n",
    "from sklearn.linear_model import LogisticRegression\n",
    "from sklearn.decomposition import PCA\n",
    "\n",
    "from sklearn.model_selection import KFold\n",
    "from sklearn.metrics import accuracy_score\n",
    "\n",
    "\n",
    "# Input data files are available in the \"../input/\" directory.\n",
    "# For example, running this (by clicking run or pressing Shift+Enter) will list all files under the input directory\n",
    "import gc\n",
    "import os\n",
    "for dirname, _, filenames in os.walk('/kaggle/input'):\n",
    "    for filename in filenames:\n",
    "        print(os.path.join(dirname, filename))\n",
    "\n",
    "# Any results you write to the current directory are saved as output."
   ]
  },
  {
   "cell_type": "code",
   "execution_count": 2,
   "metadata": {
    "_cell_guid": "79c7e3d0-c299-4dcb-8224-4455121ee9b0",
    "_uuid": "d629ff2d2480ee46fbb7e2d37f6b5fab8052498a"
   },
   "outputs": [],
   "source": [
    "train = pd.read_csv('../input/train_rffts.csv.gz')\n",
    "test = pd.read_csv('../input/test_rffts.csv.gz')"
   ]
  },
  {
   "cell_type": "code",
   "execution_count": 3,
   "metadata": {},
   "outputs": [
    {
     "name": "stdout",
     "output_type": "stream",
     "text": [
      "CPU times: user 103 ms, sys: 55.7 ms, total: 159 ms\n",
      "Wall time: 157 ms\n"
     ]
    }
   ],
   "source": [
    "%%time\n",
    "X = train[train.columns[1:-1]].values\n",
    "X_test = test[test.columns[1:]].values\n",
    "Y = train.label.values\n",
    "\n",
    "X /= 79483.0\n",
    "X_test /= 79483.0"
   ]
  },
  {
   "cell_type": "code",
   "execution_count": 4,
   "metadata": {},
   "outputs": [
    {
     "name": "stdout",
     "output_type": "stream",
     "text": [
      "(42000, 323)\n",
      "CPU times: user 45.5 s, sys: 24.7 s, total: 1min 10s\n",
      "Wall time: 2.74 s\n"
     ]
    }
   ],
   "source": [
    "%%time\n",
    "pca = PCA(n_components=0.99,whiten=True)\n",
    "X = pca.fit_transform(X)\n",
    "X_test = pca.transform(X_test)\n",
    "print(X.shape)"
   ]
  },
  {
   "cell_type": "code",
   "execution_count": 5,
   "metadata": {},
   "outputs": [
    {
     "data": {
      "text/plain": [
       "(42000, 10)"
      ]
     },
     "execution_count": 5,
     "metadata": {},
     "output_type": "execute_result"
    }
   ],
   "source": [
    "train_oof = np.zeros((X.shape[0], 10))\n",
    "test_preds = 0\n",
    "train_oof.shape"
   ]
  },
  {
   "cell_type": "code",
   "execution_count": 8,
   "metadata": {},
   "outputs": [
    {
     "name": "stdout",
     "output_type": "stream",
     "text": [
      "Fitting fold 1\n",
      "Fold accuracy: 0.9127380952380952\n",
      "Fitting fold 2\n",
      "Fold accuracy: 0.915\n",
      "Fitting fold 3\n",
      "Fold accuracy: 0.9120238095238096\n",
      "Fitting fold 4\n",
      "Fold accuracy: 0.9079761904761905\n",
      "Fitting fold 5\n",
      "Fold accuracy: 0.9151190476190476\n",
      "0.9125714285714286\n",
      "CPU times: user 39min 51s, sys: 30min 42s, total: 1h 10min 33s\n",
      "Wall time: 2min 15s\n"
     ]
    }
   ],
   "source": [
    "%%time\n",
    "n_splits = 5\n",
    "kf = KFold(n_splits=n_splits, random_state=137, shuffle=True)\n",
    "\n",
    "for jj, (train_index, val_index) in enumerate(kf.split(X)):\n",
    "    print(\"Fitting fold\", jj+1)\n",
    "    train_features = X[train_index]\n",
    "    train_target = Y[train_index]\n",
    "    \n",
    "    val_features = X[val_index]\n",
    "    val_target = Y[val_index]\n",
    "    \n",
    "    model =  LogisticRegression(C=25, solver='lbfgs', multi_class='multinomial', max_iter=100_000)\n",
    "    model.fit(train_features, train_target)\n",
    "    val_pred = model.predict_proba(val_features)\n",
    "    train_oof[val_index] = val_pred\n",
    "    print(\"Fold accuracy:\", accuracy_score(val_target, np.argmax(val_pred, axis=1)))\n",
    "    test_preds += model.predict_proba(X_test)/n_splits\n",
    "    del train_features, train_target, val_features, val_target\n",
    "    gc.collect()\n",
    "    \n",
    "print(accuracy_score(Y, np.argmax(train_oof, axis=1)))"
   ]
  },
  {
   "cell_type": "code",
   "execution_count": 10,
   "metadata": {},
   "outputs": [
    {
     "name": "stdout",
     "output_type": "stream",
     "text": [
      "(42000, 145)\n",
      "Fitting fold 1\n",
      "Fold accuracy: 0.9146428571428571\n",
      "Fitting fold 2\n",
      "Fold accuracy: 0.9221428571428572\n",
      "Fitting fold 3\n",
      "Fold accuracy: 0.92\n",
      "Fitting fold 4\n",
      "Fold accuracy: 0.9196428571428571\n",
      "Fitting fold 5\n",
      "Fold accuracy: 0.92\n",
      "0.9192857142857143\n",
      "CPU times: user 10min 21s, sys: 13min 29s, total: 23min 51s\n",
      "Wall time: 46.2 s\n"
     ]
    }
   ],
   "source": [
    "%%time\n",
    "X = train[train.columns[1:-1]].values\n",
    "X_test = test[test.columns[1:]].values\n",
    "Y = train.label.values\n",
    "\n",
    "X /= 79483.0\n",
    "X_test /= 79483.0\n",
    "\n",
    "pca = PCA(n_components=0.95,whiten=True)\n",
    "X = pca.fit_transform(X)\n",
    "X_test = pca.transform(X_test)\n",
    "print(X.shape)\n",
    "\n",
    "train_oof = np.zeros((X.shape[0], 10))\n",
    "test_preds = 0\n",
    "train_oof.shape\n",
    "\n",
    "n_splits = 5\n",
    "kf = KFold(n_splits=n_splits, random_state=137, shuffle=True)\n",
    "\n",
    "for jj, (train_index, val_index) in enumerate(kf.split(X)):\n",
    "    print(\"Fitting fold\", jj+1)\n",
    "    train_features = X[train_index]\n",
    "    train_target = Y[train_index]\n",
    "    \n",
    "    val_features = X[val_index]\n",
    "    val_target = Y[val_index]\n",
    "    \n",
    "    model =  LogisticRegression(C=25, solver='lbfgs', multi_class='multinomial', max_iter=100_000)\n",
    "    model.fit(train_features, train_target)\n",
    "    val_pred = model.predict_proba(val_features)\n",
    "    train_oof[val_index] = val_pred\n",
    "    print(\"Fold accuracy:\", accuracy_score(val_target, np.argmax(val_pred, axis=1)))\n",
    "    test_preds += model.predict_proba(X_test)/n_splits\n",
    "    del train_features, train_target, val_features, val_target\n",
    "    gc.collect()\n",
    "    \n",
    "print(accuracy_score(Y, np.argmax(train_oof, axis=1)))"
   ]
  },
  {
   "cell_type": "code",
   "execution_count": 11,
   "metadata": {},
   "outputs": [
    {
     "name": "stdout",
     "output_type": "stream",
     "text": [
      "(42000, 81)\n",
      "Fitting fold 1\n",
      "Fold accuracy: 0.9157142857142857\n",
      "Fitting fold 2\n",
      "Fold accuracy: 0.9169047619047619\n",
      "Fitting fold 3\n",
      "Fold accuracy: 0.9189285714285714\n",
      "Fitting fold 4\n",
      "Fold accuracy: 0.910952380952381\n",
      "Fitting fold 5\n",
      "Fold accuracy: 0.919047619047619\n",
      "0.9163095238095238\n",
      "CPU times: user 6min 7s, sys: 9min 7s, total: 15min 15s\n",
      "Wall time: 29.9 s\n"
     ]
    }
   ],
   "source": [
    "%%time\n",
    "X = train[train.columns[1:-1]].values\n",
    "X_test = test[test.columns[1:]].values\n",
    "Y = train.label.values\n",
    "\n",
    "X /= 79483.0\n",
    "X_test /= 79483.0\n",
    "\n",
    "pca = PCA(n_components=0.9,whiten=True)\n",
    "X = pca.fit_transform(X)\n",
    "X_test = pca.transform(X_test)\n",
    "print(X.shape)\n",
    "\n",
    "train_oof = np.zeros((X.shape[0], 10))\n",
    "test_preds = 0\n",
    "train_oof.shape\n",
    "\n",
    "n_splits = 5\n",
    "kf = KFold(n_splits=n_splits, random_state=137, shuffle=True)\n",
    "\n",
    "for jj, (train_index, val_index) in enumerate(kf.split(X)):\n",
    "    print(\"Fitting fold\", jj+1)\n",
    "    train_features = X[train_index]\n",
    "    train_target = Y[train_index]\n",
    "    \n",
    "    val_features = X[val_index]\n",
    "    val_target = Y[val_index]\n",
    "    \n",
    "    model =  LogisticRegression(C=25, solver='lbfgs', multi_class='multinomial', max_iter=100_000)\n",
    "    model.fit(train_features, train_target)\n",
    "    val_pred = model.predict_proba(val_features)\n",
    "    train_oof[val_index] = val_pred\n",
    "    print(\"Fold accuracy:\", accuracy_score(val_target, np.argmax(val_pred, axis=1)))\n",
    "    test_preds += model.predict_proba(X_test)/n_splits\n",
    "    del train_features, train_target, val_features, val_target\n",
    "    gc.collect()\n",
    "    \n",
    "print(accuracy_score(Y, np.argmax(train_oof, axis=1)))"
   ]
  },
  {
   "cell_type": "code",
   "execution_count": 12,
   "metadata": {},
   "outputs": [
    {
     "name": "stdout",
     "output_type": "stream",
     "text": [
      "(42000, 55)\n",
      "Fitting fold 1\n",
      "Fold accuracy: 0.9104761904761904\n",
      "Fitting fold 2\n",
      "Fold accuracy: 0.9138095238095238\n",
      "Fitting fold 3\n",
      "Fold accuracy: 0.9102380952380953\n",
      "Fitting fold 4\n",
      "Fold accuracy: 0.9064285714285715\n",
      "Fitting fold 5\n",
      "Fold accuracy: 0.9117857142857143\n",
      "0.910547619047619\n",
      "CPU times: user 4min 28s, sys: 7min 28s, total: 11min 56s\n",
      "Wall time: 23.6 s\n"
     ]
    }
   ],
   "source": [
    "%%time\n",
    "X = train[train.columns[1:-1]].values\n",
    "X_test = test[test.columns[1:]].values\n",
    "Y = train.label.values\n",
    "\n",
    "X /= 79483.0\n",
    "X_test /= 79483.0\n",
    "\n",
    "pca = PCA(n_components=0.85,whiten=True)\n",
    "X = pca.fit_transform(X)\n",
    "X_test = pca.transform(X_test)\n",
    "print(X.shape)\n",
    "\n",
    "train_oof = np.zeros((X.shape[0], 10))\n",
    "test_preds = 0\n",
    "train_oof.shape\n",
    "\n",
    "n_splits = 5\n",
    "kf = KFold(n_splits=n_splits, random_state=137, shuffle=True)\n",
    "\n",
    "for jj, (train_index, val_index) in enumerate(kf.split(X)):\n",
    "    print(\"Fitting fold\", jj+1)\n",
    "    train_features = X[train_index]\n",
    "    train_target = Y[train_index]\n",
    "    \n",
    "    val_features = X[val_index]\n",
    "    val_target = Y[val_index]\n",
    "    \n",
    "    model =  LogisticRegression(C=25, solver='lbfgs', multi_class='multinomial', max_iter=100_000)\n",
    "    model.fit(train_features, train_target)\n",
    "    val_pred = model.predict_proba(val_features)\n",
    "    train_oof[val_index] = val_pred\n",
    "    print(\"Fold accuracy:\", accuracy_score(val_target, np.argmax(val_pred, axis=1)))\n",
    "    test_preds += model.predict_proba(X_test)/n_splits\n",
    "    del train_features, train_target, val_features, val_target\n",
    "    gc.collect()\n",
    "    \n",
    "print(accuracy_score(Y, np.argmax(train_oof, axis=1)))"
   ]
  },
  {
   "cell_type": "code",
   "execution_count": 13,
   "metadata": {},
   "outputs": [
    {
     "name": "stdout",
     "output_type": "stream",
     "text": [
      "(42000, 40)\n",
      "Fitting fold 1\n",
      "Fold accuracy: 0.9047619047619048\n",
      "Fitting fold 2\n",
      "Fold accuracy: 0.9063095238095238\n",
      "Fitting fold 3\n",
      "Fold accuracy: 0.9008333333333334\n",
      "Fitting fold 4\n",
      "Fold accuracy: 0.9010714285714285\n",
      "Fitting fold 5\n",
      "Fold accuracy: 0.9057142857142857\n",
      "0.9037380952380952\n",
      "CPU times: user 4min 6s, sys: 7min 7s, total: 11min 14s\n",
      "Wall time: 22.1 s\n"
     ]
    }
   ],
   "source": [
    "%%time\n",
    "X = train[train.columns[1:-1]].values\n",
    "X_test = test[test.columns[1:]].values\n",
    "Y = train.label.values\n",
    "\n",
    "X /= 79483.0\n",
    "X_test /= 79483.0\n",
    "\n",
    "pca = PCA(n_components=0.80,whiten=True)\n",
    "X = pca.fit_transform(X)\n",
    "X_test = pca.transform(X_test)\n",
    "print(X.shape)\n",
    "\n",
    "train_oof = np.zeros((X.shape[0], 10))\n",
    "test_preds = 0\n",
    "train_oof.shape\n",
    "\n",
    "n_splits = 5\n",
    "kf = KFold(n_splits=n_splits, random_state=137, shuffle=True)\n",
    "\n",
    "for jj, (train_index, val_index) in enumerate(kf.split(X)):\n",
    "    print(\"Fitting fold\", jj+1)\n",
    "    train_features = X[train_index]\n",
    "    train_target = Y[train_index]\n",
    "    \n",
    "    val_features = X[val_index]\n",
    "    val_target = Y[val_index]\n",
    "    \n",
    "    model =  LogisticRegression(C=25, solver='lbfgs', multi_class='multinomial', max_iter=100_000)\n",
    "    model.fit(train_features, train_target)\n",
    "    val_pred = model.predict_proba(val_features)\n",
    "    train_oof[val_index] = val_pred\n",
    "    print(\"Fold accuracy:\", accuracy_score(val_target, np.argmax(val_pred, axis=1)))\n",
    "    test_preds += model.predict_proba(X_test)/n_splits\n",
    "    del train_features, train_target, val_features, val_target\n",
    "    gc.collect()\n",
    "    \n",
    "print(accuracy_score(Y, np.argmax(train_oof, axis=1)))"
   ]
  },
  {
   "cell_type": "code",
   "execution_count": 14,
   "metadata": {},
   "outputs": [
    {
     "name": "stdout",
     "output_type": "stream",
     "text": [
      "(42000, 30)\n",
      "Fitting fold 1\n",
      "Fold accuracy: 0.8954761904761904\n",
      "Fitting fold 2\n",
      "Fold accuracy: 0.8958333333333334\n",
      "Fitting fold 3\n",
      "Fold accuracy: 0.8909523809523809\n",
      "Fitting fold 4\n",
      "Fold accuracy: 0.8911904761904762\n",
      "Fitting fold 5\n",
      "Fold accuracy: 0.8951190476190476\n",
      "0.8937142857142857\n",
      "CPU times: user 3min 22s, sys: 6min 26s, total: 9min 49s\n",
      "Wall time: 19.3 s\n"
     ]
    }
   ],
   "source": [
    "%%time\n",
    "X = train[train.columns[1:-1]].values\n",
    "X_test = test[test.columns[1:]].values\n",
    "Y = train.label.values\n",
    "\n",
    "X /= 79483.0\n",
    "X_test /= 79483.0\n",
    "\n",
    "pca = PCA(n_components=0.75,whiten=True)\n",
    "X = pca.fit_transform(X)\n",
    "X_test = pca.transform(X_test)\n",
    "print(X.shape)\n",
    "\n",
    "train_oof = np.zeros((X.shape[0], 10))\n",
    "test_preds = 0\n",
    "train_oof.shape\n",
    "\n",
    "n_splits = 5\n",
    "kf = KFold(n_splits=n_splits, random_state=137, shuffle=True)\n",
    "\n",
    "for jj, (train_index, val_index) in enumerate(kf.split(X)):\n",
    "    print(\"Fitting fold\", jj+1)\n",
    "    train_features = X[train_index]\n",
    "    train_target = Y[train_index]\n",
    "    \n",
    "    val_features = X[val_index]\n",
    "    val_target = Y[val_index]\n",
    "    \n",
    "    model =  LogisticRegression(C=25, solver='lbfgs', multi_class='multinomial', max_iter=100_000)\n",
    "    model.fit(train_features, train_target)\n",
    "    val_pred = model.predict_proba(val_features)\n",
    "    train_oof[val_index] = val_pred\n",
    "    print(\"Fold accuracy:\", accuracy_score(val_target, np.argmax(val_pred, axis=1)))\n",
    "    test_preds += model.predict_proba(X_test)/n_splits\n",
    "    del train_features, train_target, val_features, val_target\n",
    "    gc.collect()\n",
    "    \n",
    "print(accuracy_score(Y, np.argmax(train_oof, axis=1)))"
   ]
  },
  {
   "cell_type": "code",
   "execution_count": null,
   "metadata": {},
   "outputs": [],
   "source": []
  }
 ],
 "metadata": {
  "kernelspec": {
   "display_name": "Python 3 (ipykernel)",
   "language": "python",
   "name": "python3"
  },
  "language_info": {
   "codemirror_mode": {
    "name": "ipython",
    "version": 3
   },
   "file_extension": ".py",
   "mimetype": "text/x-python",
   "name": "python",
   "nbconvert_exporter": "python",
   "pygments_lexer": "ipython3",
   "version": "3.8.10"
  }
 },
 "nbformat": 4,
 "nbformat_minor": 4
}
