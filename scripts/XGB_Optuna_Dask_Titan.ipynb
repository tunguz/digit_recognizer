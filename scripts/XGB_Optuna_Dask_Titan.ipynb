{
 "cells": [
  {
   "cell_type": "code",
   "execution_count": 1,
   "id": "bd19a0fd-172f-45ca-a4b9-e961be401f6d",
   "metadata": {},
   "outputs": [],
   "source": [
    "import os\n",
    "#os.environ[\"CUDA_DEVICE_ORDER\"]=\"PCI_BUS_ID\"\n",
    "#os.environ[\"CUDA_VISIBLE_DEVICES\"]=\"0, 1\""
   ]
  },
  {
   "cell_type": "code",
   "execution_count": 2,
   "id": "2fce9d4a-a8b2-45e7-9506-b77821911a0a",
   "metadata": {},
   "outputs": [
    {
     "data": {
      "text/plain": [
       "'2022.03.0'"
      ]
     },
     "execution_count": 2,
     "metadata": {},
     "output_type": "execute_result"
    }
   ],
   "source": [
    "from dask.distributed import Client\n",
    "from dask_cuda import LocalCUDACluster\n",
    "from dask import dataframe as dd\n",
    "import pandas as pd\n",
    "import xgboost as xgb\n",
    "from sklearn.model_selection import KFold, train_test_split\n",
    "from sklearn.metrics import accuracy_score\n",
    "from sklearn.preprocessing import StandardScaler\n",
    "from sklearn.preprocessing import LabelEncoder\n",
    "import optuna\n",
    "import gc\n",
    "import dask\n",
    "dask.__version__"
   ]
  },
  {
   "cell_type": "code",
   "execution_count": 3,
   "id": "9c9b1d12-98d9-40c8-b392-7fa23ba4d123",
   "metadata": {},
   "outputs": [
    {
     "data": {
      "text/plain": [
       "'1.6.1'"
      ]
     },
     "execution_count": 3,
     "metadata": {},
     "output_type": "execute_result"
    }
   ],
   "source": [
    "xgb.__version__"
   ]
  },
  {
   "cell_type": "code",
   "execution_count": 4,
   "id": "83cc1ded-e05c-4e26-b9bd-49147be6579e",
   "metadata": {},
   "outputs": [
    {
     "name": "stdout",
     "output_type": "stream",
     "text": [
      "Mon May 16 14:04:41 2022       \n",
      "+-----------------------------------------------------------------------------+\n",
      "| NVIDIA-SMI 470.57.02    Driver Version: 470.57.02    CUDA Version: 11.4     |\n",
      "|-------------------------------+----------------------+----------------------+\n",
      "| GPU  Name        Persistence-M| Bus-Id        Disp.A | Volatile Uncorr. ECC |\n",
      "| Fan  Temp  Perf  Pwr:Usage/Cap|         Memory-Usage | GPU-Util  Compute M. |\n",
      "|                               |                      |               MIG M. |\n",
      "|===============================+======================+======================|\n",
      "|   0  NVIDIA TITAN RTX    On   | 00000000:09:00.0 Off |                  N/A |\n",
      "| 41%   31C    P8    28W / 280W |      5MiB / 24220MiB |      0%      Default |\n",
      "|                               |                      |                  N/A |\n",
      "+-------------------------------+----------------------+----------------------+\n",
      "|   1  NVIDIA TITAN RTX    On   | 00000000:41:00.0 Off |                  N/A |\n",
      "| 41%   31C    P8    32W / 280W |    108MiB / 24217MiB |      0%      Default |\n",
      "|                               |                      |                  N/A |\n",
      "+-------------------------------+----------------------+----------------------+\n",
      "                                                                               \n",
      "+-----------------------------------------------------------------------------+\n",
      "| Processes:                                                                  |\n",
      "|  GPU   GI   CI        PID   Type   Process name                  GPU Memory |\n",
      "|        ID   ID                                                   Usage      |\n",
      "|=============================================================================|\n",
      "|    0   N/A  N/A      1254      G   /usr/lib/xorg/Xorg                  4MiB |\n",
      "|    1   N/A  N/A      1254      G   /usr/lib/xorg/Xorg                 82MiB |\n",
      "|    1   N/A  N/A      1500      G   /usr/bin/gnome-shell               12MiB |\n",
      "|    1   N/A  N/A      6719      G   ...mviewer/tv_bin/TeamViewer       11MiB |\n",
      "+-----------------------------------------------------------------------------+\n"
     ]
    }
   ],
   "source": [
    "!nvidia-smi"
   ]
  },
  {
   "cell_type": "code",
   "execution_count": 5,
   "id": "d31cebf5-cd3b-4da3-af8a-0b146d310d3f",
   "metadata": {},
   "outputs": [
    {
     "name": "stdout",
     "output_type": "stream",
     "text": [
      "GPU 0: NVIDIA TITAN RTX (UUID: GPU-0eb32f58-b8d5-17c0-e952-f4ec26a9353f)\n",
      "GPU 1: NVIDIA TITAN RTX (UUID: GPU-50aeb092-88f5-4e0b-7f73-32741666f319)\n"
     ]
    }
   ],
   "source": [
    "!nvidia-smi -L"
   ]
  },
  {
   "cell_type": "code",
   "execution_count": 6,
   "id": "04f41c9b-29c5-41a6-bde2-e57e56f8f5ee",
   "metadata": {},
   "outputs": [],
   "source": [
    "train_x = dd.read_csv('../input/xgtrain.csv')\n",
    "test_x = dd.read_csv('../input/xgval.csv')"
   ]
  },
  {
   "cell_type": "code",
   "execution_count": 7,
   "id": "26eb0c40-0277-4cc8-ae26-f64bcbb4324d",
   "metadata": {},
   "outputs": [],
   "source": [
    "train_y = train_x['target']\n",
    "train_x = train_x[train_x.columns.difference(['target'])]\n",
    "\n",
    "test_y = test_x['target']\n",
    "test_x = test_x[test_x.columns.difference(['target'])]"
   ]
  },
  {
   "cell_type": "code",
   "execution_count": 8,
   "id": "6bee8870-b9e8-47ba-8714-0f16c19b734a",
   "metadata": {},
   "outputs": [
    {
     "name": "stderr",
     "output_type": "stream",
     "text": [
      "2022-05-16 14:04:48,388 - distributed.preloading - INFO - Import preload module: dask_cuda.initialize\n",
      "2022-05-16 14:04:48,394 - distributed.preloading - INFO - Import preload module: dask_cuda.initialize\n"
     ]
    }
   ],
   "source": [
    "cluster = LocalCUDACluster(CUDA_VISIBLE_DEVICES=[\"GPU-0eb32f58-b8d5-17c0-e952-f4ec26a9353f\",\n",
    "                                                 \"GPU-50aeb092-88f5-4e0b-7f73-32741666f319\"])\n",
    "client = Client(cluster)\n"
   ]
  },
  {
   "cell_type": "code",
   "execution_count": 9,
   "id": "fd6cc84c-af12-4219-b019-3b7022a7d4b9",
   "metadata": {},
   "outputs": [],
   "source": [
    "dtrain = xgb.dask.DaskDMatrix(client, train_x, train_y)"
   ]
  },
  {
   "cell_type": "code",
   "execution_count": 10,
   "id": "c9b61cd3-1d42-41a0-804e-c1235953f19c",
   "metadata": {},
   "outputs": [],
   "source": [
    "dtest = xgb.dask.DaskDMatrix(client, test_x, test_y)"
   ]
  },
  {
   "cell_type": "code",
   "execution_count": 11,
   "id": "74319c68-d47c-4907-bd68-28e94daab554",
   "metadata": {},
   "outputs": [],
   "source": [
    "num_round = 1000"
   ]
  },
  {
   "cell_type": "code",
   "execution_count": 21,
   "id": "3638d8a1-252b-4dba-9786-2786aa47defd",
   "metadata": {},
   "outputs": [],
   "source": [
    "def objective(trial):\n",
    "        \n",
    "    params = {\n",
    "        'objective': trial.suggest_categorical('objective',['multi:softmax']), \n",
    "        'tree_method': trial.suggest_categorical('tree_method',['gpu_hist']),  # 'gpu_hist','hist'\n",
    "        'lambda': trial.suggest_loguniform('lambda',1e-3, 10.0),\n",
    "        'alpha': trial.suggest_loguniform('alpha',1e-3, 10.0),\n",
    "        'colsample_bytree': trial.suggest_uniform('colsample_bytree', 0.3, 1.0),\n",
    "        'subsample': trial.suggest_uniform('subsample', 0.4, 1.0),\n",
    "        'learning_rate': trial.suggest_loguniform('learning_rate', 0.001, 0.1),\n",
    "        #'n_estimators': trial.suggest_categorical('n_estimators', [1000]),\n",
    "        'max_depth': trial.suggest_int('max_depth', 2, 25),\n",
    "        #'random_state': trial.suggest_categorical('random_state', [24,48,2020]),\n",
    "        'min_child_weight': trial.suggest_int('min_child_weight', 1, 300),\n",
    "        'eval_metric': trial.suggest_categorical('eval_metric',['merror']),\n",
    "        'num_class': 10,\n",
    "\n",
    "    }\n",
    "\n",
    "    output = xgb.dask.train(client, params, dtrain, num_round)\n",
    "    \n",
    "    booster = output['booster']  # booster is the trained model\n",
    "    booster.set_param({'predictor': 'gpu_predictor'})\n",
    "\n",
    "    predictions = xgb.dask.predict(client, booster, dtest)\n",
    "    \n",
    "    predictions = predictions.compute()\n",
    "\n",
    "    acc = accuracy_score(test_y, predictions)\n",
    "    \n",
    "    return acc"
   ]
  },
  {
   "cell_type": "code",
   "execution_count": 22,
   "id": "d147411e-7115-4d00-8a4a-a503c96b3a52",
   "metadata": {},
   "outputs": [
    {
     "name": "stderr",
     "output_type": "stream",
     "text": [
      "\u001b[32m[I 2022-05-16 14:13:59,462]\u001b[0m A new study created in memory with name: no-name-50e80f5f-2857-4db8-a053-2b95f3c92798\u001b[0m\n"
     ]
    }
   ],
   "source": [
    "study = optuna.create_study(direction='maximize')"
   ]
  },
  {
   "cell_type": "code",
   "execution_count": 23,
   "id": "5fdded1a-28b1-4bcd-a994-4b7b12208e4f",
   "metadata": {},
   "outputs": [
    {
     "name": "stderr",
     "output_type": "stream",
     "text": [
      "[14:14:00] task [xgboost.dask]:tcp://127.0.0.1:41775 got new rank 0\n",
      "[14:14:00] task [xgboost.dask]:tcp://127.0.0.1:45717 got new rank 1\n",
      "\u001b[32m[I 2022-05-16 14:14:20,464]\u001b[0m Trial 0 finished with value: 0.8007142857142857 and parameters: {'objective': 'multi:softmax', 'tree_method': 'gpu_hist', 'lambda': 0.1923775268189964, 'alpha': 0.33594703703369716, 'colsample_bytree': 0.46700490176040155, 'subsample': 0.9411945915990364, 'learning_rate': 0.0016194177849045126, 'max_depth': 2, 'min_child_weight': 238, 'eval_metric': 'merror'}. Best is trial 0 with value: 0.8007142857142857.\u001b[0m\n",
      "[14:14:20] task [xgboost.dask]:tcp://127.0.0.1:41775 got new rank 0\n",
      "[14:14:20] task [xgboost.dask]:tcp://127.0.0.1:45717 got new rank 1\n",
      "\u001b[32m[I 2022-05-16 14:24:53,178]\u001b[0m Trial 1 finished with value: 0.8563095238095239 and parameters: {'objective': 'multi:softmax', 'tree_method': 'gpu_hist', 'lambda': 4.716807716607245, 'alpha': 8.845853499502253, 'colsample_bytree': 0.9639282539347016, 'subsample': 0.5668230954447968, 'learning_rate': 0.0013257229819556096, 'max_depth': 22, 'min_child_weight': 138, 'eval_metric': 'merror'}. Best is trial 1 with value: 0.8563095238095239.\u001b[0m\n"
     ]
    },
    {
     "name": "stdout",
     "output_type": "stream",
     "text": [
      "CPU times: user 16 s, sys: 8.39 s, total: 24.4 s\n",
      "Wall time: 10min 52s\n"
     ]
    }
   ],
   "source": [
    "%%time\n",
    "study.optimize(objective, n_trials=2)"
   ]
  },
  {
   "cell_type": "code",
   "execution_count": 24,
   "id": "4f0cc26e-d436-4508-97e1-396e04b0493d",
   "metadata": {},
   "outputs": [
    {
     "name": "stderr",
     "output_type": "stream",
     "text": [
      "[14:26:51] task [xgboost.dask]:tcp://127.0.0.1:45717 got new rank 0\n",
      "[14:26:51] task [xgboost.dask]:tcp://127.0.0.1:41775 got new rank 1\n",
      "\u001b[32m[I 2022-05-16 14:29:45,448]\u001b[0m Trial 2 finished with value: 0.9289285714285714 and parameters: {'objective': 'multi:softmax', 'tree_method': 'gpu_hist', 'lambda': 0.005919041577580791, 'alpha': 0.0820343866494112, 'colsample_bytree': 0.6417881674023326, 'subsample': 0.5730178342410559, 'learning_rate': 0.06801008292366051, 'max_depth': 20, 'min_child_weight': 212, 'eval_metric': 'merror'}. Best is trial 2 with value: 0.9289285714285714.\u001b[0m\n",
      "[14:29:45] task [xgboost.dask]:tcp://127.0.0.1:45717 got new rank 0\n",
      "[14:29:45] task [xgboost.dask]:tcp://127.0.0.1:41775 got new rank 1\n",
      "\u001b[32m[I 2022-05-16 14:31:15,819]\u001b[0m Trial 3 finished with value: 0.9291666666666667 and parameters: {'objective': 'multi:softmax', 'tree_method': 'gpu_hist', 'lambda': 1.5431089523933939, 'alpha': 0.003280718225373605, 'colsample_bytree': 0.43859313480421047, 'subsample': 0.6668485470994432, 'learning_rate': 0.0038715402856461635, 'max_depth': 15, 'min_child_weight': 72, 'eval_metric': 'merror'}. Best is trial 3 with value: 0.9291666666666667.\u001b[0m\n",
      "[14:31:15] task [xgboost.dask]:tcp://127.0.0.1:45717 got new rank 0\n",
      "[14:31:15] task [xgboost.dask]:tcp://127.0.0.1:41775 got new rank 1\n",
      "\u001b[32m[I 2022-05-16 14:32:10,028]\u001b[0m Trial 4 finished with value: 0.9146428571428571 and parameters: {'objective': 'multi:softmax', 'tree_method': 'gpu_hist', 'lambda': 0.06270814411324944, 'alpha': 0.6788819086232816, 'colsample_bytree': 0.4752395081650044, 'subsample': 0.8150834144707882, 'learning_rate': 0.013471235560685815, 'max_depth': 17, 'min_child_weight': 299, 'eval_metric': 'merror'}. Best is trial 3 with value: 0.9291666666666667.\u001b[0m\n",
      "[14:32:10] task [xgboost.dask]:tcp://127.0.0.1:45717 got new rank 0\n",
      "[14:32:10] task [xgboost.dask]:tcp://127.0.0.1:41775 got new rank 1\n",
      "\u001b[32m[I 2022-05-16 14:32:44,639]\u001b[0m Trial 5 finished with value: 0.8264285714285714 and parameters: {'objective': 'multi:softmax', 'tree_method': 'gpu_hist', 'lambda': 0.008676035066847991, 'alpha': 4.371302482182996, 'colsample_bytree': 0.34878648916750277, 'subsample': 0.45935429443670883, 'learning_rate': 0.001371340852182719, 'max_depth': 10, 'min_child_weight': 258, 'eval_metric': 'merror'}. Best is trial 3 with value: 0.9291666666666667.\u001b[0m\n",
      "[14:32:44] task [xgboost.dask]:tcp://127.0.0.1:45717 got new rank 0\n",
      "[14:32:44] task [xgboost.dask]:tcp://127.0.0.1:41775 got new rank 1\n",
      "\u001b[32m[I 2022-05-16 14:35:22,346]\u001b[0m Trial 6 finished with value: 0.9492857142857143 and parameters: {'objective': 'multi:softmax', 'tree_method': 'gpu_hist', 'lambda': 8.336426080030195, 'alpha': 0.04582724185341156, 'colsample_bytree': 0.47301009830096863, 'subsample': 0.9639433430312708, 'learning_rate': 0.003676072731070942, 'max_depth': 14, 'min_child_weight': 23, 'eval_metric': 'merror'}. Best is trial 6 with value: 0.9492857142857143.\u001b[0m\n",
      "[14:35:22] task [xgboost.dask]:tcp://127.0.0.1:45717 got new rank 0\n",
      "[14:35:22] task [xgboost.dask]:tcp://127.0.0.1:41775 got new rank 1\n",
      "\u001b[32m[I 2022-05-16 14:43:43,058]\u001b[0m Trial 7 finished with value: 0.9646428571428571 and parameters: {'objective': 'multi:softmax', 'tree_method': 'gpu_hist', 'lambda': 0.30579484153852804, 'alpha': 0.37433614218092565, 'colsample_bytree': 0.8121448041499857, 'subsample': 0.7290819934809207, 'learning_rate': 0.007533984870213267, 'max_depth': 21, 'min_child_weight': 13, 'eval_metric': 'merror'}. Best is trial 7 with value: 0.9646428571428571.\u001b[0m\n",
      "[14:43:43] task [xgboost.dask]:tcp://127.0.0.1:41775 got new rank 0\n",
      "[14:43:43] task [xgboost.dask]:tcp://127.0.0.1:45717 got new rank 1\n",
      "\u001b[32m[I 2022-05-16 14:45:32,266]\u001b[0m Trial 8 finished with value: 0.9522619047619048 and parameters: {'objective': 'multi:softmax', 'tree_method': 'gpu_hist', 'lambda': 9.148469313951177, 'alpha': 0.008739430689170146, 'colsample_bytree': 0.9052518785710169, 'subsample': 0.7772968389257864, 'learning_rate': 0.07376940263429928, 'max_depth': 19, 'min_child_weight': 141, 'eval_metric': 'merror'}. Best is trial 7 with value: 0.9646428571428571.\u001b[0m\n",
      "[14:45:32] task [xgboost.dask]:tcp://127.0.0.1:45717 got new rank 0\n",
      "[14:45:32] task [xgboost.dask]:tcp://127.0.0.1:41775 got new rank 1\n",
      "\u001b[32m[I 2022-05-16 14:46:19,820]\u001b[0m Trial 9 finished with value: 0.9635714285714285 and parameters: {'objective': 'multi:softmax', 'tree_method': 'gpu_hist', 'lambda': 0.5226260456798995, 'alpha': 0.005414332843909574, 'colsample_bytree': 0.6105185867821044, 'subsample': 0.6368139261091117, 'learning_rate': 0.04462133614172045, 'max_depth': 14, 'min_child_weight': 53, 'eval_metric': 'merror'}. Best is trial 7 with value: 0.9646428571428571.\u001b[0m\n",
      "[14:46:19] task [xgboost.dask]:tcp://127.0.0.1:45717 got new rank 0\n",
      "[14:46:19] task [xgboost.dask]:tcp://127.0.0.1:41775 got new rank 1\n",
      "\u001b[32m[I 2022-05-16 16:06:29,729]\u001b[0m Trial 10 finished with value: 0.9701190476190477 and parameters: {'objective': 'multi:softmax', 'tree_method': 'gpu_hist', 'lambda': 0.04501505448750711, 'alpha': 1.0049798776881087, 'colsample_bytree': 0.7990405169128981, 'subsample': 0.8147287405951418, 'learning_rate': 0.012742272816970794, 'max_depth': 25, 'min_child_weight': 4, 'eval_metric': 'merror'}. Best is trial 10 with value: 0.9701190476190477.\u001b[0m\n",
      "[16:06:29] task [xgboost.dask]:tcp://127.0.0.1:41775 got new rank 0\n",
      "[16:06:29] task [xgboost.dask]:tcp://127.0.0.1:45717 got new rank 1\n",
      "\u001b[32m[I 2022-05-16 17:25:00,798]\u001b[0m Trial 11 finished with value: 0.9703571428571428 and parameters: {'objective': 'multi:softmax', 'tree_method': 'gpu_hist', 'lambda': 0.04251912313248485, 'alpha': 0.8322056507755459, 'colsample_bytree': 0.8014263835879731, 'subsample': 0.8082641317480762, 'learning_rate': 0.01596018880676191, 'max_depth': 25, 'min_child_weight': 11, 'eval_metric': 'merror'}. Best is trial 11 with value: 0.9703571428571428.\u001b[0m\n",
      "[17:25:00] task [xgboost.dask]:tcp://127.0.0.1:45717 got new rank 0\n",
      "[17:25:00] task [xgboost.dask]:tcp://127.0.0.1:41775 got new rank 1\n",
      "\u001b[32m[I 2022-05-16 18:41:54,644]\u001b[0m Trial 12 finished with value: 0.9546428571428571 and parameters: {'objective': 'multi:softmax', 'tree_method': 'gpu_hist', 'lambda': 0.031874841399753294, 'alpha': 1.8393188167508492, 'colsample_bytree': 0.7724805353938967, 'subsample': 0.8530309356300707, 'learning_rate': 0.021152949338640505, 'max_depth': 25, 'min_child_weight': 95, 'eval_metric': 'merror'}. Best is trial 11 with value: 0.9703571428571428.\u001b[0m\n",
      "[18:41:54] task [xgboost.dask]:tcp://127.0.0.1:45717 got new rank 0\n",
      "[18:41:54] task [xgboost.dask]:tcp://127.0.0.1:41775 got new rank 1\n",
      "\u001b[32m[I 2022-05-16 20:01:31,655]\u001b[0m Trial 13 finished with value: 0.9701190476190477 and parameters: {'objective': 'multi:softmax', 'tree_method': 'gpu_hist', 'lambda': 0.0022300503683538855, 'alpha': 1.6404013432415008, 'colsample_bytree': 0.7704432764449827, 'subsample': 0.8793311925563164, 'learning_rate': 0.03072567524647158, 'max_depth': 25, 'min_child_weight': 1, 'eval_metric': 'merror'}. Best is trial 11 with value: 0.9703571428571428.\u001b[0m\n",
      "[20:01:31] task [xgboost.dask]:tcp://127.0.0.1:45717 got new rank 0\n",
      "[20:01:31] task [xgboost.dask]:tcp://127.0.0.1:41775 got new rank 1\n",
      "\u001b[32m[I 2022-05-16 20:02:42,960]\u001b[0m Trial 14 finished with value: 0.9414285714285714 and parameters: {'objective': 'multi:softmax', 'tree_method': 'gpu_hist', 'lambda': 0.029299251667676027, 'alpha': 0.027389565099228127, 'colsample_bytree': 0.8558253181875417, 'subsample': 0.7349898258033613, 'learning_rate': 0.009596857694323504, 'max_depth': 8, 'min_child_weight': 103, 'eval_metric': 'merror'}. Best is trial 11 with value: 0.9703571428571428.\u001b[0m\n",
      "[20:02:42] task [xgboost.dask]:tcp://127.0.0.1:45717 got new rank 0\n",
      "[20:02:42] task [xgboost.dask]:tcp://127.0.0.1:41775 got new rank 1\n",
      "\u001b[32m[I 2022-05-16 20:23:04,935]\u001b[0m Trial 15 finished with value: 0.9626190476190476 and parameters: {'objective': 'multi:softmax', 'tree_method': 'gpu_hist', 'lambda': 0.014195399965917323, 'alpha': 0.19516235983877053, 'colsample_bytree': 0.6649516440054993, 'subsample': 0.9054587462527175, 'learning_rate': 0.017669752929188886, 'max_depth': 23, 'min_child_weight': 53, 'eval_metric': 'merror'}. Best is trial 11 with value: 0.9703571428571428.\u001b[0m\n",
      "[20:23:04] task [xgboost.dask]:tcp://127.0.0.1:41775 got new rank 0\n",
      "[20:23:04] task [xgboost.dask]:tcp://127.0.0.1:45717 got new rank 1\n",
      "\u001b[32m[I 2022-05-16 20:25:56,757]\u001b[0m Trial 16 finished with value: 0.955595238095238 and parameters: {'objective': 'multi:softmax', 'tree_method': 'gpu_hist', 'lambda': 0.0011314790263161013, 'alpha': 1.0620158281716539, 'colsample_bytree': 0.7183156729468563, 'subsample': 0.9983336062283807, 'learning_rate': 0.006975472685999258, 'max_depth': 18, 'min_child_weight': 40, 'eval_metric': 'merror'}. Best is trial 11 with value: 0.9703571428571428.\u001b[0m\n",
      "[20:25:56] task [xgboost.dask]:tcp://127.0.0.1:45717 got new rank 0\n",
      "[20:25:56] task [xgboost.dask]:tcp://127.0.0.1:41775 got new rank 1\n",
      "\u001b[32m[I 2022-05-16 20:26:39,356]\u001b[0m Trial 17 finished with value: 0.9458333333333333 and parameters: {'objective': 'multi:softmax', 'tree_method': 'gpu_hist', 'lambda': 0.0011705544361217401, 'alpha': 2.959985261858783, 'colsample_bytree': 0.989604741143394, 'subsample': 0.8788766587753505, 'learning_rate': 0.03265380352130309, 'max_depth': 10, 'min_child_weight': 166, 'eval_metric': 'merror'}. Best is trial 11 with value: 0.9703571428571428.\u001b[0m\n",
      "[20:26:39] task [xgboost.dask]:tcp://127.0.0.1:45717 got new rank 0\n",
      "[20:26:39] task [xgboost.dask]:tcp://127.0.0.1:41775 got new rank 1\n",
      "\u001b[32m[I 2022-05-16 21:43:14,569]\u001b[0m Trial 18 finished with value: 0.9413095238095238 and parameters: {'objective': 'multi:softmax', 'tree_method': 'gpu_hist', 'lambda': 0.0035962407417676322, 'alpha': 0.001424459757076966, 'colsample_bytree': 0.569906443740687, 'subsample': 0.4011008939110285, 'learning_rate': 0.031323146031864764, 'max_depth': 25, 'min_child_weight': 96, 'eval_metric': 'merror'}. Best is trial 11 with value: 0.9703571428571428.\u001b[0m\n",
      "[21:43:14] task [xgboost.dask]:tcp://127.0.0.1:45717 got new rank 0\n",
      "[21:43:14] task [xgboost.dask]:tcp://127.0.0.1:41775 got new rank 1\n",
      "\u001b[32m[I 2022-05-16 21:43:36,453]\u001b[0m Trial 19 finished with value: 0.9223809523809524 and parameters: {'objective': 'multi:softmax', 'tree_method': 'gpu_hist', 'lambda': 0.0029803928131025685, 'alpha': 8.217012705771872, 'colsample_bytree': 0.7223395949145149, 'subsample': 0.7849305066994928, 'learning_rate': 0.027558416098181816, 'max_depth': 2, 'min_child_weight': 182, 'eval_metric': 'merror'}. Best is trial 11 with value: 0.9703571428571428.\u001b[0m\n",
      "[21:43:36] task [xgboost.dask]:tcp://127.0.0.1:45717 got new rank 0\n",
      "[21:43:36] task [xgboost.dask]:tcp://127.0.0.1:41775 got new rank 1\n",
      "\u001b[32m[I 2022-05-16 22:13:27,736]\u001b[0m Trial 20 finished with value: 0.9648809523809524 and parameters: {'objective': 'multi:softmax', 'tree_method': 'gpu_hist', 'lambda': 0.1155191398947052, 'alpha': 0.21000622671070335, 'colsample_bytree': 0.877848038503876, 'subsample': 0.8233479843289365, 'learning_rate': 0.00486729888142448, 'max_depth': 23, 'min_child_weight': 2, 'eval_metric': 'merror'}. Best is trial 11 with value: 0.9703571428571428.\u001b[0m\n",
      "[22:13:27] task [xgboost.dask]:tcp://127.0.0.1:41775 got new rank 0\n",
      "[22:13:27] task [xgboost.dask]:tcp://127.0.0.1:45717 got new rank 1\n",
      "\u001b[32m[I 2022-05-16 23:32:26,326]\u001b[0m Trial 21 finished with value: 0.9705952380952381 and parameters: {'objective': 'multi:softmax', 'tree_method': 'gpu_hist', 'lambda': 0.021387924927030275, 'alpha': 0.9403405830104741, 'colsample_bytree': 0.7834490293468569, 'subsample': 0.9023717076899739, 'learning_rate': 0.014286184504082646, 'max_depth': 25, 'min_child_weight': 8, 'eval_metric': 'merror'}. Best is trial 21 with value: 0.9705952380952381.\u001b[0m\n",
      "[23:32:26] task [xgboost.dask]:tcp://127.0.0.1:41775 got new rank 0\n",
      "[23:32:26] task [xgboost.dask]:tcp://127.0.0.1:45717 got new rank 1\n",
      "\u001b[32m[I 2022-05-16 23:52:27,216]\u001b[0m Trial 22 finished with value: 0.968452380952381 and parameters: {'objective': 'multi:softmax', 'tree_method': 'gpu_hist', 'lambda': 0.013658909487907846, 'alpha': 1.8390573527641496, 'colsample_bytree': 0.7357209911143912, 'subsample': 0.9013140395592119, 'learning_rate': 0.04999576514055718, 'max_depth': 23, 'min_child_weight': 36, 'eval_metric': 'merror'}. Best is trial 21 with value: 0.9705952380952381.\u001b[0m\n",
      "[23:52:27] task [xgboost.dask]:tcp://127.0.0.1:45717 got new rank 0\n",
      "[23:52:27] task [xgboost.dask]:tcp://127.0.0.1:41775 got new rank 1\n",
      "\u001b[32m[I 2022-05-16 23:58:31,061]\u001b[0m Trial 23 finished with value: 0.9578571428571429 and parameters: {'objective': 'multi:softmax', 'tree_method': 'gpu_hist', 'lambda': 0.021106339728675424, 'alpha': 0.5583745224756, 'colsample_bytree': 0.9128092089344385, 'subsample': 0.9193376561928821, 'learning_rate': 0.018399006506614995, 'max_depth': 21, 'min_child_weight': 73, 'eval_metric': 'merror'}. Best is trial 21 with value: 0.9705952380952381.\u001b[0m\n",
      "[23:58:31] task [xgboost.dask]:tcp://127.0.0.1:45717 got new rank 0\n",
      "[23:58:31] task [xgboost.dask]:tcp://127.0.0.1:41775 got new rank 1\n",
      "\u001b[32m[I 2022-05-17 01:21:14,139]\u001b[0m Trial 24 finished with value: 0.9666666666666667 and parameters: {'objective': 'multi:softmax', 'tree_method': 'gpu_hist', 'lambda': 0.0028148085778432995, 'alpha': 3.449772768991016, 'colsample_bytree': 0.8419818687251086, 'subsample': 0.8703172482598549, 'learning_rate': 0.0123950646663106, 'max_depth': 25, 'min_child_weight': 1, 'eval_metric': 'merror'}. Best is trial 21 with value: 0.9705952380952381.\u001b[0m\n",
      "[01:21:14] task [xgboost.dask]:tcp://127.0.0.1:45717 got new rank 0\n",
      "[01:21:14] task [xgboost.dask]:tcp://127.0.0.1:41775 got new rank 1\n",
      "\u001b[32m[I 2022-05-17 01:22:40,964]\u001b[0m Trial 25 finished with value: 0.9703571428571428 and parameters: {'objective': 'multi:softmax', 'tree_method': 'gpu_hist', 'lambda': 0.10754548953794073, 'alpha': 1.5531846635968156, 'colsample_bytree': 0.7680400795041874, 'subsample': 0.9941797158140152, 'learning_rate': 0.04595830889395636, 'max_depth': 17, 'min_child_weight': 29, 'eval_metric': 'merror'}. Best is trial 21 with value: 0.9705952380952381.\u001b[0m\n",
      "[01:22:40] task [xgboost.dask]:tcp://127.0.0.1:41775 got new rank 0\n",
      "[01:22:40] task [xgboost.dask]:tcp://127.0.0.1:45717 got new rank 1\n",
      "\u001b[32m[I 2022-05-17 01:23:38,767]\u001b[0m Trial 26 finished with value: 0.968452380952381 and parameters: {'objective': 'multi:softmax', 'tree_method': 'gpu_hist', 'lambda': 0.0841093662698384, 'alpha': 0.14742718906241545, 'colsample_bytree': 0.5591341620723741, 'subsample': 0.9786902282915602, 'learning_rate': 0.08945202685220288, 'max_depth': 17, 'min_child_weight': 69, 'eval_metric': 'merror'}. Best is trial 21 with value: 0.9705952380952381.\u001b[0m\n",
      "[01:23:38] task [xgboost.dask]:tcp://127.0.0.1:45717 got new rank 0\n",
      "[01:23:38] task [xgboost.dask]:tcp://127.0.0.1:41775 got new rank 1\n",
      "\u001b[32m[I 2022-05-17 01:24:15,017]\u001b[0m Trial 27 finished with value: 0.9579761904761904 and parameters: {'objective': 'multi:softmax', 'tree_method': 'gpu_hist', 'lambda': 0.4964607098697683, 'alpha': 0.07085405127739487, 'colsample_bytree': 0.6951929293995988, 'subsample': 0.9549674636687142, 'learning_rate': 0.0492073144899115, 'max_depth': 5, 'min_child_weight': 119, 'eval_metric': 'merror'}. Best is trial 21 with value: 0.9705952380952381.\u001b[0m\n",
      "[01:24:15] task [xgboost.dask]:tcp://127.0.0.1:45717 got new rank 0\n",
      "[01:24:15] task [xgboost.dask]:tcp://127.0.0.1:41775 got new rank 1\n",
      "\u001b[32m[I 2022-05-17 01:26:55,596]\u001b[0m Trial 28 finished with value: 0.9545238095238096 and parameters: {'objective': 'multi:softmax', 'tree_method': 'gpu_hist', 'lambda': 0.17591353654933825, 'alpha': 0.5223594185444513, 'colsample_bytree': 0.9435209917173586, 'subsample': 0.7499989901079503, 'learning_rate': 0.0062532115608860545, 'max_depth': 12, 'min_child_weight': 32, 'eval_metric': 'merror'}. Best is trial 21 with value: 0.9705952380952381.\u001b[0m\n",
      "[01:26:55] task [xgboost.dask]:tcp://127.0.0.1:45717 got new rank 0\n",
      "[01:26:55] task [xgboost.dask]:tcp://127.0.0.1:41775 got new rank 1\n",
      "\u001b[32m[I 2022-05-17 01:28:23,808]\u001b[0m Trial 29 finished with value: 0.964047619047619 and parameters: {'objective': 'multi:softmax', 'tree_method': 'gpu_hist', 'lambda': 0.1924474164792808, 'alpha': 0.32714645657072505, 'colsample_bytree': 0.8327813575606016, 'subsample': 0.9443747728898583, 'learning_rate': 0.022103908234780048, 'max_depth': 16, 'min_child_weight': 52, 'eval_metric': 'merror'}. Best is trial 21 with value: 0.9705952380952381.\u001b[0m\n",
      "[01:28:23] task [xgboost.dask]:tcp://127.0.0.1:41775 got new rank 0\n",
      "[01:28:23] task [xgboost.dask]:tcp://127.0.0.1:45717 got new rank 1\n",
      "\u001b[32m[I 2022-05-17 01:33:19,931]\u001b[0m Trial 30 finished with value: 0.9396428571428571 and parameters: {'objective': 'multi:softmax', 'tree_method': 'gpu_hist', 'lambda': 1.3843001947118179, 'alpha': 0.019372486766608223, 'colsample_bytree': 0.7605264007606332, 'subsample': 0.8450156808397801, 'learning_rate': 0.002188803328832629, 'max_depth': 19, 'min_child_weight': 26, 'eval_metric': 'merror'}. Best is trial 21 with value: 0.9705952380952381.\u001b[0m\n",
      "[01:33:19] task [xgboost.dask]:tcp://127.0.0.1:45717 got new rank 0\n",
      "[01:33:19] task [xgboost.dask]:tcp://127.0.0.1:41775 got new rank 1\n",
      "\u001b[32m[I 2022-05-17 01:53:47,152]\u001b[0m Trial 31 finished with value: 0.9720238095238095 and parameters: {'objective': 'multi:softmax', 'tree_method': 'gpu_hist', 'lambda': 0.0074006451320005415, 'alpha': 1.483083984217138, 'colsample_bytree': 0.7821701460940226, 'subsample': 0.9221396028587613, 'learning_rate': 0.0421391737385415, 'max_depth': 23, 'min_child_weight': 15, 'eval_metric': 'merror'}. Best is trial 31 with value: 0.9720238095238095.\u001b[0m\n",
      "[01:53:47] task [xgboost.dask]:tcp://127.0.0.1:45717 got new rank 0\n",
      "[01:53:47] task [xgboost.dask]:tcp://127.0.0.1:41775 got new rank 1\n",
      "\u001b[32m[I 2022-05-17 02:04:31,493]\u001b[0m Trial 32 finished with value: 0.9676190476190476 and parameters: {'objective': 'multi:softmax', 'tree_method': 'gpu_hist', 'lambda': 0.007501632240172469, 'alpha': 5.939263026704001, 'colsample_bytree': 0.7981791679903216, 'subsample': 0.9287852658562223, 'learning_rate': 0.048018113701181364, 'max_depth': 22, 'min_child_weight': 23, 'eval_metric': 'merror'}. Best is trial 31 with value: 0.9720238095238095.\u001b[0m\n",
      "[02:04:31] task [xgboost.dask]:tcp://127.0.0.1:41775 got new rank 0\n",
      "[02:04:31] task [xgboost.dask]:tcp://127.0.0.1:45717 got new rank 1\n",
      "\u001b[32m[I 2022-05-17 02:14:48,239]\u001b[0m Trial 33 finished with value: 0.9691666666666666 and parameters: {'objective': 'multi:softmax', 'tree_method': 'gpu_hist', 'lambda': 0.0486305137599797, 'alpha': 1.0865451492657363, 'colsample_bytree': 0.6773141728673542, 'subsample': 0.985936790215089, 'learning_rate': 0.09886760123338482, 'max_depth': 22, 'min_child_weight': 50, 'eval_metric': 'merror'}. Best is trial 31 with value: 0.9720238095238095.\u001b[0m\n",
      "[02:14:48] task [xgboost.dask]:tcp://127.0.0.1:45717 got new rank 0\n",
      "[02:14:48] task [xgboost.dask]:tcp://127.0.0.1:41775 got new rank 1\n",
      "\u001b[32m[I 2022-05-17 02:18:10,855]\u001b[0m Trial 34 finished with value: 0.9642857142857143 and parameters: {'objective': 'multi:softmax', 'tree_method': 'gpu_hist', 'lambda': 0.015637004122313117, 'alpha': 2.0414508322100477, 'colsample_bytree': 0.8740799141315774, 'subsample': 0.9027577801094788, 'learning_rate': 0.03837421138054657, 'max_depth': 20, 'min_child_weight': 69, 'eval_metric': 'merror'}. Best is trial 31 with value: 0.9720238095238095.\u001b[0m\n",
      "[02:18:10] task [xgboost.dask]:tcp://127.0.0.1:45717 got new rank 0\n",
      "[02:18:10] task [xgboost.dask]:tcp://127.0.0.1:41775 got new rank 1\n",
      "\u001b[32m[I 2022-05-17 02:37:44,535]\u001b[0m Trial 35 finished with value: 0.9460714285714286 and parameters: {'objective': 'multi:softmax', 'tree_method': 'gpu_hist', 'lambda': 0.0046902777728859615, 'alpha': 0.30680828732758086, 'colsample_bytree': 0.6316323880751553, 'subsample': 0.9363111601924415, 'learning_rate': 0.06539304849866161, 'max_depth': 23, 'min_child_weight': 206, 'eval_metric': 'merror'}. Best is trial 31 with value: 0.9720238095238095.\u001b[0m\n",
      "[02:37:44] task [xgboost.dask]:tcp://127.0.0.1:45717 got new rank 0\n",
      "[02:37:44] task [xgboost.dask]:tcp://127.0.0.1:41775 got new rank 1\n",
      "\u001b[32m[I 2022-05-17 03:17:15,006]\u001b[0m Trial 36 finished with value: 0.9673809523809523 and parameters: {'objective': 'multi:softmax', 'tree_method': 'gpu_hist', 'lambda': 0.009231253391475736, 'alpha': 0.6808164198852407, 'colsample_bytree': 0.7469602718725163, 'subsample': 0.6853094320063198, 'learning_rate': 0.015686922823707178, 'max_depth': 24, 'min_child_weight': 19, 'eval_metric': 'merror'}. Best is trial 31 with value: 0.9720238095238095.\u001b[0m\n",
      "[03:17:15] task [xgboost.dask]:tcp://127.0.0.1:41775 got new rank 0\n",
      "[03:17:15] task [xgboost.dask]:tcp://127.0.0.1:45717 got new rank 1\n",
      "\u001b[32m[I 2022-05-17 03:23:12,974]\u001b[0m Trial 37 finished with value: 0.9614285714285714 and parameters: {'objective': 'multi:softmax', 'tree_method': 'gpu_hist', 'lambda': 0.10436822595069464, 'alpha': 3.19315083872544, 'colsample_bytree': 0.915245187550429, 'subsample': 0.6223899288694138, 'learning_rate': 0.025251306691661316, 'max_depth': 21, 'min_child_weight': 39, 'eval_metric': 'merror'}. Best is trial 31 with value: 0.9720238095238095.\u001b[0m\n",
      "[03:23:13] task [xgboost.dask]:tcp://127.0.0.1:45717 got new rank 0\n",
      "[03:23:13] task [xgboost.dask]:tcp://127.0.0.1:41775 got new rank 1\n",
      "\u001b[32m[I 2022-05-17 03:23:43,031]\u001b[0m Trial 38 finished with value: 0.9321428571428572 and parameters: {'objective': 'multi:softmax', 'tree_method': 'gpu_hist', 'lambda': 0.026604245535485523, 'alpha': 9.37110073882609, 'colsample_bytree': 0.8052911786800439, 'subsample': 0.7911354164652121, 'learning_rate': 0.06320844452719408, 'max_depth': 12, 'min_child_weight': 256, 'eval_metric': 'merror'}. Best is trial 31 with value: 0.9720238095238095.\u001b[0m\n",
      "[03:23:43] task [xgboost.dask]:tcp://127.0.0.1:45717 got new rank 0\n",
      "[03:23:43] task [xgboost.dask]:tcp://127.0.0.1:41775 got new rank 1\n",
      "\u001b[32m[I 2022-05-17 03:27:22,153]\u001b[0m Trial 39 finished with value: 0.9438095238095238 and parameters: {'objective': 'multi:softmax', 'tree_method': 'gpu_hist', 'lambda': 0.05958162813504197, 'alpha': 5.4727972539192935, 'colsample_bytree': 0.7010579822717772, 'subsample': 0.8416660797514924, 'learning_rate': 0.008565809879528383, 'max_depth': 20, 'min_child_weight': 83, 'eval_metric': 'merror'}. Best is trial 31 with value: 0.9720238095238095.\u001b[0m\n",
      "[03:27:22] task [xgboost.dask]:tcp://127.0.0.1:45717 got new rank 0\n",
      "[03:27:22] task [xgboost.dask]:tcp://127.0.0.1:41775 got new rank 1\n",
      "\u001b[32m[I 2022-05-17 03:28:43,269]\u001b[0m Trial 40 finished with value: 0.9447619047619048 and parameters: {'objective': 'multi:softmax', 'tree_method': 'gpu_hist', 'lambda': 0.1714761140786673, 'alpha': 0.7946931400597655, 'colsample_bytree': 0.6019876632358863, 'subsample': 0.961439576184906, 'learning_rate': 0.010862482056158413, 'max_depth': 17, 'min_child_weight': 126, 'eval_metric': 'merror'}. Best is trial 31 with value: 0.9720238095238095.\u001b[0m\n",
      "[03:28:43] task [xgboost.dask]:tcp://127.0.0.1:45717 got new rank 0\n",
      "[03:28:43] task [xgboost.dask]:tcp://127.0.0.1:41775 got new rank 1\n",
      "\u001b[32m[I 2022-05-17 04:07:47,907]\u001b[0m Trial 41 finished with value: 0.9711904761904762 and parameters: {'objective': 'multi:softmax', 'tree_method': 'gpu_hist', 'lambda': 0.0018702362839547472, 'alpha': 1.551638057807974, 'colsample_bytree': 0.7803592399670166, 'subsample': 0.8759784487114629, 'learning_rate': 0.03673252168610828, 'max_depth': 24, 'min_child_weight': 16, 'eval_metric': 'merror'}. Best is trial 31 with value: 0.9720238095238095.\u001b[0m\n",
      "[04:07:47] task [xgboost.dask]:tcp://127.0.0.1:45717 got new rank 0\n",
      "[04:07:47] task [xgboost.dask]:tcp://127.0.0.1:41775 got new rank 1\n",
      "\u001b[32m[I 2022-05-17 04:46:49,313]\u001b[0m Trial 42 finished with value: 0.9702380952380952 and parameters: {'objective': 'multi:softmax', 'tree_method': 'gpu_hist', 'lambda': 0.00545119357841059, 'alpha': 1.2651020554099797, 'colsample_bytree': 0.8277496913507905, 'subsample': 0.8886674990427806, 'learning_rate': 0.038581921926944686, 'max_depth': 24, 'min_child_weight': 17, 'eval_metric': 'merror'}. Best is trial 31 with value: 0.9720238095238095.\u001b[0m\n",
      "[04:46:49] task [xgboost.dask]:tcp://127.0.0.1:45717 got new rank 0\n",
      "[04:46:49] task [xgboost.dask]:tcp://127.0.0.1:41775 got new rank 1\n",
      "\u001b[32m[I 2022-05-17 05:26:20,005]\u001b[0m Trial 43 finished with value: 0.9670238095238095 and parameters: {'objective': 'multi:softmax', 'tree_method': 'gpu_hist', 'lambda': 0.0018152676864842817, 'alpha': 2.2564230376918606, 'colsample_bytree': 0.772782567564003, 'subsample': 0.5594238502280344, 'learning_rate': 0.015095315098756284, 'max_depth': 24, 'min_child_weight': 13, 'eval_metric': 'merror'}. Best is trial 31 with value: 0.9720238095238095.\u001b[0m\n",
      "[05:26:20] task [xgboost.dask]:tcp://127.0.0.1:45717 got new rank 0\n",
      "[05:26:20] task [xgboost.dask]:tcp://127.0.0.1:41775 got new rank 1\n",
      "\u001b[32m[I 2022-05-17 05:36:27,434]\u001b[0m Trial 44 finished with value: 0.9248809523809524 and parameters: {'objective': 'multi:softmax', 'tree_method': 'gpu_hist', 'lambda': 0.011333770901196614, 'alpha': 0.5866243054647137, 'colsample_bytree': 0.3680985156034274, 'subsample': 0.9345035596796512, 'learning_rate': 0.02403428867123294, 'max_depth': 22, 'min_child_weight': 297, 'eval_metric': 'merror'}. Best is trial 31 with value: 0.9720238095238095.\u001b[0m\n",
      "[05:36:27] task [xgboost.dask]:tcp://127.0.0.1:45717 got new rank 0\n",
      "[05:36:27] task [xgboost.dask]:tcp://127.0.0.1:41775 got new rank 1\n",
      "\u001b[32m[I 2022-05-17 06:14:58,997]\u001b[0m Trial 45 finished with value: 0.9680952380952381 and parameters: {'objective': 'multi:softmax', 'tree_method': 'gpu_hist', 'lambda': 0.038774312117224576, 'alpha': 0.4062306110623427, 'colsample_bytree': 0.8710509712366834, 'subsample': 0.8092934371879305, 'learning_rate': 0.05763529190476268, 'max_depth': 24, 'min_child_weight': 44, 'eval_metric': 'merror'}. Best is trial 31 with value: 0.9720238095238095.\u001b[0m\n",
      "[06:14:59] task [xgboost.dask]:tcp://127.0.0.1:45717 got new rank 0\n",
      "[06:14:59] task [xgboost.dask]:tcp://127.0.0.1:41775 got new rank 1\n",
      "\u001b[32m[I 2022-05-17 06:17:08,869]\u001b[0m Trial 46 finished with value: 0.9641666666666666 and parameters: {'objective': 'multi:softmax', 'tree_method': 'gpu_hist', 'lambda': 0.02261468556990447, 'alpha': 1.370221328279941, 'colsample_bytree': 0.7827559906773679, 'subsample': 0.8638718985822341, 'learning_rate': 0.038706940815205905, 'max_depth': 19, 'min_child_weight': 61, 'eval_metric': 'merror'}. Best is trial 31 with value: 0.9720238095238095.\u001b[0m\n",
      "[06:17:08] task [xgboost.dask]:tcp://127.0.0.1:41775 got new rank 0\n",
      "[06:17:08] task [xgboost.dask]:tcp://127.0.0.1:45717 got new rank 1\n",
      "\u001b[32m[I 2022-05-17 06:18:34,950]\u001b[0m Trial 47 finished with value: 0.9645238095238096 and parameters: {'objective': 'multi:softmax', 'tree_method': 'gpu_hist', 'lambda': 0.006778886913565211, 'alpha': 4.848273920313953, 'colsample_bytree': 0.6475924561483698, 'subsample': 0.765738246802902, 'learning_rate': 0.019063415890277886, 'max_depth': 15, 'min_child_weight': 28, 'eval_metric': 'merror'}. Best is trial 31 with value: 0.9720238095238095.\u001b[0m\n",
      "[06:18:34] task [xgboost.dask]:tcp://127.0.0.1:41775 got new rank 0\n",
      "[06:18:34] task [xgboost.dask]:tcp://127.0.0.1:45717 got new rank 1\n",
      "\u001b[32m[I 2022-05-17 06:24:27,850]\u001b[0m Trial 48 finished with value: 0.9726190476190476 and parameters: {'objective': 'multi:softmax', 'tree_method': 'gpu_hist', 'lambda': 0.07163020406897419, 'alpha': 2.6199076891248936, 'colsample_bytree': 0.7404991799754734, 'subsample': 0.9782294223873874, 'learning_rate': 0.07301023585341306, 'max_depth': 21, 'min_child_weight': 12, 'eval_metric': 'merror'}. Best is trial 48 with value: 0.9726190476190476.\u001b[0m\n",
      "[06:24:27] task [xgboost.dask]:tcp://127.0.0.1:45717 got new rank 0\n",
      "[06:24:27] task [xgboost.dask]:tcp://127.0.0.1:41775 got new rank 1\n",
      "\u001b[32m[I 2022-05-17 06:35:06,273]\u001b[0m Trial 49 finished with value: 0.9713095238095238 and parameters: {'objective': 'multi:softmax', 'tree_method': 'gpu_hist', 'lambda': 0.0017112384725868647, 'alpha': 2.6427384003591246, 'colsample_bytree': 0.7373476125730171, 'subsample': 0.8244300181099493, 'learning_rate': 0.07968554426355642, 'max_depth': 22, 'min_child_weight': 11, 'eval_metric': 'merror'}. Best is trial 48 with value: 0.9726190476190476.\u001b[0m\n",
      "[06:35:06] task [xgboost.dask]:tcp://127.0.0.1:45717 got new rank 0\n",
      "[06:35:06] task [xgboost.dask]:tcp://127.0.0.1:41775 got new rank 1\n",
      "\u001b[32m[I 2022-05-17 06:40:49,535]\u001b[0m Trial 50 finished with value: 0.9701190476190477 and parameters: {'objective': 'multi:softmax', 'tree_method': 'gpu_hist', 'lambda': 0.0022337610742857077, 'alpha': 3.9244877061122514, 'colsample_bytree': 0.6820427182239782, 'subsample': 0.9620316922439014, 'learning_rate': 0.08201016784413344, 'max_depth': 21, 'min_child_weight': 16, 'eval_metric': 'merror'}. Best is trial 48 with value: 0.9726190476190476.\u001b[0m\n",
      "[06:40:49] task [xgboost.dask]:tcp://127.0.0.1:45717 got new rank 0\n",
      "[06:40:49] task [xgboost.dask]:tcp://127.0.0.1:41775 got new rank 1\n",
      "\u001b[32m[I 2022-05-17 06:51:18,762]\u001b[0m Trial 51 finished with value: 0.9708333333333333 and parameters: {'objective': 'multi:softmax', 'tree_method': 'gpu_hist', 'lambda': 0.0015854745072783985, 'alpha': 2.546100795003455, 'colsample_bytree': 0.7410898650515008, 'subsample': 0.9983776186923032, 'learning_rate': 0.07580342420394748, 'max_depth': 22, 'min_child_weight': 30, 'eval_metric': 'merror'}. Best is trial 48 with value: 0.9726190476190476.\u001b[0m\n"
     ]
    },
    {
     "name": "stdout",
     "output_type": "stream",
     "text": [
      "CPU times: user 24min 49s, sys: 10min 57s, total: 35min 46s\n",
      "Wall time: 16h 24min 27s\n"
     ]
    }
   ],
   "source": [
    "%%time\n",
    "study.optimize(objective, n_trials=50)"
   ]
  },
  {
   "cell_type": "code",
   "execution_count": null,
   "id": "6d59e84e-339b-422f-87f8-c8a84ca9f301",
   "metadata": {},
   "outputs": [],
   "source": []
  }
 ],
 "metadata": {
  "kernelspec": {
   "display_name": "Python 3 (ipykernel)",
   "language": "python",
   "name": "python3"
  },
  "language_info": {
   "codemirror_mode": {
    "name": "ipython",
    "version": 3
   },
   "file_extension": ".py",
   "mimetype": "text/x-python",
   "name": "python",
   "nbconvert_exporter": "python",
   "pygments_lexer": "ipython3",
   "version": "3.8.10"
  }
 },
 "nbformat": 4,
 "nbformat_minor": 5
}
