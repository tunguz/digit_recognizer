{
 "cells": [
  {
   "cell_type": "code",
   "execution_count": 1,
   "id": "bd19a0fd-172f-45ca-a4b9-e961be401f6d",
   "metadata": {},
   "outputs": [],
   "source": [
    "import os\n",
    "#os.environ[\"CUDA_DEVICE_ORDER\"]=\"PCI_BUS_ID\"\n",
    "#os.environ[\"CUDA_VISIBLE_DEVICES\"]=\"0, 1\""
   ]
  },
  {
   "cell_type": "code",
   "execution_count": 2,
   "id": "2fce9d4a-a8b2-45e7-9506-b77821911a0a",
   "metadata": {},
   "outputs": [
    {
     "data": {
      "text/plain": [
       "'2022.03.0'"
      ]
     },
     "execution_count": 2,
     "metadata": {},
     "output_type": "execute_result"
    }
   ],
   "source": [
    "from dask.distributed import Client\n",
    "from dask_cuda import LocalCUDACluster\n",
    "from dask import dataframe as dd\n",
    "import pandas as pd\n",
    "import xgboost as xgb\n",
    "from sklearn.model_selection import KFold, train_test_split\n",
    "from sklearn.metrics import accuracy_score\n",
    "from sklearn.preprocessing import StandardScaler\n",
    "from sklearn.preprocessing import LabelEncoder\n",
    "import optuna\n",
    "import gc\n",
    "import dask\n",
    "dask.__version__"
   ]
  },
  {
   "cell_type": "code",
   "execution_count": 3,
   "id": "9c9b1d12-98d9-40c8-b392-7fa23ba4d123",
   "metadata": {},
   "outputs": [
    {
     "data": {
      "text/plain": [
       "'1.6.1'"
      ]
     },
     "execution_count": 3,
     "metadata": {},
     "output_type": "execute_result"
    }
   ],
   "source": [
    "xgb.__version__"
   ]
  },
  {
   "cell_type": "code",
   "execution_count": 4,
   "id": "83cc1ded-e05c-4e26-b9bd-49147be6579e",
   "metadata": {},
   "outputs": [
    {
     "name": "stdout",
     "output_type": "stream",
     "text": [
      "Mon May 16 14:04:41 2022       \n",
      "+-----------------------------------------------------------------------------+\n",
      "| NVIDIA-SMI 470.57.02    Driver Version: 470.57.02    CUDA Version: 11.4     |\n",
      "|-------------------------------+----------------------+----------------------+\n",
      "| GPU  Name        Persistence-M| Bus-Id        Disp.A | Volatile Uncorr. ECC |\n",
      "| Fan  Temp  Perf  Pwr:Usage/Cap|         Memory-Usage | GPU-Util  Compute M. |\n",
      "|                               |                      |               MIG M. |\n",
      "|===============================+======================+======================|\n",
      "|   0  NVIDIA TITAN RTX    On   | 00000000:09:00.0 Off |                  N/A |\n",
      "| 41%   31C    P8    28W / 280W |      5MiB / 24220MiB |      0%      Default |\n",
      "|                               |                      |                  N/A |\n",
      "+-------------------------------+----------------------+----------------------+\n",
      "|   1  NVIDIA TITAN RTX    On   | 00000000:41:00.0 Off |                  N/A |\n",
      "| 41%   31C    P8    32W / 280W |    108MiB / 24217MiB |      0%      Default |\n",
      "|                               |                      |                  N/A |\n",
      "+-------------------------------+----------------------+----------------------+\n",
      "                                                                               \n",
      "+-----------------------------------------------------------------------------+\n",
      "| Processes:                                                                  |\n",
      "|  GPU   GI   CI        PID   Type   Process name                  GPU Memory |\n",
      "|        ID   ID                                                   Usage      |\n",
      "|=============================================================================|\n",
      "|    0   N/A  N/A      1254      G   /usr/lib/xorg/Xorg                  4MiB |\n",
      "|    1   N/A  N/A      1254      G   /usr/lib/xorg/Xorg                 82MiB |\n",
      "|    1   N/A  N/A      1500      G   /usr/bin/gnome-shell               12MiB |\n",
      "|    1   N/A  N/A      6719      G   ...mviewer/tv_bin/TeamViewer       11MiB |\n",
      "+-----------------------------------------------------------------------------+\n"
     ]
    }
   ],
   "source": [
    "!nvidia-smi"
   ]
  },
  {
   "cell_type": "code",
   "execution_count": 5,
   "id": "d31cebf5-cd3b-4da3-af8a-0b146d310d3f",
   "metadata": {},
   "outputs": [
    {
     "name": "stdout",
     "output_type": "stream",
     "text": [
      "GPU 0: NVIDIA TITAN RTX (UUID: GPU-0eb32f58-b8d5-17c0-e952-f4ec26a9353f)\n",
      "GPU 1: NVIDIA TITAN RTX (UUID: GPU-50aeb092-88f5-4e0b-7f73-32741666f319)\n"
     ]
    }
   ],
   "source": [
    "!nvidia-smi -L"
   ]
  },
  {
   "cell_type": "code",
   "execution_count": 6,
   "id": "04f41c9b-29c5-41a6-bde2-e57e56f8f5ee",
   "metadata": {},
   "outputs": [],
   "source": [
    "train_x = dd.read_csv('../input/xgtrain.csv')\n",
    "test_x = dd.read_csv('../input/xgval.csv')"
   ]
  },
  {
   "cell_type": "code",
   "execution_count": 7,
   "id": "26eb0c40-0277-4cc8-ae26-f64bcbb4324d",
   "metadata": {},
   "outputs": [],
   "source": [
    "train_y = train_x['target']\n",
    "train_x = train_x[train_x.columns.difference(['target'])]\n",
    "\n",
    "test_y = test_x['target']\n",
    "test_x = test_x[test_x.columns.difference(['target'])]"
   ]
  },
  {
   "cell_type": "code",
   "execution_count": 8,
   "id": "6bee8870-b9e8-47ba-8714-0f16c19b734a",
   "metadata": {},
   "outputs": [
    {
     "name": "stderr",
     "output_type": "stream",
     "text": [
      "2022-05-16 14:04:48,388 - distributed.preloading - INFO - Import preload module: dask_cuda.initialize\n",
      "2022-05-16 14:04:48,394 - distributed.preloading - INFO - Import preload module: dask_cuda.initialize\n"
     ]
    }
   ],
   "source": [
    "cluster = LocalCUDACluster(CUDA_VISIBLE_DEVICES=[\"GPU-0eb32f58-b8d5-17c0-e952-f4ec26a9353f\",\n",
    "                                                 \"GPU-50aeb092-88f5-4e0b-7f73-32741666f319\"])\n",
    "client = Client(cluster)\n"
   ]
  },
  {
   "cell_type": "code",
   "execution_count": 9,
   "id": "fd6cc84c-af12-4219-b019-3b7022a7d4b9",
   "metadata": {},
   "outputs": [],
   "source": [
    "dtrain = xgb.dask.DaskDMatrix(client, train_x, train_y)"
   ]
  },
  {
   "cell_type": "code",
   "execution_count": 10,
   "id": "c9b61cd3-1d42-41a0-804e-c1235953f19c",
   "metadata": {},
   "outputs": [],
   "source": [
    "dtest = xgb.dask.DaskDMatrix(client, test_x, test_y)"
   ]
  },
  {
   "cell_type": "code",
   "execution_count": 11,
   "id": "74319c68-d47c-4907-bd68-28e94daab554",
   "metadata": {},
   "outputs": [],
   "source": [
    "num_round = 1000"
   ]
  },
  {
   "cell_type": "code",
   "execution_count": 21,
   "id": "3638d8a1-252b-4dba-9786-2786aa47defd",
   "metadata": {},
   "outputs": [],
   "source": [
    "def objective(trial):\n",
    "        \n",
    "    params = {\n",
    "        'objective': trial.suggest_categorical('objective',['multi:softmax']), \n",
    "        'tree_method': trial.suggest_categorical('tree_method',['gpu_hist']),  # 'gpu_hist','hist'\n",
    "        'lambda': trial.suggest_loguniform('lambda',1e-3, 10.0),\n",
    "        'alpha': trial.suggest_loguniform('alpha',1e-3, 10.0),\n",
    "        'colsample_bytree': trial.suggest_uniform('colsample_bytree', 0.3, 1.0),\n",
    "        'subsample': trial.suggest_uniform('subsample', 0.4, 1.0),\n",
    "        'learning_rate': trial.suggest_loguniform('learning_rate', 0.001, 0.1),\n",
    "        #'n_estimators': trial.suggest_categorical('n_estimators', [1000]),\n",
    "        'max_depth': trial.suggest_int('max_depth', 2, 25),\n",
    "        #'random_state': trial.suggest_categorical('random_state', [24,48,2020]),\n",
    "        'min_child_weight': trial.suggest_int('min_child_weight', 1, 300),\n",
    "        'eval_metric': trial.suggest_categorical('eval_metric',['merror']),\n",
    "        'num_class': 10,\n",
    "\n",
    "    }\n",
    "\n",
    "    output = xgb.dask.train(client, params, dtrain, num_round)\n",
    "    \n",
    "    booster = output['booster']  # booster is the trained model\n",
    "    booster.set_param({'predictor': 'gpu_predictor'})\n",
    "\n",
    "    predictions = xgb.dask.predict(client, booster, dtest)\n",
    "    \n",
    "    predictions = predictions.compute()\n",
    "\n",
    "    acc = accuracy_score(test_y, predictions)\n",
    "    \n",
    "    return acc"
   ]
  },
  {
   "cell_type": "code",
   "execution_count": 22,
   "id": "d147411e-7115-4d00-8a4a-a503c96b3a52",
   "metadata": {},
   "outputs": [
    {
     "name": "stderr",
     "output_type": "stream",
     "text": [
      "\u001b[32m[I 2022-05-16 14:13:59,462]\u001b[0m A new study created in memory with name: no-name-50e80f5f-2857-4db8-a053-2b95f3c92798\u001b[0m\n"
     ]
    }
   ],
   "source": [
    "study = optuna.create_study(direction='maximize')"
   ]
  },
  {
   "cell_type": "code",
   "execution_count": 23,
   "id": "5fdded1a-28b1-4bcd-a994-4b7b12208e4f",
   "metadata": {},
   "outputs": [
    {
     "name": "stderr",
     "output_type": "stream",
     "text": [
      "[14:14:00] task [xgboost.dask]:tcp://127.0.0.1:41775 got new rank 0\n",
      "[14:14:00] task [xgboost.dask]:tcp://127.0.0.1:45717 got new rank 1\n",
      "\u001b[32m[I 2022-05-16 14:14:20,464]\u001b[0m Trial 0 finished with value: 0.8007142857142857 and parameters: {'objective': 'multi:softmax', 'tree_method': 'gpu_hist', 'lambda': 0.1923775268189964, 'alpha': 0.33594703703369716, 'colsample_bytree': 0.46700490176040155, 'subsample': 0.9411945915990364, 'learning_rate': 0.0016194177849045126, 'max_depth': 2, 'min_child_weight': 238, 'eval_metric': 'merror'}. Best is trial 0 with value: 0.8007142857142857.\u001b[0m\n",
      "[14:14:20] task [xgboost.dask]:tcp://127.0.0.1:41775 got new rank 0\n",
      "[14:14:20] task [xgboost.dask]:tcp://127.0.0.1:45717 got new rank 1\n",
      "\u001b[32m[I 2022-05-16 14:24:53,178]\u001b[0m Trial 1 finished with value: 0.8563095238095239 and parameters: {'objective': 'multi:softmax', 'tree_method': 'gpu_hist', 'lambda': 4.716807716607245, 'alpha': 8.845853499502253, 'colsample_bytree': 0.9639282539347016, 'subsample': 0.5668230954447968, 'learning_rate': 0.0013257229819556096, 'max_depth': 22, 'min_child_weight': 138, 'eval_metric': 'merror'}. Best is trial 1 with value: 0.8563095238095239.\u001b[0m\n"
     ]
    },
    {
     "name": "stdout",
     "output_type": "stream",
     "text": [
      "CPU times: user 16 s, sys: 8.39 s, total: 24.4 s\n",
      "Wall time: 10min 52s\n"
     ]
    }
   ],
   "source": [
    "%%time\n",
    "study.optimize(objective, n_trials=2)"
   ]
  },
  {
   "cell_type": "code",
   "execution_count": null,
   "id": "4f0cc26e-d436-4508-97e1-396e04b0493d",
   "metadata": {},
   "outputs": [],
   "source": []
  }
 ],
 "metadata": {
  "kernelspec": {
   "display_name": "Python 3 (ipykernel)",
   "language": "python",
   "name": "python3"
  },
  "language_info": {
   "codemirror_mode": {
    "name": "ipython",
    "version": 3
   },
   "file_extension": ".py",
   "mimetype": "text/x-python",
   "name": "python",
   "nbconvert_exporter": "python",
   "pygments_lexer": "ipython3",
   "version": "3.8.10"
  }
 },
 "nbformat": 4,
 "nbformat_minor": 5
}
