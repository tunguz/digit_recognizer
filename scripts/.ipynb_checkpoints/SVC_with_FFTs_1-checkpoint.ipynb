{
 "cells": [
  {
   "cell_type": "code",
   "execution_count": 2,
   "id": "b05a34ea-3cfe-48b1-bdb9-5d956cbd9eb0",
   "metadata": {},
   "outputs": [],
   "source": [
    "import numpy as np # linear algebra\n",
    "import pandas as pd # data processing, CSV file I/O (e.g. pd.read_csv)\n",
    "from sklearn.svm import SVC\n",
    "from sklearn.model_selection import KFold\n",
    "from sklearn.metrics import accuracy_score\n",
    "from sklearn.preprocessing import RobustScaler, MinMaxScaler\n",
    "import gc\n",
    "import os"
   ]
  },
  {
   "cell_type": "code",
   "execution_count": 3,
   "id": "980149c1-1a28-48a6-aa64-b1a259360156",
   "metadata": {},
   "outputs": [],
   "source": [
    "train = pd.read_csv('../input/train_ffts.csv.gz')\n",
    "test = pd.read_csv('../input/test_ffts.csv.gz')\n",
    "submission = pd.read_csv('../input/sample_submission.csv')"
   ]
  },
  {
   "cell_type": "code",
   "execution_count": 4,
   "id": "f4629b2a-4072-4b4f-b7ab-e7e46a91d691",
   "metadata": {},
   "outputs": [],
   "source": [
    "X = train[train.columns[1:-1]].values\n",
    "X_test = test[test.columns[1:]].values\n",
    "Y = train.label.values"
   ]
  },
  {
   "cell_type": "code",
   "execution_count": 5,
   "id": "bb3a2f59-710f-48a6-9d18-5e2c09233dab",
   "metadata": {},
   "outputs": [
    {
     "data": {
      "text/plain": [
       "79483.0"
      ]
     },
     "execution_count": 5,
     "metadata": {},
     "output_type": "execute_result"
    }
   ],
   "source": [
    "X.max()"
   ]
  },
  {
   "cell_type": "code",
   "execution_count": 6,
   "id": "1e20d82f-bdfd-4be9-a9fb-71beaaa7334e",
   "metadata": {},
   "outputs": [
    {
     "data": {
      "text/plain": [
       "-40393.74516055893"
      ]
     },
     "execution_count": 6,
     "metadata": {},
     "output_type": "execute_result"
    }
   ],
   "source": [
    "X.min()"
   ]
  },
  {
   "cell_type": "code",
   "execution_count": 7,
   "id": "b954f69c-c685-438c-8962-1c666c36e4c8",
   "metadata": {},
   "outputs": [
    {
     "data": {
      "text/plain": [
       "70934.0"
      ]
     },
     "execution_count": 7,
     "metadata": {},
     "output_type": "execute_result"
    }
   ],
   "source": [
    "X_test.max()"
   ]
  },
  {
   "cell_type": "code",
   "execution_count": 8,
   "id": "a09590ed-bf22-415b-aa17-ee8ee8a5489b",
   "metadata": {},
   "outputs": [
    {
     "data": {
      "text/plain": [
       "-40394.43510378474"
      ]
     },
     "execution_count": 8,
     "metadata": {},
     "output_type": "execute_result"
    }
   ],
   "source": [
    "X_test.min()"
   ]
  },
  {
   "cell_type": "code",
   "execution_count": 9,
   "id": "ad8dadbe-7f9b-4850-9550-46f1e0360fd1",
   "metadata": {},
   "outputs": [],
   "source": [
    "X /= 79483.0\n",
    "X_test /= 79483.0"
   ]
  },
  {
   "cell_type": "code",
   "execution_count": 10,
   "id": "cbc29427-76df-4ce1-aec5-14622467f89f",
   "metadata": {},
   "outputs": [
    {
     "data": {
      "text/html": [
       "<div>\n",
       "<style scoped>\n",
       "    .dataframe tbody tr th:only-of-type {\n",
       "        vertical-align: middle;\n",
       "    }\n",
       "\n",
       "    .dataframe tbody tr th {\n",
       "        vertical-align: top;\n",
       "    }\n",
       "\n",
       "    .dataframe thead th {\n",
       "        text-align: right;\n",
       "    }\n",
       "</style>\n",
       "<table border=\"1\" class=\"dataframe\">\n",
       "  <thead>\n",
       "    <tr style=\"text-align: right;\">\n",
       "      <th></th>\n",
       "      <th>Unnamed: 0</th>\n",
       "      <th>column0</th>\n",
       "      <th>column1</th>\n",
       "      <th>column2</th>\n",
       "      <th>column3</th>\n",
       "      <th>column4</th>\n",
       "      <th>column5</th>\n",
       "      <th>column6</th>\n",
       "      <th>column7</th>\n",
       "      <th>column8</th>\n",
       "      <th>...</th>\n",
       "      <th>column1559</th>\n",
       "      <th>column1560</th>\n",
       "      <th>column1561</th>\n",
       "      <th>column1562</th>\n",
       "      <th>column1563</th>\n",
       "      <th>column1564</th>\n",
       "      <th>column1565</th>\n",
       "      <th>column1566</th>\n",
       "      <th>column1567</th>\n",
       "      <th>label</th>\n",
       "    </tr>\n",
       "  </thead>\n",
       "  <tbody>\n",
       "    <tr>\n",
       "      <th>0</th>\n",
       "      <td>0</td>\n",
       "      <td>16649.0</td>\n",
       "      <td>-10825.730588</td>\n",
       "      <td>676.963766</td>\n",
       "      <td>2972.747410</td>\n",
       "      <td>-331.791733</td>\n",
       "      <td>-1630.186080</td>\n",
       "      <td>800.741748</td>\n",
       "      <td>80.0</td>\n",
       "      <td>145.728115</td>\n",
       "      <td>...</td>\n",
       "      <td>57.092994</td>\n",
       "      <td>164.158199</td>\n",
       "      <td>331.641365</td>\n",
       "      <td>-466.608810</td>\n",
       "      <td>-749.407401</td>\n",
       "      <td>1916.178001</td>\n",
       "      <td>-1806.720945</td>\n",
       "      <td>1555.701842</td>\n",
       "      <td>-1645.464688</td>\n",
       "      <td>1</td>\n",
       "    </tr>\n",
       "    <tr>\n",
       "      <th>1</th>\n",
       "      <td>1</td>\n",
       "      <td>44609.0</td>\n",
       "      <td>-19817.879430</td>\n",
       "      <td>-11899.700821</td>\n",
       "      <td>7152.010894</td>\n",
       "      <td>6192.999503</td>\n",
       "      <td>-2268.783599</td>\n",
       "      <td>-2748.228295</td>\n",
       "      <td>488.0</td>\n",
       "      <td>390.744388</td>\n",
       "      <td>...</td>\n",
       "      <td>307.033887</td>\n",
       "      <td>-118.143121</td>\n",
       "      <td>373.806105</td>\n",
       "      <td>-1765.320781</td>\n",
       "      <td>-373.047966</td>\n",
       "      <td>2168.431961</td>\n",
       "      <td>1353.943202</td>\n",
       "      <td>-2605.329830</td>\n",
       "      <td>-707.260374</td>\n",
       "      <td>0</td>\n",
       "    </tr>\n",
       "    <tr>\n",
       "      <th>2</th>\n",
       "      <td>2</td>\n",
       "      <td>13425.0</td>\n",
       "      <td>-13147.387496</td>\n",
       "      <td>12341.449201</td>\n",
       "      <td>-11083.963364</td>\n",
       "      <td>9490.534722</td>\n",
       "      <td>-7699.389592</td>\n",
       "      <td>5852.892616</td>\n",
       "      <td>-4080.0</td>\n",
       "      <td>2482.590550</td>\n",
       "      <td>...</td>\n",
       "      <td>-587.401256</td>\n",
       "      <td>743.532013</td>\n",
       "      <td>-779.703518</td>\n",
       "      <td>677.923513</td>\n",
       "      <td>-447.766075</td>\n",
       "      <td>125.006110</td>\n",
       "      <td>234.974359</td>\n",
       "      <td>-567.726821</td>\n",
       "      <td>812.157610</td>\n",
       "      <td>1</td>\n",
       "    </tr>\n",
       "    <tr>\n",
       "      <th>3</th>\n",
       "      <td>3</td>\n",
       "      <td>15025.0</td>\n",
       "      <td>-6462.372814</td>\n",
       "      <td>-6805.507220</td>\n",
       "      <td>7533.698456</td>\n",
       "      <td>946.579987</td>\n",
       "      <td>-4640.311023</td>\n",
       "      <td>1487.771136</td>\n",
       "      <td>747.0</td>\n",
       "      <td>195.898912</td>\n",
       "      <td>...</td>\n",
       "      <td>706.047167</td>\n",
       "      <td>143.044108</td>\n",
       "      <td>-964.441545</td>\n",
       "      <td>526.927652</td>\n",
       "      <td>233.579291</td>\n",
       "      <td>-416.451157</td>\n",
       "      <td>853.525244</td>\n",
       "      <td>-1700.343512</td>\n",
       "      <td>1857.337167</td>\n",
       "      <td>4</td>\n",
       "    </tr>\n",
       "    <tr>\n",
       "      <th>4</th>\n",
       "      <td>4</td>\n",
       "      <td>51093.0</td>\n",
       "      <td>-18393.458365</td>\n",
       "      <td>-16356.968576</td>\n",
       "      <td>3604.196760</td>\n",
       "      <td>6944.535309</td>\n",
       "      <td>678.005820</td>\n",
       "      <td>-527.521874</td>\n",
       "      <td>-492.0</td>\n",
       "      <td>-1811.020731</td>\n",
       "      <td>...</td>\n",
       "      <td>1134.303456</td>\n",
       "      <td>509.522881</td>\n",
       "      <td>-696.614075</td>\n",
       "      <td>681.470093</td>\n",
       "      <td>-974.856978</td>\n",
       "      <td>-2273.866761</td>\n",
       "      <td>2626.761876</td>\n",
       "      <td>2009.183212</td>\n",
       "      <td>-2764.059140</td>\n",
       "      <td>0</td>\n",
       "    </tr>\n",
       "  </tbody>\n",
       "</table>\n",
       "<p>5 rows × 1570 columns</p>\n",
       "</div>"
      ],
      "text/plain": [
       "   Unnamed: 0  column0       column1       column2       column3      column4  \\\n",
       "0           0  16649.0 -10825.730588    676.963766   2972.747410  -331.791733   \n",
       "1           1  44609.0 -19817.879430 -11899.700821   7152.010894  6192.999503   \n",
       "2           2  13425.0 -13147.387496  12341.449201 -11083.963364  9490.534722   \n",
       "3           3  15025.0  -6462.372814  -6805.507220   7533.698456   946.579987   \n",
       "4           4  51093.0 -18393.458365 -16356.968576   3604.196760  6944.535309   \n",
       "\n",
       "       column5      column6  column7      column8  ...   column1559  \\\n",
       "0 -1630.186080   800.741748     80.0   145.728115  ...    57.092994   \n",
       "1 -2268.783599 -2748.228295    488.0   390.744388  ...   307.033887   \n",
       "2 -7699.389592  5852.892616  -4080.0  2482.590550  ...  -587.401256   \n",
       "3 -4640.311023  1487.771136    747.0   195.898912  ...   706.047167   \n",
       "4   678.005820  -527.521874   -492.0 -1811.020731  ...  1134.303456   \n",
       "\n",
       "   column1560  column1561   column1562  column1563   column1564   column1565  \\\n",
       "0  164.158199  331.641365  -466.608810 -749.407401  1916.178001 -1806.720945   \n",
       "1 -118.143121  373.806105 -1765.320781 -373.047966  2168.431961  1353.943202   \n",
       "2  743.532013 -779.703518   677.923513 -447.766075   125.006110   234.974359   \n",
       "3  143.044108 -964.441545   526.927652  233.579291  -416.451157   853.525244   \n",
       "4  509.522881 -696.614075   681.470093 -974.856978 -2273.866761  2626.761876   \n",
       "\n",
       "    column1566   column1567  label  \n",
       "0  1555.701842 -1645.464688      1  \n",
       "1 -2605.329830  -707.260374      0  \n",
       "2  -567.726821   812.157610      1  \n",
       "3 -1700.343512  1857.337167      4  \n",
       "4  2009.183212 -2764.059140      0  \n",
       "\n",
       "[5 rows x 1570 columns]"
      ]
     },
     "execution_count": 10,
     "metadata": {},
     "output_type": "execute_result"
    }
   ],
   "source": [
    "train.head()"
   ]
  },
  {
   "cell_type": "code",
   "execution_count": 11,
   "id": "dd43c7fd-3ec8-40d1-8a88-7ad803a90169",
   "metadata": {},
   "outputs": [
    {
     "data": {
      "text/plain": [
       "array([[ 0.20946618, -0.13620184,  0.00851709, ..., -0.02273091,\n",
       "         0.01957276, -0.0207021 ],\n",
       "       [ 0.56123951, -0.24933482, -0.14971379, ...,  0.01703437,\n",
       "        -0.03277845, -0.00889826],\n",
       "       [ 0.16890404, -0.16541131,  0.15527156, ...,  0.00295628,\n",
       "        -0.00714275,  0.010218  ],\n",
       "       ...,\n",
       "       [ 0.39636149, -0.24301471,  0.01591474, ...,  0.09482276,\n",
       "        -0.17273383,  0.05732685],\n",
       "       [ 0.33190745, -0.22707595,  0.04505359, ..., -0.06421729,\n",
       "         0.06926826,  0.00676997],\n",
       "       [ 0.22870299, -0.17247236,  0.05447384, ...,  0.04227385,\n",
       "        -0.00506188, -0.02353869]])"
      ]
     },
     "execution_count": 11,
     "metadata": {},
     "output_type": "execute_result"
    }
   ],
   "source": [
    "X"
   ]
  },
  {
   "cell_type": "code",
   "execution_count": 12,
   "id": "a27ad212-25ac-444f-8271-e318dd0579f2",
   "metadata": {},
   "outputs": [
    {
     "data": {
      "text/plain": [
       "1.0"
      ]
     },
     "execution_count": 12,
     "metadata": {},
     "output_type": "execute_result"
    }
   ],
   "source": [
    "X.max()"
   ]
  },
  {
   "cell_type": "code",
   "execution_count": 13,
   "id": "1d20a066-34fe-4334-ab32-4aaeb7b4b2e6",
   "metadata": {},
   "outputs": [
    {
     "data": {
      "text/plain": [
       "-0.5082060964050039"
      ]
     },
     "execution_count": 13,
     "metadata": {},
     "output_type": "execute_result"
    }
   ],
   "source": [
    "X.min()"
   ]
  },
  {
   "cell_type": "code",
   "execution_count": 14,
   "id": "c8903092-fdad-40a0-87ca-2603736a5890",
   "metadata": {},
   "outputs": [
    {
     "data": {
      "text/plain": [
       "0.8924424090686058"
      ]
     },
     "execution_count": 14,
     "metadata": {},
     "output_type": "execute_result"
    }
   ],
   "source": [
    "X_test.max()"
   ]
  },
  {
   "cell_type": "code",
   "execution_count": 15,
   "id": "92a7c31a-c9f3-40c2-8438-6839806b6d3d",
   "metadata": {},
   "outputs": [
    {
     "data": {
      "text/plain": [
       "-0.5082147767923296"
      ]
     },
     "execution_count": 15,
     "metadata": {},
     "output_type": "execute_result"
    }
   ],
   "source": [
    "X_test.min()"
   ]
  },
  {
   "cell_type": "code",
   "execution_count": 16,
   "id": "16757548-bcf7-45e3-8b35-e60c6353e678",
   "metadata": {},
   "outputs": [
    {
     "data": {
      "text/plain": [
       "(42000, 10)"
      ]
     },
     "execution_count": 16,
     "metadata": {},
     "output_type": "execute_result"
    }
   ],
   "source": [
    "train_oof = np.zeros((X.shape[0], 10))\n",
    "test_preds = 0\n",
    "train_oof.shape"
   ]
  },
  {
   "cell_type": "code",
   "execution_count": 17,
   "id": "dd3d034a-1db4-48e5-b172-7bf3f1464cc0",
   "metadata": {},
   "outputs": [
    {
     "name": "stdout",
     "output_type": "stream",
     "text": [
      "Fitting fold 1\n",
      "Fold accuracy: 0.979047619047619\n",
      "Fitting fold 2\n",
      "Fold accuracy: 0.9821428571428571\n",
      "Fitting fold 3\n",
      "Fold accuracy: 0.9802380952380952\n",
      "Fitting fold 4\n",
      "Fold accuracy: 0.9792857142857143\n",
      "Fitting fold 5\n",
      "Fold accuracy: 0.9810714285714286\n",
      "CPU times: user 55min 58s, sys: 535 ms, total: 55min 59s\n",
      "Wall time: 55min 59s\n"
     ]
    }
   ],
   "source": [
    "%%time\n",
    "n_splits = 5\n",
    "kf = KFold(n_splits=n_splits, random_state=137, shuffle=True)\n",
    "\n",
    "for jj, (train_index, val_index) in enumerate(kf.split(X)):\n",
    "    print(\"Fitting fold\", jj+1)\n",
    "    train_features = X[train_index]\n",
    "    train_target = Y[train_index]\n",
    "    \n",
    "    val_features = X[val_index]\n",
    "    val_target = Y[val_index]\n",
    "    \n",
    "    model = SVC(kernel='rbf',C=10, probability=True)\n",
    "    model.fit(train_features, train_target)\n",
    "    val_pred = model.predict_proba(val_features)\n",
    "    train_oof[val_index] = val_pred\n",
    "    print(\"Fold accuracy:\", accuracy_score(val_target, np.argmax(val_pred, axis=1)))\n",
    "    test_preds += model.predict_proba(X_test)/n_splits\n",
    "    del train_features, train_target, val_features, val_target\n",
    "    gc.collect()"
   ]
  },
  {
   "cell_type": "code",
   "execution_count": 18,
   "id": "52e1da06-85be-4aba-9abe-90373388a8ea",
   "metadata": {},
   "outputs": [
    {
     "name": "stdout",
     "output_type": "stream",
     "text": [
      "0.9803571428571428\n"
     ]
    }
   ],
   "source": [
    "print(accuracy_score(Y, np.argmax(train_oof, axis=1)))"
   ]
  },
  {
   "cell_type": "code",
   "execution_count": 19,
   "id": "69b7e077-bc5b-4a7f-8a5c-f7c878cb9d68",
   "metadata": {},
   "outputs": [],
   "source": [
    "train = pd.read_csv('../input/train_hffts.csv.gz')\n",
    "test = pd.read_csv('../input/test_hffts.csv.gz')\n"
   ]
  },
  {
   "cell_type": "code",
   "execution_count": 20,
   "id": "c4f525de-6b0c-4a48-943f-bdd12795d8db",
   "metadata": {},
   "outputs": [
    {
     "data": {
      "text/plain": [
       "158966.0"
      ]
     },
     "execution_count": 20,
     "metadata": {},
     "output_type": "execute_result"
    }
   ],
   "source": [
    "X = train[train.columns[1:-1]].values\n",
    "X_test = test[test.columns[1:]].values\n",
    "Y = train.label.values\n",
    "X.max()"
   ]
  },
  {
   "cell_type": "code",
   "execution_count": 21,
   "id": "7580863f-c213-434d-aa38-1bb6b25bc587",
   "metadata": {},
   "outputs": [
    {
     "data": {
      "text/plain": [
       "141868.0"
      ]
     },
     "execution_count": 21,
     "metadata": {},
     "output_type": "execute_result"
    }
   ],
   "source": [
    "X_test.max()"
   ]
  },
  {
   "cell_type": "code",
   "execution_count": 22,
   "id": "a652281d-2a74-4002-9349-e99089a857f2",
   "metadata": {},
   "outputs": [
    {
     "data": {
      "text/plain": [
       "-76874.08874064806"
      ]
     },
     "execution_count": 22,
     "metadata": {},
     "output_type": "execute_result"
    }
   ],
   "source": [
    "X.min()"
   ]
  },
  {
   "cell_type": "code",
   "execution_count": 23,
   "id": "a9e430e7-5484-49eb-b19f-6840386b33e6",
   "metadata": {},
   "outputs": [
    {
     "data": {
      "text/plain": [
       "-77447.34682558887"
      ]
     },
     "execution_count": 23,
     "metadata": {},
     "output_type": "execute_result"
    }
   ],
   "source": [
    "X_test.min()"
   ]
  },
  {
   "cell_type": "code",
   "execution_count": 24,
   "id": "20b4c6fe-265c-475f-838c-3d7477f2125a",
   "metadata": {},
   "outputs": [],
   "source": [
    "X /= 158966.0\n",
    "X_test /= 158966.0"
   ]
  },
  {
   "cell_type": "code",
   "execution_count": 25,
   "id": "4fa0e62d-4b93-4827-8c44-2cb1f9d3ee2c",
   "metadata": {},
   "outputs": [
    {
     "name": "stdout",
     "output_type": "stream",
     "text": [
      "Fitting fold 1\n",
      "Fold accuracy: 0.979047619047619\n",
      "Fitting fold 2\n",
      "Fold accuracy: 0.9817857142857143\n",
      "Fitting fold 3\n",
      "Fold accuracy: 0.9802380952380952\n",
      "Fitting fold 4\n",
      "Fold accuracy: 0.9795238095238096\n",
      "Fitting fold 5\n",
      "Fold accuracy: 0.9813095238095239\n",
      "0.9803809523809524\n",
      "CPU times: user 54min 10s, sys: 408 ms, total: 54min 10s\n",
      "Wall time: 54min 10s\n"
     ]
    }
   ],
   "source": [
    "%%time\n",
    "\n",
    "train_oof = np.zeros((X.shape[0], 10))\n",
    "test_preds = 0\n",
    "train_oof.shape\n",
    "\n",
    "n_splits = 5\n",
    "kf = KFold(n_splits=n_splits, random_state=137, shuffle=True)\n",
    "\n",
    "for jj, (train_index, val_index) in enumerate(kf.split(X)):\n",
    "    print(\"Fitting fold\", jj+1)\n",
    "    train_features = X[train_index]\n",
    "    train_target = Y[train_index]\n",
    "    \n",
    "    val_features = X[val_index]\n",
    "    val_target = Y[val_index]\n",
    "    \n",
    "    model = SVC(kernel='rbf',C=10, probability=True)\n",
    "    model.fit(train_features, train_target)\n",
    "    val_pred = model.predict_proba(val_features)\n",
    "    train_oof[val_index] = val_pred\n",
    "    print(\"Fold accuracy:\", accuracy_score(val_target, np.argmax(val_pred, axis=1)))\n",
    "    test_preds += model.predict_proba(X_test)/n_splits\n",
    "    del train_features, train_target, val_features, val_target\n",
    "    gc.collect()\n",
    "    \n",
    "print(accuracy_score(Y, np.argmax(train_oof, axis=1)))"
   ]
  },
  {
   "cell_type": "code",
   "execution_count": 26,
   "id": "6cf11fbd-a4d2-4495-bc4e-0cb39e0d6eac",
   "metadata": {},
   "outputs": [],
   "source": [
    "train = pd.read_csv('../input/train_rffts.csv.gz')\n",
    "test = pd.read_csv('../input/test_rffts.csv.gz')"
   ]
  },
  {
   "cell_type": "code",
   "execution_count": 27,
   "id": "c24127b6-0ef0-44ed-9885-859080512498",
   "metadata": {},
   "outputs": [
    {
     "data": {
      "text/plain": [
       "79483.0"
      ]
     },
     "execution_count": 27,
     "metadata": {},
     "output_type": "execute_result"
    }
   ],
   "source": [
    "X = train[train.columns[1:-1]].values\n",
    "X_test = test[test.columns[1:]].values\n",
    "Y = train.label.values\n",
    "X.max()"
   ]
  },
  {
   "cell_type": "code",
   "execution_count": 28,
   "id": "4050fe59-abe7-4703-a6e7-40c2dbc88eb4",
   "metadata": {},
   "outputs": [
    {
     "data": {
      "text/plain": [
       "-40393.74516055893"
      ]
     },
     "execution_count": 28,
     "metadata": {},
     "output_type": "execute_result"
    }
   ],
   "source": [
    "X.min()"
   ]
  },
  {
   "cell_type": "code",
   "execution_count": 29,
   "id": "423ca468-1c22-4ac1-be06-2dfac9ba84a7",
   "metadata": {},
   "outputs": [
    {
     "data": {
      "text/plain": [
       "70934.0"
      ]
     },
     "execution_count": 29,
     "metadata": {},
     "output_type": "execute_result"
    }
   ],
   "source": [
    "X_test.max()"
   ]
  },
  {
   "cell_type": "code",
   "execution_count": 30,
   "id": "4aa06486-9487-4252-b558-3b449be086d5",
   "metadata": {},
   "outputs": [
    {
     "data": {
      "text/plain": [
       "-40394.43510378474"
      ]
     },
     "execution_count": 30,
     "metadata": {},
     "output_type": "execute_result"
    }
   ],
   "source": [
    "X_test.min()"
   ]
  },
  {
   "cell_type": "code",
   "execution_count": 31,
   "id": "06324b0d-a7ec-479c-94ce-ad67726bfa39",
   "metadata": {},
   "outputs": [],
   "source": [
    "X /= 79483.0\n",
    "X_test /= 79483.0"
   ]
  },
  {
   "cell_type": "code",
   "execution_count": 32,
   "id": "052c6d4f-dfa5-421c-97b0-253398604cfd",
   "metadata": {},
   "outputs": [
    {
     "name": "stdout",
     "output_type": "stream",
     "text": [
      "Fitting fold 1\n",
      "Fold accuracy: 0.9775\n",
      "Fitting fold 2\n",
      "Fold accuracy: 0.9817857142857143\n",
      "Fitting fold 3\n",
      "Fold accuracy: 0.9797619047619047\n",
      "Fitting fold 4\n",
      "Fold accuracy: 0.9785714285714285\n",
      "Fitting fold 5\n",
      "Fold accuracy: 0.9807142857142858\n",
      "0.9796666666666667\n",
      "CPU times: user 30min 17s, sys: 160 ms, total: 30min 17s\n",
      "Wall time: 30min 17s\n"
     ]
    }
   ],
   "source": [
    "%%time\n",
    "\n",
    "train_oof = np.zeros((X.shape[0], 10))\n",
    "test_preds = 0\n",
    "train_oof.shape\n",
    "\n",
    "n_splits = 5\n",
    "kf = KFold(n_splits=n_splits, random_state=137, shuffle=True)\n",
    "\n",
    "for jj, (train_index, val_index) in enumerate(kf.split(X)):\n",
    "    print(\"Fitting fold\", jj+1)\n",
    "    train_features = X[train_index]\n",
    "    train_target = Y[train_index]\n",
    "    \n",
    "    val_features = X[val_index]\n",
    "    val_target = Y[val_index]\n",
    "    \n",
    "    model = SVC(kernel='rbf',C=10, probability=True)\n",
    "    model.fit(train_features, train_target)\n",
    "    val_pred = model.predict_proba(val_features)\n",
    "    train_oof[val_index] = val_pred\n",
    "    print(\"Fold accuracy:\", accuracy_score(val_target, np.argmax(val_pred, axis=1)))\n",
    "    test_preds += model.predict_proba(X_test)/n_splits\n",
    "    del train_features, train_target, val_features, val_target\n",
    "    gc.collect()\n",
    "    \n",
    "print(accuracy_score(Y, np.argmax(train_oof, axis=1)))"
   ]
  },
  {
   "cell_type": "code",
   "execution_count": null,
   "id": "5108e7ec-21bb-41e2-a25e-e5bb22a3334f",
   "metadata": {},
   "outputs": [],
   "source": []
  }
 ],
 "metadata": {
  "kernelspec": {
   "display_name": "Python 3 (ipykernel)",
   "language": "python",
   "name": "python3"
  },
  "language_info": {
   "codemirror_mode": {
    "name": "ipython",
    "version": 3
   },
   "file_extension": ".py",
   "mimetype": "text/x-python",
   "name": "python",
   "nbconvert_exporter": "python",
   "pygments_lexer": "ipython3",
   "version": "3.8.10"
  }
 },
 "nbformat": 4,
 "nbformat_minor": 5
}
