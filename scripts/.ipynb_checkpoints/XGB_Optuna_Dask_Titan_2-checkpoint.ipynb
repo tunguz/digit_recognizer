{
 "cells": [
  {
   "cell_type": "code",
   "execution_count": 1,
   "id": "bd19a0fd-172f-45ca-a4b9-e961be401f6d",
   "metadata": {},
   "outputs": [],
   "source": [
    "import os\n",
    "#os.environ[\"CUDA_DEVICE_ORDER\"]=\"PCI_BUS_ID\"\n",
    "#os.environ[\"CUDA_VISIBLE_DEVICES\"]=\"0, 1\""
   ]
  },
  {
   "cell_type": "code",
   "execution_count": 15,
   "id": "2fce9d4a-a8b2-45e7-9506-b77821911a0a",
   "metadata": {},
   "outputs": [
    {
     "data": {
      "text/plain": [
       "'2022.03.0'"
      ]
     },
     "execution_count": 15,
     "metadata": {},
     "output_type": "execute_result"
    }
   ],
   "source": [
    "from dask.distributed import Client\n",
    "from dask_cuda import LocalCUDACluster\n",
    "from dask import dataframe as dd\n",
    "import pandas as pd\n",
    "import numpy as np\n",
    "import xgboost as xgb\n",
    "from sklearn.model_selection import KFold, train_test_split\n",
    "from sklearn.metrics import accuracy_score\n",
    "from sklearn.preprocessing import StandardScaler\n",
    "from sklearn.preprocessing import LabelEncoder\n",
    "import optuna\n",
    "import gc\n",
    "import dask\n",
    "dask.__version__"
   ]
  },
  {
   "cell_type": "code",
   "execution_count": 3,
   "id": "9c9b1d12-98d9-40c8-b392-7fa23ba4d123",
   "metadata": {},
   "outputs": [
    {
     "data": {
      "text/plain": [
       "'1.6.1'"
      ]
     },
     "execution_count": 3,
     "metadata": {},
     "output_type": "execute_result"
    }
   ],
   "source": [
    "xgb.__version__"
   ]
  },
  {
   "cell_type": "code",
   "execution_count": 4,
   "id": "83cc1ded-e05c-4e26-b9bd-49147be6579e",
   "metadata": {},
   "outputs": [
    {
     "name": "stdout",
     "output_type": "stream",
     "text": [
      "Sat May 21 17:36:31 2022       \n",
      "+-----------------------------------------------------------------------------+\n",
      "| NVIDIA-SMI 470.57.02    Driver Version: 470.57.02    CUDA Version: 11.4     |\n",
      "|-------------------------------+----------------------+----------------------+\n",
      "| GPU  Name        Persistence-M| Bus-Id        Disp.A | Volatile Uncorr. ECC |\n",
      "| Fan  Temp  Perf  Pwr:Usage/Cap|         Memory-Usage | GPU-Util  Compute M. |\n",
      "|                               |                      |               MIG M. |\n",
      "|===============================+======================+======================|\n",
      "|   0  NVIDIA TITAN RTX    On   | 00000000:09:00.0 Off |                  N/A |\n",
      "| 41%   32C    P8    28W / 280W |      5MiB / 24220MiB |      0%      Default |\n",
      "|                               |                      |                  N/A |\n",
      "+-------------------------------+----------------------+----------------------+\n",
      "|   1  NVIDIA TITAN RTX    On   | 00000000:41:00.0 Off |                  N/A |\n",
      "| 40%   33C    P8    32W / 280W |    108MiB / 24217MiB |      0%      Default |\n",
      "|                               |                      |                  N/A |\n",
      "+-------------------------------+----------------------+----------------------+\n",
      "                                                                               \n",
      "+-----------------------------------------------------------------------------+\n",
      "| Processes:                                                                  |\n",
      "|  GPU   GI   CI        PID   Type   Process name                  GPU Memory |\n",
      "|        ID   ID                                                   Usage      |\n",
      "|=============================================================================|\n",
      "|    0   N/A  N/A      1254      G   /usr/lib/xorg/Xorg                  4MiB |\n",
      "|    1   N/A  N/A      1254      G   /usr/lib/xorg/Xorg                 82MiB |\n",
      "|    1   N/A  N/A      1500      G   /usr/bin/gnome-shell               12MiB |\n",
      "|    1   N/A  N/A      6719      G   ...mviewer/tv_bin/TeamViewer       11MiB |\n",
      "+-----------------------------------------------------------------------------+\n"
     ]
    }
   ],
   "source": [
    "!nvidia-smi"
   ]
  },
  {
   "cell_type": "code",
   "execution_count": 5,
   "id": "d31cebf5-cd3b-4da3-af8a-0b146d310d3f",
   "metadata": {},
   "outputs": [
    {
     "name": "stdout",
     "output_type": "stream",
     "text": [
      "GPU 0: NVIDIA TITAN RTX (UUID: GPU-0eb32f58-b8d5-17c0-e952-f4ec26a9353f)\n",
      "GPU 1: NVIDIA TITAN RTX (UUID: GPU-50aeb092-88f5-4e0b-7f73-32741666f319)\n"
     ]
    }
   ],
   "source": [
    "!nvidia-smi -L"
   ]
  },
  {
   "cell_type": "code",
   "execution_count": 6,
   "id": "04f41c9b-29c5-41a6-bde2-e57e56f8f5ee",
   "metadata": {},
   "outputs": [],
   "source": [
    "train_x = dd.read_csv('../input/xgtrain.csv')\n",
    "test_x = dd.read_csv('../input/xgval.csv')"
   ]
  },
  {
   "cell_type": "code",
   "execution_count": 7,
   "id": "26eb0c40-0277-4cc8-ae26-f64bcbb4324d",
   "metadata": {},
   "outputs": [],
   "source": [
    "train_y = train_x['target']\n",
    "train_x = train_x[train_x.columns.difference(['target'])]\n",
    "\n",
    "test_y = test_x['target']\n",
    "test_x = test_x[test_x.columns.difference(['target'])]"
   ]
  },
  {
   "cell_type": "code",
   "execution_count": 8,
   "id": "6bee8870-b9e8-47ba-8714-0f16c19b734a",
   "metadata": {},
   "outputs": [
    {
     "name": "stderr",
     "output_type": "stream",
     "text": [
      "2022-05-21 17:36:40,022 - distributed.preloading - INFO - Import preload module: dask_cuda.initialize\n",
      "2022-05-21 17:36:40,054 - distributed.preloading - INFO - Import preload module: dask_cuda.initialize\n"
     ]
    }
   ],
   "source": [
    "cluster = LocalCUDACluster(CUDA_VISIBLE_DEVICES=[\"GPU-0eb32f58-b8d5-17c0-e952-f4ec26a9353f\",\n",
    "                                                 \"GPU-50aeb092-88f5-4e0b-7f73-32741666f319\"])\n",
    "client = Client(cluster)\n"
   ]
  },
  {
   "cell_type": "code",
   "execution_count": 9,
   "id": "fd6cc84c-af12-4219-b019-3b7022a7d4b9",
   "metadata": {},
   "outputs": [],
   "source": [
    "dtrain = xgb.dask.DaskDMatrix(client, train_x, train_y)"
   ]
  },
  {
   "cell_type": "code",
   "execution_count": 10,
   "id": "c9b61cd3-1d42-41a0-804e-c1235953f19c",
   "metadata": {},
   "outputs": [],
   "source": [
    "dtest = xgb.dask.DaskDMatrix(client, test_x, test_y)"
   ]
  },
  {
   "cell_type": "code",
   "execution_count": 11,
   "id": "74319c68-d47c-4907-bd68-28e94daab554",
   "metadata": {},
   "outputs": [],
   "source": [
    "num_round = 1000"
   ]
  },
  {
   "cell_type": "code",
   "execution_count": 16,
   "id": "3638d8a1-252b-4dba-9786-2786aa47defd",
   "metadata": {},
   "outputs": [],
   "source": [
    "def objective(trial):\n",
    "        \n",
    "    params = {\n",
    "        'objective': trial.suggest_categorical('objective',['multi:softprob']), \n",
    "        'tree_method': trial.suggest_categorical('tree_method',['gpu_hist']),  # 'gpu_hist','hist'\n",
    "        'lambda': trial.suggest_loguniform('lambda',1e-3, 1.0),\n",
    "        'alpha': trial.suggest_loguniform('alpha',1e-3, 10.0),\n",
    "        'colsample_bytree': trial.suggest_uniform('colsample_bytree', 0.7, 1.0),\n",
    "        'subsample': trial.suggest_uniform('subsample', 0.7, 1.0),\n",
    "        'learning_rate': trial.suggest_loguniform('learning_rate', 0.01, 0.1),\n",
    "        #'n_estimators': trial.suggest_categorical('n_estimators', [1000]),\n",
    "        'max_depth': trial.suggest_int('max_depth', 20, 29),\n",
    "        #'random_state': trial.suggest_categorical('random_state', [24,48,2020]),\n",
    "        'min_child_weight': trial.suggest_int('min_child_weight', 1, 20),\n",
    "        'eval_metric': trial.suggest_categorical('eval_metric',['merror']),\n",
    "        'num_class': 10,\n",
    "\n",
    "    }\n",
    "\n",
    "    output = xgb.dask.train(client, params, dtrain, num_round)\n",
    "    \n",
    "    booster = output['booster']  # booster is the trained model\n",
    "    booster.set_param({'predictor': 'gpu_predictor'})\n",
    "\n",
    "    predictions = xgb.dask.predict(client, booster, dtest)\n",
    "    \n",
    "    predictions = predictions.compute()\n",
    "    \n",
    "    predictions = np.argmax(predictions, axis=1)\n",
    "\n",
    "    acc = accuracy_score(test_y, predictions)\n",
    "    \n",
    "    return acc"
   ]
  },
  {
   "cell_type": "code",
   "execution_count": 17,
   "id": "d147411e-7115-4d00-8a4a-a503c96b3a52",
   "metadata": {},
   "outputs": [
    {
     "name": "stderr",
     "output_type": "stream",
     "text": [
      "\u001b[32m[I 2022-05-22 08:02:47,222]\u001b[0m A new study created in memory with name: no-name-3a7405f9-f97f-492d-b390-b6ee988135b6\u001b[0m\n"
     ]
    }
   ],
   "source": [
    "study = optuna.create_study(direction='maximize')"
   ]
  },
  {
   "cell_type": "code",
   "execution_count": 18,
   "id": "5fdded1a-28b1-4bcd-a994-4b7b12208e4f",
   "metadata": {},
   "outputs": [
    {
     "name": "stderr",
     "output_type": "stream",
     "text": [
      "[08:02:48] task [xgboost.dask]:tcp://127.0.0.1:40265 got new rank 0\n",
      "[08:02:48] task [xgboost.dask]:tcp://127.0.0.1:40919 got new rank 1\n",
      "\u001b[32m[I 2022-05-22 08:09:38,257]\u001b[0m Trial 0 finished with value: 0.9705952380952381 and parameters: {'objective': 'multi:softprob', 'tree_method': 'gpu_hist', 'lambda': 0.14046495813662443, 'alpha': 3.7824174886934343, 'colsample_bytree': 0.77950904227617, 'subsample': 0.7881202074809254, 'learning_rate': 0.031863014544941025, 'max_depth': 21, 'min_child_weight': 7, 'eval_metric': 'merror'}. Best is trial 0 with value: 0.9705952380952381.\u001b[0m\n",
      "[08:09:38] task [xgboost.dask]:tcp://127.0.0.1:40265 got new rank 0\n",
      "[08:09:38] task [xgboost.dask]:tcp://127.0.0.1:40919 got new rank 1\n",
      "\u001b[32m[I 2022-05-22 08:17:32,783]\u001b[0m Trial 1 finished with value: 0.9670238095238095 and parameters: {'objective': 'multi:softprob', 'tree_method': 'gpu_hist', 'lambda': 0.8058429585475075, 'alpha': 0.001740470622659711, 'colsample_bytree': 0.9279393129149021, 'subsample': 0.7726710230709537, 'learning_rate': 0.011431912255363262, 'max_depth': 21, 'min_child_weight': 15, 'eval_metric': 'merror'}. Best is trial 0 with value: 0.9705952380952381.\u001b[0m\n"
     ]
    },
    {
     "name": "stdout",
     "output_type": "stream",
     "text": [
      "CPU times: user 24.2 s, sys: 12.7 s, total: 37 s\n",
      "Wall time: 14min 44s\n"
     ]
    }
   ],
   "source": [
    "%%time\n",
    "study.optimize(objective, n_trials=2)"
   ]
  },
  {
   "cell_type": "code",
   "execution_count": 19,
   "id": "4f0cc26e-d436-4508-97e1-396e04b0493d",
   "metadata": {},
   "outputs": [
    {
     "name": "stderr",
     "output_type": "stream",
     "text": [
      "[15:44:15] task [xgboost.dask]:tcp://127.0.0.1:40919 got new rank 0\n",
      "[15:44:15] task [xgboost.dask]:tcp://127.0.0.1:40265 got new rank 1\n"
     ]
    },
    {
     "ename": "KeyboardInterrupt",
     "evalue": "",
     "output_type": "error",
     "traceback": [
      "\u001b[0;31m---------------------------------------------------------------------------\u001b[0m",
      "\u001b[0;31mKeyboardInterrupt\u001b[0m                         Traceback (most recent call last)",
      "\u001b[0;32m<timed eval>\u001b[0m in \u001b[0;36m<module>\u001b[0;34m\u001b[0m\n",
      "\u001b[0;32m/usr/local/lib/python3.8/dist-packages/optuna/study/study.py\u001b[0m in \u001b[0;36moptimize\u001b[0;34m(self, func, n_trials, timeout, n_jobs, catch, callbacks, gc_after_trial, show_progress_bar)\u001b[0m\n\u001b[1;32m    398\u001b[0m             )\n\u001b[1;32m    399\u001b[0m \u001b[0;34m\u001b[0m\u001b[0m\n\u001b[0;32m--> 400\u001b[0;31m         _optimize(\n\u001b[0m\u001b[1;32m    401\u001b[0m             \u001b[0mstudy\u001b[0m\u001b[0;34m=\u001b[0m\u001b[0mself\u001b[0m\u001b[0;34m,\u001b[0m\u001b[0;34m\u001b[0m\u001b[0;34m\u001b[0m\u001b[0m\n\u001b[1;32m    402\u001b[0m             \u001b[0mfunc\u001b[0m\u001b[0;34m=\u001b[0m\u001b[0mfunc\u001b[0m\u001b[0;34m,\u001b[0m\u001b[0;34m\u001b[0m\u001b[0;34m\u001b[0m\u001b[0m\n",
      "\u001b[0;32m/usr/local/lib/python3.8/dist-packages/optuna/study/_optimize.py\u001b[0m in \u001b[0;36m_optimize\u001b[0;34m(study, func, n_trials, timeout, n_jobs, catch, callbacks, gc_after_trial, show_progress_bar)\u001b[0m\n\u001b[1;32m     64\u001b[0m     \u001b[0;32mtry\u001b[0m\u001b[0;34m:\u001b[0m\u001b[0;34m\u001b[0m\u001b[0;34m\u001b[0m\u001b[0m\n\u001b[1;32m     65\u001b[0m         \u001b[0;32mif\u001b[0m \u001b[0mn_jobs\u001b[0m \u001b[0;34m==\u001b[0m \u001b[0;36m1\u001b[0m\u001b[0;34m:\u001b[0m\u001b[0;34m\u001b[0m\u001b[0;34m\u001b[0m\u001b[0m\n\u001b[0;32m---> 66\u001b[0;31m             _optimize_sequential(\n\u001b[0m\u001b[1;32m     67\u001b[0m                 \u001b[0mstudy\u001b[0m\u001b[0;34m,\u001b[0m\u001b[0;34m\u001b[0m\u001b[0;34m\u001b[0m\u001b[0m\n\u001b[1;32m     68\u001b[0m                 \u001b[0mfunc\u001b[0m\u001b[0;34m,\u001b[0m\u001b[0;34m\u001b[0m\u001b[0;34m\u001b[0m\u001b[0m\n",
      "\u001b[0;32m/usr/local/lib/python3.8/dist-packages/optuna/study/_optimize.py\u001b[0m in \u001b[0;36m_optimize_sequential\u001b[0;34m(study, func, n_trials, timeout, catch, callbacks, gc_after_trial, reseed_sampler_rng, time_start, progress_bar)\u001b[0m\n\u001b[1;32m    161\u001b[0m \u001b[0;34m\u001b[0m\u001b[0m\n\u001b[1;32m    162\u001b[0m         \u001b[0;32mtry\u001b[0m\u001b[0;34m:\u001b[0m\u001b[0;34m\u001b[0m\u001b[0;34m\u001b[0m\u001b[0m\n\u001b[0;32m--> 163\u001b[0;31m             \u001b[0mtrial\u001b[0m \u001b[0;34m=\u001b[0m \u001b[0m_run_trial\u001b[0m\u001b[0;34m(\u001b[0m\u001b[0mstudy\u001b[0m\u001b[0;34m,\u001b[0m \u001b[0mfunc\u001b[0m\u001b[0;34m,\u001b[0m \u001b[0mcatch\u001b[0m\u001b[0;34m)\u001b[0m\u001b[0;34m\u001b[0m\u001b[0;34m\u001b[0m\u001b[0m\n\u001b[0m\u001b[1;32m    164\u001b[0m         \u001b[0;32mexcept\u001b[0m \u001b[0mException\u001b[0m\u001b[0;34m:\u001b[0m\u001b[0;34m\u001b[0m\u001b[0;34m\u001b[0m\u001b[0m\n\u001b[1;32m    165\u001b[0m             \u001b[0;32mraise\u001b[0m\u001b[0;34m\u001b[0m\u001b[0;34m\u001b[0m\u001b[0m\n",
      "\u001b[0;32m/usr/local/lib/python3.8/dist-packages/optuna/study/_optimize.py\u001b[0m in \u001b[0;36m_run_trial\u001b[0;34m(study, func, catch)\u001b[0m\n\u001b[1;32m    211\u001b[0m \u001b[0;34m\u001b[0m\u001b[0m\n\u001b[1;32m    212\u001b[0m     \u001b[0;32mtry\u001b[0m\u001b[0;34m:\u001b[0m\u001b[0;34m\u001b[0m\u001b[0;34m\u001b[0m\u001b[0m\n\u001b[0;32m--> 213\u001b[0;31m         \u001b[0mvalue_or_values\u001b[0m \u001b[0;34m=\u001b[0m \u001b[0mfunc\u001b[0m\u001b[0;34m(\u001b[0m\u001b[0mtrial\u001b[0m\u001b[0;34m)\u001b[0m\u001b[0;34m\u001b[0m\u001b[0;34m\u001b[0m\u001b[0m\n\u001b[0m\u001b[1;32m    214\u001b[0m     \u001b[0;32mexcept\u001b[0m \u001b[0mexceptions\u001b[0m\u001b[0;34m.\u001b[0m\u001b[0mTrialPruned\u001b[0m \u001b[0;32mas\u001b[0m \u001b[0me\u001b[0m\u001b[0;34m:\u001b[0m\u001b[0;34m\u001b[0m\u001b[0;34m\u001b[0m\u001b[0m\n\u001b[1;32m    215\u001b[0m         \u001b[0;31m# TODO(mamu): Handle multi-objective cases.\u001b[0m\u001b[0;34m\u001b[0m\u001b[0;34m\u001b[0m\u001b[0;34m\u001b[0m\u001b[0m\n",
      "\u001b[0;32m/tmp/ipykernel_2031946/723772316.py\u001b[0m in \u001b[0;36mobjective\u001b[0;34m(trial)\u001b[0m\n\u001b[1;32m     18\u001b[0m     }\n\u001b[1;32m     19\u001b[0m \u001b[0;34m\u001b[0m\u001b[0m\n\u001b[0;32m---> 20\u001b[0;31m     \u001b[0moutput\u001b[0m \u001b[0;34m=\u001b[0m \u001b[0mxgb\u001b[0m\u001b[0;34m.\u001b[0m\u001b[0mdask\u001b[0m\u001b[0;34m.\u001b[0m\u001b[0mtrain\u001b[0m\u001b[0;34m(\u001b[0m\u001b[0mclient\u001b[0m\u001b[0;34m,\u001b[0m \u001b[0mparams\u001b[0m\u001b[0;34m,\u001b[0m \u001b[0mdtrain\u001b[0m\u001b[0;34m,\u001b[0m \u001b[0mnum_round\u001b[0m\u001b[0;34m)\u001b[0m\u001b[0;34m\u001b[0m\u001b[0;34m\u001b[0m\u001b[0m\n\u001b[0m\u001b[1;32m     21\u001b[0m \u001b[0;34m\u001b[0m\u001b[0m\n\u001b[1;32m     22\u001b[0m     \u001b[0mbooster\u001b[0m \u001b[0;34m=\u001b[0m \u001b[0moutput\u001b[0m\u001b[0;34m[\u001b[0m\u001b[0;34m'booster'\u001b[0m\u001b[0;34m]\u001b[0m  \u001b[0;31m# booster is the trained model\u001b[0m\u001b[0;34m\u001b[0m\u001b[0;34m\u001b[0m\u001b[0m\n",
      "\u001b[0;32m~/.local/lib/python3.8/site-packages/xgboost/core.py\u001b[0m in \u001b[0;36minner_f\u001b[0;34m(*args, **kwargs)\u001b[0m\n\u001b[1;32m    530\u001b[0m         \u001b[0;32mfor\u001b[0m \u001b[0mk\u001b[0m\u001b[0;34m,\u001b[0m \u001b[0marg\u001b[0m \u001b[0;32min\u001b[0m \u001b[0mzip\u001b[0m\u001b[0;34m(\u001b[0m\u001b[0msig\u001b[0m\u001b[0;34m.\u001b[0m\u001b[0mparameters\u001b[0m\u001b[0;34m,\u001b[0m \u001b[0margs\u001b[0m\u001b[0;34m)\u001b[0m\u001b[0;34m:\u001b[0m\u001b[0;34m\u001b[0m\u001b[0;34m\u001b[0m\u001b[0m\n\u001b[1;32m    531\u001b[0m             \u001b[0mkwargs\u001b[0m\u001b[0;34m[\u001b[0m\u001b[0mk\u001b[0m\u001b[0;34m]\u001b[0m \u001b[0;34m=\u001b[0m \u001b[0marg\u001b[0m\u001b[0;34m\u001b[0m\u001b[0;34m\u001b[0m\u001b[0m\n\u001b[0;32m--> 532\u001b[0;31m         \u001b[0;32mreturn\u001b[0m \u001b[0mf\u001b[0m\u001b[0;34m(\u001b[0m\u001b[0;34m**\u001b[0m\u001b[0mkwargs\u001b[0m\u001b[0;34m)\u001b[0m\u001b[0;34m\u001b[0m\u001b[0;34m\u001b[0m\u001b[0m\n\u001b[0m\u001b[1;32m    533\u001b[0m \u001b[0;34m\u001b[0m\u001b[0m\n\u001b[1;32m    534\u001b[0m     \u001b[0;32mreturn\u001b[0m \u001b[0minner_f\u001b[0m\u001b[0;34m\u001b[0m\u001b[0;34m\u001b[0m\u001b[0m\n",
      "\u001b[0;32m~/.local/lib/python3.8/site-packages/xgboost/dask.py\u001b[0m in \u001b[0;36mtrain\u001b[0;34m(client, params, dtrain, num_boost_round, evals, obj, feval, early_stopping_rounds, xgb_model, verbose_eval, callbacks, custom_metric)\u001b[0m\n\u001b[1;32m   1058\u001b[0m     \u001b[0mclient\u001b[0m \u001b[0;34m=\u001b[0m \u001b[0m_xgb_get_client\u001b[0m\u001b[0;34m(\u001b[0m\u001b[0mclient\u001b[0m\u001b[0;34m)\u001b[0m\u001b[0;34m\u001b[0m\u001b[0;34m\u001b[0m\u001b[0m\n\u001b[1;32m   1059\u001b[0m     \u001b[0margs\u001b[0m \u001b[0;34m=\u001b[0m \u001b[0mlocals\u001b[0m\u001b[0;34m(\u001b[0m\u001b[0;34m)\u001b[0m\u001b[0;34m\u001b[0m\u001b[0;34m\u001b[0m\u001b[0m\n\u001b[0;32m-> 1060\u001b[0;31m     return client.sync(\n\u001b[0m\u001b[1;32m   1061\u001b[0m         \u001b[0m_train_async\u001b[0m\u001b[0;34m,\u001b[0m\u001b[0;34m\u001b[0m\u001b[0;34m\u001b[0m\u001b[0m\n\u001b[1;32m   1062\u001b[0m         \u001b[0mglobal_config\u001b[0m\u001b[0;34m=\u001b[0m\u001b[0mconfig\u001b[0m\u001b[0;34m.\u001b[0m\u001b[0mget_config\u001b[0m\u001b[0;34m(\u001b[0m\u001b[0;34m)\u001b[0m\u001b[0;34m,\u001b[0m\u001b[0;34m\u001b[0m\u001b[0;34m\u001b[0m\u001b[0m\n",
      "\u001b[0;32m~/.local/lib/python3.8/site-packages/distributed/utils.py\u001b[0m in \u001b[0;36msync\u001b[0;34m(self, func, asynchronous, callback_timeout, *args, **kwargs)\u001b[0m\n\u001b[1;32m    307\u001b[0m             \u001b[0;32mreturn\u001b[0m \u001b[0mfuture\u001b[0m\u001b[0;34m\u001b[0m\u001b[0;34m\u001b[0m\u001b[0m\n\u001b[1;32m    308\u001b[0m         \u001b[0;32melse\u001b[0m\u001b[0;34m:\u001b[0m\u001b[0;34m\u001b[0m\u001b[0;34m\u001b[0m\u001b[0m\n\u001b[0;32m--> 309\u001b[0;31m             return sync(\n\u001b[0m\u001b[1;32m    310\u001b[0m                 \u001b[0mself\u001b[0m\u001b[0;34m.\u001b[0m\u001b[0mloop\u001b[0m\u001b[0;34m,\u001b[0m \u001b[0mfunc\u001b[0m\u001b[0;34m,\u001b[0m \u001b[0;34m*\u001b[0m\u001b[0margs\u001b[0m\u001b[0;34m,\u001b[0m \u001b[0mcallback_timeout\u001b[0m\u001b[0;34m=\u001b[0m\u001b[0mcallback_timeout\u001b[0m\u001b[0;34m,\u001b[0m \u001b[0;34m**\u001b[0m\u001b[0mkwargs\u001b[0m\u001b[0;34m\u001b[0m\u001b[0;34m\u001b[0m\u001b[0m\n\u001b[1;32m    311\u001b[0m             )\n",
      "\u001b[0;32m~/.local/lib/python3.8/site-packages/distributed/utils.py\u001b[0m in \u001b[0;36msync\u001b[0;34m(loop, func, callback_timeout, *args, **kwargs)\u001b[0m\n\u001b[1;32m    370\u001b[0m     \u001b[0;32melse\u001b[0m\u001b[0;34m:\u001b[0m\u001b[0;34m\u001b[0m\u001b[0;34m\u001b[0m\u001b[0m\n\u001b[1;32m    371\u001b[0m         \u001b[0;32mwhile\u001b[0m \u001b[0;32mnot\u001b[0m \u001b[0me\u001b[0m\u001b[0;34m.\u001b[0m\u001b[0mis_set\u001b[0m\u001b[0;34m(\u001b[0m\u001b[0;34m)\u001b[0m\u001b[0;34m:\u001b[0m\u001b[0;34m\u001b[0m\u001b[0;34m\u001b[0m\u001b[0m\n\u001b[0;32m--> 372\u001b[0;31m             \u001b[0mwait\u001b[0m\u001b[0;34m(\u001b[0m\u001b[0;36m10\u001b[0m\u001b[0;34m)\u001b[0m\u001b[0;34m\u001b[0m\u001b[0;34m\u001b[0m\u001b[0m\n\u001b[0m\u001b[1;32m    373\u001b[0m \u001b[0;34m\u001b[0m\u001b[0m\n\u001b[1;32m    374\u001b[0m     \u001b[0;32mif\u001b[0m \u001b[0merror\u001b[0m\u001b[0;34m:\u001b[0m\u001b[0;34m\u001b[0m\u001b[0;34m\u001b[0m\u001b[0m\n",
      "\u001b[0;32m~/.local/lib/python3.8/site-packages/distributed/utils.py\u001b[0m in \u001b[0;36mwait\u001b[0;34m(timeout)\u001b[0m\n\u001b[1;32m    359\u001b[0m     \u001b[0;32mdef\u001b[0m \u001b[0mwait\u001b[0m\u001b[0;34m(\u001b[0m\u001b[0mtimeout\u001b[0m\u001b[0;34m)\u001b[0m\u001b[0;34m:\u001b[0m\u001b[0;34m\u001b[0m\u001b[0;34m\u001b[0m\u001b[0m\n\u001b[1;32m    360\u001b[0m         \u001b[0;32mtry\u001b[0m\u001b[0;34m:\u001b[0m\u001b[0;34m\u001b[0m\u001b[0;34m\u001b[0m\u001b[0m\n\u001b[0;32m--> 361\u001b[0;31m             \u001b[0;32mreturn\u001b[0m \u001b[0me\u001b[0m\u001b[0;34m.\u001b[0m\u001b[0mwait\u001b[0m\u001b[0;34m(\u001b[0m\u001b[0mtimeout\u001b[0m\u001b[0;34m)\u001b[0m\u001b[0;34m\u001b[0m\u001b[0;34m\u001b[0m\u001b[0m\n\u001b[0m\u001b[1;32m    362\u001b[0m         \u001b[0;32mexcept\u001b[0m \u001b[0mKeyboardInterrupt\u001b[0m\u001b[0;34m:\u001b[0m\u001b[0;34m\u001b[0m\u001b[0;34m\u001b[0m\u001b[0m\n\u001b[1;32m    363\u001b[0m             \u001b[0mloop\u001b[0m\u001b[0;34m.\u001b[0m\u001b[0madd_callback\u001b[0m\u001b[0;34m(\u001b[0m\u001b[0mcancel\u001b[0m\u001b[0;34m)\u001b[0m\u001b[0;34m\u001b[0m\u001b[0;34m\u001b[0m\u001b[0m\n",
      "\u001b[0;32m/usr/lib/python3.8/threading.py\u001b[0m in \u001b[0;36mwait\u001b[0;34m(self, timeout)\u001b[0m\n\u001b[1;32m    556\u001b[0m             \u001b[0msignaled\u001b[0m \u001b[0;34m=\u001b[0m \u001b[0mself\u001b[0m\u001b[0;34m.\u001b[0m\u001b[0m_flag\u001b[0m\u001b[0;34m\u001b[0m\u001b[0;34m\u001b[0m\u001b[0m\n\u001b[1;32m    557\u001b[0m             \u001b[0;32mif\u001b[0m \u001b[0;32mnot\u001b[0m \u001b[0msignaled\u001b[0m\u001b[0;34m:\u001b[0m\u001b[0;34m\u001b[0m\u001b[0;34m\u001b[0m\u001b[0m\n\u001b[0;32m--> 558\u001b[0;31m                 \u001b[0msignaled\u001b[0m \u001b[0;34m=\u001b[0m \u001b[0mself\u001b[0m\u001b[0;34m.\u001b[0m\u001b[0m_cond\u001b[0m\u001b[0;34m.\u001b[0m\u001b[0mwait\u001b[0m\u001b[0;34m(\u001b[0m\u001b[0mtimeout\u001b[0m\u001b[0;34m)\u001b[0m\u001b[0;34m\u001b[0m\u001b[0;34m\u001b[0m\u001b[0m\n\u001b[0m\u001b[1;32m    559\u001b[0m             \u001b[0;32mreturn\u001b[0m \u001b[0msignaled\u001b[0m\u001b[0;34m\u001b[0m\u001b[0;34m\u001b[0m\u001b[0m\n\u001b[1;32m    560\u001b[0m \u001b[0;34m\u001b[0m\u001b[0m\n",
      "\u001b[0;32m/usr/lib/python3.8/threading.py\u001b[0m in \u001b[0;36mwait\u001b[0;34m(self, timeout)\u001b[0m\n\u001b[1;32m    304\u001b[0m             \u001b[0;32melse\u001b[0m\u001b[0;34m:\u001b[0m\u001b[0;34m\u001b[0m\u001b[0;34m\u001b[0m\u001b[0m\n\u001b[1;32m    305\u001b[0m                 \u001b[0;32mif\u001b[0m \u001b[0mtimeout\u001b[0m \u001b[0;34m>\u001b[0m \u001b[0;36m0\u001b[0m\u001b[0;34m:\u001b[0m\u001b[0;34m\u001b[0m\u001b[0;34m\u001b[0m\u001b[0m\n\u001b[0;32m--> 306\u001b[0;31m                     \u001b[0mgotit\u001b[0m \u001b[0;34m=\u001b[0m \u001b[0mwaiter\u001b[0m\u001b[0;34m.\u001b[0m\u001b[0macquire\u001b[0m\u001b[0;34m(\u001b[0m\u001b[0;32mTrue\u001b[0m\u001b[0;34m,\u001b[0m \u001b[0mtimeout\u001b[0m\u001b[0;34m)\u001b[0m\u001b[0;34m\u001b[0m\u001b[0;34m\u001b[0m\u001b[0m\n\u001b[0m\u001b[1;32m    307\u001b[0m                 \u001b[0;32melse\u001b[0m\u001b[0;34m:\u001b[0m\u001b[0;34m\u001b[0m\u001b[0;34m\u001b[0m\u001b[0m\n\u001b[1;32m    308\u001b[0m                     \u001b[0mgotit\u001b[0m \u001b[0;34m=\u001b[0m \u001b[0mwaiter\u001b[0m\u001b[0;34m.\u001b[0m\u001b[0macquire\u001b[0m\u001b[0;34m(\u001b[0m\u001b[0;32mFalse\u001b[0m\u001b[0;34m)\u001b[0m\u001b[0;34m\u001b[0m\u001b[0;34m\u001b[0m\u001b[0m\n",
      "\u001b[0;31mKeyboardInterrupt\u001b[0m: "
     ]
    },
    {
     "name": "stderr",
     "output_type": "stream",
     "text": [
      "ERROR:asyncio:Task exception was never retrieved\n",
      "future: <Task finished name='Task-56132' coro=<Client._gather.<locals>.wait() done, defined at /home/tunguz/.local/lib/python3.8/site-packages/distributed/client.py:1999> exception=AllExit()>\n",
      "Traceback (most recent call last):\n",
      "  File \"/home/tunguz/.local/lib/python3.8/site-packages/distributed/client.py\", line 2004, in wait\n",
      "    raise AllExit()\n",
      "distributed.client.AllExit\n",
      "ERROR:asyncio:Task exception was never retrieved\n",
      "future: <Task finished name='Task-56133' coro=<Client._gather.<locals>.wait() done, defined at /home/tunguz/.local/lib/python3.8/site-packages/distributed/client.py:1999> exception=AllExit()>\n",
      "Traceback (most recent call last):\n",
      "  File \"/home/tunguz/.local/lib/python3.8/site-packages/distributed/client.py\", line 2004, in wait\n",
      "    raise AllExit()\n",
      "distributed.client.AllExit\n"
     ]
    }
   ],
   "source": [
    "%%time\n",
    "study.optimize(objective, n_trials=50)"
   ]
  },
  {
   "cell_type": "code",
   "execution_count": 25,
   "id": "6d59e84e-339b-422f-87f8-c8a84ca9f301",
   "metadata": {},
   "outputs": [
    {
     "name": "stderr",
     "output_type": "stream",
     "text": [
      "[09:19:51] task [xgboost.dask]:tcp://127.0.0.1:41775 got new rank 0\n",
      "[09:19:51] task [xgboost.dask]:tcp://127.0.0.1:45717 got new rank 1\n",
      "\u001b[32m[I 2022-05-17 09:30:30,801]\u001b[0m Trial 52 finished with value: 0.9723809523809523 and parameters: {'objective': 'multi:softmax', 'tree_method': 'gpu_hist', 'lambda': 0.0014918933930989308, 'alpha': 2.50723010104015, 'colsample_bytree': 0.7269281331092075, 'subsample': 0.9178577889195211, 'learning_rate': 0.07766833785680123, 'max_depth': 22, 'min_child_weight': 9, 'eval_metric': 'merror'}. Best is trial 48 with value: 0.9726190476190476.\u001b[0m\n",
      "[09:30:30] task [xgboost.dask]:tcp://127.0.0.1:41775 got new rank 0\n",
      "[09:30:30] task [xgboost.dask]:tcp://127.0.0.1:45717 got new rank 1\n",
      "\u001b[32m[I 2022-05-17 09:40:54,663]\u001b[0m Trial 53 finished with value: 0.9685714285714285 and parameters: {'objective': 'multi:softmax', 'tree_method': 'gpu_hist', 'lambda': 0.0015644568094683002, 'alpha': 2.826455314081641, 'colsample_bytree': 0.7209337171464871, 'subsample': 0.9745396297675913, 'learning_rate': 0.0771818706351442, 'max_depth': 22, 'min_child_weight': 43, 'eval_metric': 'merror'}. Best is trial 48 with value: 0.9726190476190476.\u001b[0m\n",
      "[09:40:54] task [xgboost.dask]:tcp://127.0.0.1:45717 got new rank 0\n",
      "[09:40:54] task [xgboost.dask]:tcp://127.0.0.1:41775 got new rank 1\n",
      "\u001b[32m[I 2022-05-17 09:44:26,390]\u001b[0m Trial 54 finished with value: 0.97 and parameters: {'objective': 'multi:softmax', 'tree_method': 'gpu_hist', 'lambda': 0.0010883179423945765, 'alpha': 6.471819774893866, 'colsample_bytree': 0.711986685832464, 'subsample': 0.9188033725418441, 'learning_rate': 0.060360166120240775, 'max_depth': 20, 'min_child_weight': 12, 'eval_metric': 'merror'}. Best is trial 48 with value: 0.9726190476190476.\u001b[0m\n",
      "[09:44:26] task [xgboost.dask]:tcp://127.0.0.1:41775 got new rank 0\n",
      "[09:44:26] task [xgboost.dask]:tcp://127.0.0.1:45717 got new rank 1\n",
      "\u001b[32m[I 2022-05-17 10:04:53,984]\u001b[0m Trial 55 finished with value: 0.9695238095238096 and parameters: {'objective': 'multi:softmax', 'tree_method': 'gpu_hist', 'lambda': 0.003581280256202962, 'alpha': 2.4691570218213017, 'colsample_bytree': 0.7393085296431394, 'subsample': 0.9446382919050725, 'learning_rate': 0.09943008439063318, 'max_depth': 23, 'min_child_weight': 1, 'eval_metric': 'merror'}. Best is trial 48 with value: 0.9726190476190476.\u001b[0m\n",
      "[10:04:54] task [xgboost.dask]:tcp://127.0.0.1:41775 got new rank 0\n",
      "[10:04:54] task [xgboost.dask]:tcp://127.0.0.1:45717 got new rank 1\n",
      "\u001b[32m[I 2022-05-17 10:10:30,297]\u001b[0m Trial 56 finished with value: 0.9672619047619048 and parameters: {'objective': 'multi:softmax', 'tree_method': 'gpu_hist', 'lambda': 0.0015175452330848365, 'alpha': 4.448633523172778, 'colsample_bytree': 0.6193856603574097, 'subsample': 0.9935027963000331, 'learning_rate': 0.07161067757235393, 'max_depth': 21, 'min_child_weight': 60, 'eval_metric': 'merror'}. Best is trial 48 with value: 0.9726190476190476.\u001b[0m\n",
      "[10:10:30] task [xgboost.dask]:tcp://127.0.0.1:41775 got new rank 0\n",
      "[10:10:30] task [xgboost.dask]:tcp://127.0.0.1:45717 got new rank 1\n",
      "\u001b[32m[I 2022-05-17 10:12:39,109]\u001b[0m Trial 57 finished with value: 0.9689285714285715 and parameters: {'objective': 'multi:softmax', 'tree_method': 'gpu_hist', 'lambda': 0.004802627664658455, 'alpha': 2.3607785631259097, 'colsample_bytree': 0.6691910127404418, 'subsample': 0.8410212293778232, 'learning_rate': 0.05782148817000018, 'max_depth': 19, 'min_child_weight': 36, 'eval_metric': 'merror'}. Best is trial 48 with value: 0.9726190476190476.\u001b[0m\n",
      "[10:12:39] task [xgboost.dask]:tcp://127.0.0.1:45717 got new rank 0\n",
      "[10:12:39] task [xgboost.dask]:tcp://127.0.0.1:41775 got new rank 1\n",
      "\u001b[32m[I 2022-05-17 10:32:27,225]\u001b[0m Trial 58 finished with value: 0.9682142857142857 and parameters: {'objective': 'multi:softmax', 'tree_method': 'gpu_hist', 'lambda': 0.0021187963846672586, 'alpha': 7.525074858589454, 'colsample_bytree': 0.5161652215068812, 'subsample': 0.8789758786667656, 'learning_rate': 0.08151314830428348, 'max_depth': 23, 'min_child_weight': 23, 'eval_metric': 'merror'}. Best is trial 48 with value: 0.9726190476190476.\u001b[0m\n",
      "[10:32:27] task [xgboost.dask]:tcp://127.0.0.1:45717 got new rank 0\n",
      "[10:32:27] task [xgboost.dask]:tcp://127.0.0.1:41775 got new rank 1\n",
      "\u001b[32m[I 2022-05-17 10:33:38,565]\u001b[0m Trial 59 finished with value: 0.9532142857142857 and parameters: {'objective': 'multi:softmax', 'tree_method': 'gpu_hist', 'lambda': 0.0029317397817452805, 'alpha': 1.3754554665532384, 'colsample_bytree': 0.7461252606396029, 'subsample': 0.9121877302405905, 'learning_rate': 0.07150393753490733, 'max_depth': 18, 'min_child_weight': 161, 'eval_metric': 'merror'}. Best is trial 48 with value: 0.9726190476190476.\u001b[0m\n",
      "[10:33:38] task [xgboost.dask]:tcp://127.0.0.1:45717 got new rank 0\n",
      "[10:33:38] task [xgboost.dask]:tcp://127.0.0.1:41775 got new rank 1\n",
      "\u001b[32m[I 2022-05-17 11:12:12,264]\u001b[0m Trial 60 finished with value: 0.9608333333333333 and parameters: {'objective': 'multi:softmax', 'tree_method': 'gpu_hist', 'lambda': 0.0010337243731553558, 'alpha': 3.8383588848695602, 'colsample_bytree': 0.8240897622808516, 'subsample': 0.9699867641539011, 'learning_rate': 0.03260405051386599, 'max_depth': 24, 'min_child_weight': 82, 'eval_metric': 'merror'}. Best is trial 48 with value: 0.9726190476190476.\u001b[0m\n",
      "[11:12:12] task [xgboost.dask]:tcp://127.0.0.1:45717 got new rank 0\n",
      "[11:12:12] task [xgboost.dask]:tcp://127.0.0.1:41775 got new rank 1\n",
      "\u001b[32m[I 2022-05-17 12:29:39,051]\u001b[0m Trial 61 finished with value: 0.9732142857142857 and parameters: {'objective': 'multi:softmax', 'tree_method': 'gpu_hist', 'lambda': 0.0014188193497429564, 'alpha': 0.9262973010712026, 'colsample_bytree': 0.7931238889421061, 'subsample': 0.8883054198094036, 'learning_rate': 0.054476148815801886, 'max_depth': 25, 'min_child_weight': 8, 'eval_metric': 'merror'}. Best is trial 61 with value: 0.9732142857142857.\u001b[0m\n"
     ]
    },
    {
     "name": "stdout",
     "output_type": "stream",
     "text": [
      "CPU times: user 5min 1s, sys: 2min 2s, total: 7min 4s\n",
      "Wall time: 3h 9min 47s\n"
     ]
    }
   ],
   "source": [
    "%%time\n",
    "study.optimize(objective, n_trials=10)"
   ]
  },
  {
   "cell_type": "code",
   "execution_count": 26,
   "id": "b54c8b18-5e56-46dc-b57e-790fdf041440",
   "metadata": {},
   "outputs": [],
   "source": [
    "def objective(trial):\n",
    "        \n",
    "    params = {\n",
    "        'objective': trial.suggest_categorical('objective',['multi:softmax']), \n",
    "        'tree_method': trial.suggest_categorical('tree_method',['gpu_hist']),  # 'gpu_hist','hist'\n",
    "        'lambda': trial.suggest_loguniform('lambda',1e-3, 1.0),\n",
    "        'alpha': trial.suggest_loguniform('alpha',1e-3, 10.0),\n",
    "        'colsample_bytree': trial.suggest_uniform('colsample_bytree', 0.7, 1.0),\n",
    "        'subsample': trial.suggest_uniform('subsample', 0.7, 1.0),\n",
    "        'learning_rate': trial.suggest_loguniform('learning_rate', 0.001, 0.1),\n",
    "        #'n_estimators': trial.suggest_categorical('n_estimators', [1000]),\n",
    "        'max_depth': trial.suggest_int('max_depth', 20, 50),\n",
    "        #'random_state': trial.suggest_categorical('random_state', [24,48,2020]),\n",
    "        'min_child_weight': trial.suggest_int('min_child_weight', 1, 100),\n",
    "        'eval_metric': trial.suggest_categorical('eval_metric',['merror']),\n",
    "        'num_class': 10,\n",
    "\n",
    "    }\n",
    "\n",
    "    output = xgb.dask.train(client, params, dtrain, num_round)\n",
    "    \n",
    "    booster = output['booster']  # booster is the trained model\n",
    "    booster.set_param({'predictor': 'gpu_predictor'})\n",
    "\n",
    "    predictions = xgb.dask.predict(client, booster, dtest)\n",
    "    \n",
    "    predictions = predictions.compute()\n",
    "\n",
    "    acc = accuracy_score(test_y, predictions)\n",
    "    \n",
    "    return acc"
   ]
  },
  {
   "cell_type": "code",
   "execution_count": null,
   "id": "161c77e9-0594-4cb1-9c45-9e6079e0014a",
   "metadata": {},
   "outputs": [
    {
     "name": "stderr",
     "output_type": "stream",
     "text": [
      "/usr/local/lib/python3.8/dist-packages/optuna/samplers/_tpe/parzen_estimator.py:188: RuntimeWarning: divide by zero encountered in true_divide\n",
      "  coefficient = 1 / z / p_accept\n",
      "[12:32:53] task [xgboost.dask]:tcp://127.0.0.1:45717 got new rank 0\n",
      "[12:32:53] task [xgboost.dask]:tcp://127.0.0.1:41775 got new rank 1\n",
      "\u001b[32m[I 2022-05-17 22:40:33,917]\u001b[0m Trial 62 finished with value: 0.9728571428571429 and parameters: {'objective': 'multi:softmax', 'tree_method': 'gpu_hist', 'lambda': 0.00849419392820182, 'alpha': 1.758134942739422, 'colsample_bytree': 0.7651183704243859, 'subsample': 0.8252661565079328, 'learning_rate': 0.05374623776610904, 'max_depth': 28, 'min_child_weight': 7, 'eval_metric': 'merror'}. Best is trial 61 with value: 0.9732142857142857.\u001b[0m\n",
      "/usr/local/lib/python3.8/dist-packages/optuna/samplers/_tpe/parzen_estimator.py:188: RuntimeWarning: divide by zero encountered in true_divide\n",
      "  coefficient = 1 / z / p_accept\n",
      "[22:40:33] task [xgboost.dask]:tcp://127.0.0.1:45717 got new rank 0\n",
      "[22:40:33] task [xgboost.dask]:tcp://127.0.0.1:41775 got new rank 1\n",
      "\u001b[32m[I 2022-05-18 08:49:03,526]\u001b[0m Trial 63 finished with value: 0.9726190476190476 and parameters: {'objective': 'multi:softmax', 'tree_method': 'gpu_hist', 'lambda': 0.3563288488868927, 'alpha': 0.8779898242482292, 'colsample_bytree': 0.7747843597298892, 'subsample': 0.9977417897232148, 'learning_rate': 0.05480250897118518, 'max_depth': 28, 'min_child_weight': 6, 'eval_metric': 'merror'}. Best is trial 61 with value: 0.9732142857142857.\u001b[0m\n",
      "/usr/local/lib/python3.8/dist-packages/optuna/samplers/_tpe/parzen_estimator.py:188: RuntimeWarning: divide by zero encountered in true_divide\n",
      "  coefficient = 1 / z / p_accept\n",
      "[08:49:03] task [xgboost.dask]:tcp://127.0.0.1:45717 got new rank 0\n",
      "[08:49:03] task [xgboost.dask]:tcp://127.0.0.1:41775 got new rank 1\n"
     ]
    }
   ],
   "source": [
    "%%time\n",
    "study.optimize(objective, n_trials=10)"
   ]
  },
  {
   "cell_type": "code",
   "execution_count": 28,
   "id": "eab2f900-c6c0-4a58-9d06-2c012accfcd5",
   "metadata": {},
   "outputs": [
    {
     "data": {
      "text/plain": [
       "1"
      ]
     },
     "execution_count": 28,
     "metadata": {},
     "output_type": "execute_result"
    }
   ],
   "source": [
    "1"
   ]
  },
  {
   "cell_type": "code",
   "execution_count": 29,
   "id": "9861dc39-0180-4136-a10e-9ba6c0c9df37",
   "metadata": {},
   "outputs": [
    {
     "data": {
      "text/plain": [
       "2"
      ]
     },
     "execution_count": 29,
     "metadata": {},
     "output_type": "execute_result"
    }
   ],
   "source": [
    "2"
   ]
  },
  {
   "cell_type": "code",
   "execution_count": 30,
   "id": "ff39edea-5fe5-43cd-a942-71df3f2c2ef6",
   "metadata": {},
   "outputs": [
    {
     "data": {
      "text/plain": [
       "3"
      ]
     },
     "execution_count": 30,
     "metadata": {},
     "output_type": "execute_result"
    }
   ],
   "source": [
    "3"
   ]
  },
  {
   "cell_type": "code",
   "execution_count": 31,
   "id": "7014a924-e39e-4b62-802e-77e3c3d0af3d",
   "metadata": {},
   "outputs": [
    {
     "data": {
      "text/plain": [
       "{'objective': 'multi:softmax',\n",
       " 'tree_method': 'gpu_hist',\n",
       " 'lambda': 0.0022882170229771605,\n",
       " 'alpha': 0.23689051402096456,\n",
       " 'colsample_bytree': 0.8304416579518725,\n",
       " 'subsample': 0.7626959348447965,\n",
       " 'learning_rate': 0.052451504665423504,\n",
       " 'max_depth': 28,\n",
       " 'min_child_weight': 6,\n",
       " 'eval_metric': 'merror'}"
      ]
     },
     "execution_count": 31,
     "metadata": {},
     "output_type": "execute_result"
    }
   ],
   "source": [
    "study.best_params"
   ]
  },
  {
   "cell_type": "code",
   "execution_count": 32,
   "id": "be52f0a4-daf8-4fea-aaf3-f27418cd8d0c",
   "metadata": {},
   "outputs": [
    {
     "data": {
      "text/plain": [
       "0.9735714285714285"
      ]
     },
     "execution_count": 32,
     "metadata": {},
     "output_type": "execute_result"
    }
   ],
   "source": [
    "study.best_value"
   ]
  },
  {
   "cell_type": "code",
   "execution_count": 33,
   "id": "a6a3cdd7-8d74-4923-83fe-df3eadd04b46",
   "metadata": {},
   "outputs": [
    {
     "data": {
      "text/plain": [
       "FrozenTrial(number=66, values=[0.9735714285714285], datetime_start=datetime.datetime(2022, 5, 19, 5, 5, 15, 164730), datetime_complete=datetime.datetime(2022, 5, 19, 15, 13, 14, 780381), params={'objective': 'multi:softmax', 'tree_method': 'gpu_hist', 'lambda': 0.0022882170229771605, 'alpha': 0.23689051402096456, 'colsample_bytree': 0.8304416579518725, 'subsample': 0.7626959348447965, 'learning_rate': 0.052451504665423504, 'max_depth': 28, 'min_child_weight': 6, 'eval_metric': 'merror'}, distributions={'objective': CategoricalDistribution(choices=('multi:softmax',)), 'tree_method': CategoricalDistribution(choices=('gpu_hist',)), 'lambda': LogUniformDistribution(high=1.0, low=0.001), 'alpha': LogUniformDistribution(high=10.0, low=0.001), 'colsample_bytree': UniformDistribution(high=1.0, low=0.7), 'subsample': UniformDistribution(high=1.0, low=0.7), 'learning_rate': LogUniformDistribution(high=0.1, low=0.001), 'max_depth': IntUniformDistribution(high=50, low=20, step=1), 'min_child_weight': IntUniformDistribution(high=100, low=1, step=1), 'eval_metric': CategoricalDistribution(choices=('merror',))}, user_attrs={}, system_attrs={}, intermediate_values={}, trial_id=66, state=TrialState.COMPLETE, value=None)"
      ]
     },
     "execution_count": 33,
     "metadata": {},
     "output_type": "execute_result"
    }
   ],
   "source": [
    "study.best_trial"
   ]
  },
  {
   "cell_type": "code",
   "execution_count": 34,
   "id": "50eb0fa9-0ce0-473c-bbe0-220ae8c3c166",
   "metadata": {},
   "outputs": [
    {
     "data": {
      "text/plain": [
       "[FrozenTrial(number=66, values=[0.9735714285714285], datetime_start=datetime.datetime(2022, 5, 19, 5, 5, 15, 164730), datetime_complete=datetime.datetime(2022, 5, 19, 15, 13, 14, 780381), params={'objective': 'multi:softmax', 'tree_method': 'gpu_hist', 'lambda': 0.0022882170229771605, 'alpha': 0.23689051402096456, 'colsample_bytree': 0.8304416579518725, 'subsample': 0.7626959348447965, 'learning_rate': 0.052451504665423504, 'max_depth': 28, 'min_child_weight': 6, 'eval_metric': 'merror'}, distributions={'objective': CategoricalDistribution(choices=('multi:softmax',)), 'tree_method': CategoricalDistribution(choices=('gpu_hist',)), 'lambda': LogUniformDistribution(high=1.0, low=0.001), 'alpha': LogUniformDistribution(high=10.0, low=0.001), 'colsample_bytree': UniformDistribution(high=1.0, low=0.7), 'subsample': UniformDistribution(high=1.0, low=0.7), 'learning_rate': LogUniformDistribution(high=0.1, low=0.001), 'max_depth': IntUniformDistribution(high=50, low=20, step=1), 'min_child_weight': IntUniformDistribution(high=100, low=1, step=1), 'eval_metric': CategoricalDistribution(choices=('merror',))}, user_attrs={}, system_attrs={}, intermediate_values={}, trial_id=66, state=TrialState.COMPLETE, value=None)]"
      ]
     },
     "execution_count": 34,
     "metadata": {},
     "output_type": "execute_result"
    }
   ],
   "source": [
    "study.best_trials"
   ]
  },
  {
   "cell_type": "code",
   "execution_count": null,
   "id": "c6456929-b216-4fa1-9127-6cb685ff6543",
   "metadata": {},
   "outputs": [],
   "source": []
  }
 ],
 "metadata": {
  "kernelspec": {
   "display_name": "Python 3 (ipykernel)",
   "language": "python",
   "name": "python3"
  },
  "language_info": {
   "codemirror_mode": {
    "name": "ipython",
    "version": 3
   },
   "file_extension": ".py",
   "mimetype": "text/x-python",
   "name": "python",
   "nbconvert_exporter": "python",
   "pygments_lexer": "ipython3",
   "version": "3.8.10"
  }
 },
 "nbformat": 4,
 "nbformat_minor": 5
}
