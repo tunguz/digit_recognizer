{
 "cells": [
  {
   "cell_type": "code",
   "execution_count": 1,
   "id": "f2d076f1",
   "metadata": {
    "_cell_guid": "b1076dfc-b9ad-4769-8c92-a6c4dae69d19",
    "_uuid": "8f2839f25d086af736a60e9eeb907d3b93b6e0e5",
    "execution": {
     "iopub.execute_input": "2022-02-22T13:42:36.268919Z",
     "iopub.status.busy": "2022-02-22T13:42:36.267414Z",
     "iopub.status.idle": "2022-02-22T13:42:40.432865Z",
     "shell.execute_reply": "2022-02-22T13:42:40.432094Z",
     "shell.execute_reply.started": "2022-02-22T13:39:38.148829Z"
    },
    "papermill": {
     "duration": 4.181493,
     "end_time": "2022-02-22T13:42:40.433050",
     "exception": false,
     "start_time": "2022-02-22T13:42:36.251557",
     "status": "completed"
    },
    "tags": []
   },
   "outputs": [
    {
     "name": "stdout",
     "output_type": "stream",
     "text": [
      "/kaggle/input/digit-recognizer/sample_submission.csv\n",
      "/kaggle/input/digit-recognizer/train.csv\n",
      "/kaggle/input/digit-recognizer/test.csv\n"
     ]
    }
   ],
   "source": [
    "# This Python 3 environment comes with many helpful analytics libraries installed\n",
    "# It is defined by the kaggle/python docker image: https://github.com/kaggle/docker-python\n",
    "# For example, here's several helpful packages to load in \n",
    "\n",
    "import numpy as np # linear algebra\n",
    "import pandas as pd # data processing, CSV file I/O (e.g. pd.read_csv)\n",
    "\n",
    "from cuml import SVC\n",
    "from sklearn.decomposition import PCA\n",
    "\n",
    "\n",
    "from sklearn.model_selection import KFold\n",
    "from sklearn.metrics import accuracy_score\n",
    "\n",
    "\n",
    "# Input data files are available in the \"../input/\" directory.\n",
    "# For example, running this (by clicking run or pressing Shift+Enter) will list all files under the input directory\n",
    "import gc\n",
    "import os\n",
    "for dirname, _, filenames in os.walk('/kaggle/input'):\n",
    "    for filename in filenames:\n",
    "        print(os.path.join(dirname, filename))\n",
    "\n",
    "# Any results you write to the current directory are saved as output."
   ]
  },
  {
   "cell_type": "code",
   "execution_count": 2,
   "id": "5f452e5c",
   "metadata": {
    "_cell_guid": "79c7e3d0-c299-4dcb-8224-4455121ee9b0",
    "_uuid": "d629ff2d2480ee46fbb7e2d37f6b5fab8052498a",
    "execution": {
     "iopub.execute_input": "2022-02-22T13:42:40.462795Z",
     "iopub.status.busy": "2022-02-22T13:42:40.462106Z",
     "iopub.status.idle": "2022-02-22T13:42:45.227270Z",
     "shell.execute_reply": "2022-02-22T13:42:45.226711Z",
     "shell.execute_reply.started": "2022-02-22T13:39:39.412324Z"
    },
    "papermill": {
     "duration": 4.780754,
     "end_time": "2022-02-22T13:42:45.227414",
     "exception": false,
     "start_time": "2022-02-22T13:42:40.446660",
     "status": "completed"
    },
    "tags": []
   },
   "outputs": [],
   "source": [
    "train = pd.read_csv('../input/digit-recognizer/train.csv')\n",
    "test = pd.read_csv('../input/digit-recognizer/test.csv')\n",
    "submission = pd.read_csv('../input/digit-recognizer/sample_submission.csv')"
   ]
  },
  {
   "cell_type": "code",
   "execution_count": 3,
   "id": "5e878a84",
   "metadata": {
    "execution": {
     "iopub.execute_input": "2022-02-22T13:42:45.260295Z",
     "iopub.status.busy": "2022-02-22T13:42:45.259538Z",
     "iopub.status.idle": "2022-02-22T13:42:49.228854Z",
     "shell.execute_reply": "2022-02-22T13:42:49.229887Z",
     "shell.execute_reply.started": "2022-02-22T13:39:44.394603Z"
    },
    "papermill": {
     "duration": 3.99134,
     "end_time": "2022-02-22T13:42:49.230228",
     "exception": false,
     "start_time": "2022-02-22T13:42:45.238888",
     "status": "completed"
    },
    "tags": []
   },
   "outputs": [
    {
     "name": "stdout",
     "output_type": "stream",
     "text": [
      "CPU times: user 6.76 s, sys: 509 ms, total: 7.27 s\n",
      "Wall time: 3.97 s\n"
     ]
    }
   ],
   "source": [
    "%%time\n",
    "X = train[train.columns[1:]].values.astype('float32')\n",
    "test = test.values.astype('float32')\n",
    "Y = train.label.values\n",
    "\n",
    "pca = PCA(n_components=0.81,whiten=True)\n",
    "X = pca.fit_transform(X)\n",
    "test = pca.transform(test)"
   ]
  },
  {
   "cell_type": "code",
   "execution_count": 4,
   "id": "f695e421",
   "metadata": {
    "execution": {
     "iopub.execute_input": "2022-02-22T13:42:49.297141Z",
     "iopub.status.busy": "2022-02-22T13:42:49.296128Z",
     "iopub.status.idle": "2022-02-22T13:42:49.304673Z",
     "shell.execute_reply": "2022-02-22T13:42:49.305508Z",
     "shell.execute_reply.started": "2022-02-22T13:39:49.505817Z"
    },
    "papermill": {
     "duration": 0.047456,
     "end_time": "2022-02-22T13:42:49.305736",
     "exception": false,
     "start_time": "2022-02-22T13:42:49.258280",
     "status": "completed"
    },
    "tags": []
   },
   "outputs": [
    {
     "data": {
      "text/plain": [
       "array([[-1.1434386 , -1.4102774 ,  0.3989584 , ..., -0.31265825,\n",
       "        -1.7942585 ,  0.2944341 ],\n",
       "       [ 2.940607  , -0.72715694, -1.092299  , ..., -0.38918358,\n",
       "        -0.95037925, -0.37978494],\n",
       "       [-1.532833  , -0.5924114 ,  0.14617933, ...,  0.94344145,\n",
       "         0.29235944,  1.1810437 ],\n",
       "       ...,\n",
       "       [ 0.5811772 ,  1.9158621 , -0.3670117 , ..., -0.79390925,\n",
       "         1.2700334 , -0.05094685],\n",
       "       [ 0.56584615,  0.1250652 ,  1.5183536 , ...,  0.01327274,\n",
       "        -1.9172097 , -0.4242991 ],\n",
       "       [-0.6295326 ,  0.84476745,  0.13691647, ...,  0.6503016 ,\n",
       "         0.47275987,  0.19782908]], dtype=float32)"
      ]
     },
     "execution_count": 4,
     "metadata": {},
     "output_type": "execute_result"
    }
   ],
   "source": [
    "X"
   ]
  },
  {
   "cell_type": "code",
   "execution_count": null,
   "id": "49a106b1",
   "metadata": {
    "papermill": {
     "duration": 0.022786,
     "end_time": "2022-02-22T13:42:49.352967",
     "exception": false,
     "start_time": "2022-02-22T13:42:49.330181",
     "status": "completed"
    },
    "tags": []
   },
   "outputs": [],
   "source": [
    "\n"
   ]
  },
  {
   "cell_type": "code",
   "execution_count": 5,
   "id": "9dab8716",
   "metadata": {
    "execution": {
     "iopub.execute_input": "2022-02-22T13:42:49.383004Z",
     "iopub.status.busy": "2022-02-22T13:42:49.381007Z",
     "iopub.status.idle": "2022-02-22T13:42:49.387945Z",
     "shell.execute_reply": "2022-02-22T13:42:49.388430Z",
     "shell.execute_reply.started": "2022-02-22T13:39:52.127069Z"
    },
    "papermill": {
     "duration": 0.022547,
     "end_time": "2022-02-22T13:42:49.388552",
     "exception": false,
     "start_time": "2022-02-22T13:42:49.366005",
     "status": "completed"
    },
    "tags": []
   },
   "outputs": [
    {
     "data": {
      "text/plain": [
       "(42000, 10)"
      ]
     },
     "execution_count": 5,
     "metadata": {},
     "output_type": "execute_result"
    }
   ],
   "source": [
    "train_oof = np.zeros((X.shape[0], 10))\n",
    "test_preds = 0\n",
    "train_oof.shape"
   ]
  },
  {
   "cell_type": "code",
   "execution_count": 6,
   "id": "56eb1cdc",
   "metadata": {
    "execution": {
     "iopub.execute_input": "2022-02-22T13:42:49.421601Z",
     "iopub.status.busy": "2022-02-22T13:42:49.420993Z",
     "iopub.status.idle": "2022-02-22T13:44:33.510248Z",
     "shell.execute_reply": "2022-02-22T13:44:33.510659Z",
     "shell.execute_reply.started": "2022-02-22T13:39:57.314888Z"
    },
    "papermill": {
     "duration": 104.108666,
     "end_time": "2022-02-22T13:44:33.510837",
     "exception": false,
     "start_time": "2022-02-22T13:42:49.402171",
     "status": "completed"
    },
    "tags": []
   },
   "outputs": [
    {
     "name": "stderr",
     "output_type": "stream",
     "text": [
      "/opt/conda/lib/python3.7/site-packages/sklearn/model_selection/_split.py:297: FutureWarning: Setting a random_state has no effect since shuffle is False. This will raise an error in 0.24. You should leave random_state to its default (None), or set shuffle=True.\n",
      "  FutureWarning\n"
     ]
    },
    {
     "name": "stdout",
     "output_type": "stream",
     "text": [
      "Fitting fold 1\n",
      "Fold accuracy: 0.9811904761904762\n",
      "Fitting fold 2\n",
      "Fold accuracy: 0.9810714285714286\n",
      "Fitting fold 3\n",
      "Fold accuracy: 0.9785714285714285\n",
      "Fitting fold 4\n",
      "Fold accuracy: 0.9802380952380952\n",
      "Fitting fold 5\n",
      "Fold accuracy: 0.9810714285714286\n",
      "CPU times: user 1min 17s, sys: 23.6 s, total: 1min 41s\n",
      "Wall time: 1min 44s\n"
     ]
    }
   ],
   "source": [
    "%%time\n",
    "n_splits = 5\n",
    "kf = KFold(n_splits=n_splits, random_state=137)\n",
    "\n",
    "for jj, (train_index, val_index) in enumerate(kf.split(X)):\n",
    "    print(\"Fitting fold\", jj+1)\n",
    "    train_features = X[train_index]\n",
    "    train_target = Y[train_index]\n",
    "    \n",
    "    val_features = X[val_index]\n",
    "    val_target = Y[val_index]\n",
    "    \n",
    "    model =  SVC(kernel='rbf',C=10, probability=True)\n",
    "    model.fit(train_features, train_target)\n",
    "    val_pred = model.predict_proba(val_features)\n",
    "    train_oof[val_index] = val_pred\n",
    "    print(\"Fold accuracy:\", accuracy_score(val_target, np.argmax(val_pred, axis=1)))\n",
    "    test_preds += model.predict_proba(test)/n_splits\n",
    "    del train_features, train_target, val_features, val_target\n",
    "    gc.collect()"
   ]
  },
  {
   "cell_type": "code",
   "execution_count": 7,
   "id": "90a274a7",
   "metadata": {
    "execution": {
     "iopub.execute_input": "2022-02-22T13:44:33.548633Z",
     "iopub.status.busy": "2022-02-22T13:44:33.547911Z",
     "iopub.status.idle": "2022-02-22T13:44:33.554916Z",
     "shell.execute_reply": "2022-02-22T13:44:33.555322Z",
     "shell.execute_reply.started": "2022-02-22T13:41:39.709826Z"
    },
    "papermill": {
     "duration": 0.028284,
     "end_time": "2022-02-22T13:44:33.555439",
     "exception": false,
     "start_time": "2022-02-22T13:44:33.527155",
     "status": "completed"
    },
    "tags": []
   },
   "outputs": [
    {
     "name": "stdout",
     "output_type": "stream",
     "text": [
      "0.9804285714285714\n"
     ]
    }
   ],
   "source": [
    "print(accuracy_score(Y, np.argmax(train_oof, axis=1)))"
   ]
  },
  {
   "cell_type": "code",
   "execution_count": 8,
   "id": "8b56f108",
   "metadata": {
    "execution": {
     "iopub.execute_input": "2022-02-22T13:44:33.589493Z",
     "iopub.status.busy": "2022-02-22T13:44:33.589004Z",
     "iopub.status.idle": "2022-02-22T13:44:33.596042Z",
     "shell.execute_reply": "2022-02-22T13:44:33.596510Z",
     "shell.execute_reply.started": "2022-02-22T13:41:41.253739Z"
    },
    "papermill": {
     "duration": 0.025523,
     "end_time": "2022-02-22T13:44:33.596641",
     "exception": false,
     "start_time": "2022-02-22T13:44:33.571118",
     "status": "completed"
    },
    "tags": []
   },
   "outputs": [
    {
     "data": {
      "text/plain": [
       "array([2, 0, 9, ..., 3, 9, 2])"
      ]
     },
     "execution_count": 8,
     "metadata": {},
     "output_type": "execute_result"
    }
   ],
   "source": [
    "preds = np.argmax(test_preds, axis=1)\n",
    "preds"
   ]
  },
  {
   "cell_type": "code",
   "execution_count": 9,
   "id": "8f5cde31",
   "metadata": {
    "execution": {
     "iopub.execute_input": "2022-02-22T13:44:33.633377Z",
     "iopub.status.busy": "2022-02-22T13:44:33.632698Z",
     "iopub.status.idle": "2022-02-22T13:44:33.673723Z",
     "shell.execute_reply": "2022-02-22T13:44:33.673313Z",
     "shell.execute_reply.started": "2022-02-22T13:41:42.935780Z"
    },
    "papermill": {
     "duration": 0.061241,
     "end_time": "2022-02-22T13:44:33.673860",
     "exception": false,
     "start_time": "2022-02-22T13:44:33.612619",
     "status": "completed"
    },
    "tags": []
   },
   "outputs": [],
   "source": [
    "submission['Label'] = preds\n",
    "submission.to_csv('submission.csv', index=False)"
   ]
  },
  {
   "cell_type": "code",
   "execution_count": 10,
   "id": "b9a510ff",
   "metadata": {
    "execution": {
     "iopub.execute_input": "2022-02-22T13:44:33.711471Z",
     "iopub.status.busy": "2022-02-22T13:44:33.710652Z",
     "iopub.status.idle": "2022-02-22T13:44:33.716941Z",
     "shell.execute_reply": "2022-02-22T13:44:33.716519Z",
     "shell.execute_reply.started": "2022-02-22T13:41:44.348416Z"
    },
    "papermill": {
     "duration": 0.027126,
     "end_time": "2022-02-22T13:44:33.717048",
     "exception": false,
     "start_time": "2022-02-22T13:44:33.689922",
     "status": "completed"
    },
    "tags": []
   },
   "outputs": [],
   "source": [
    "np.save('test_preds', test_preds)\n",
    "np.save('train_oof', train_oof)"
   ]
  },
  {
   "cell_type": "code",
   "execution_count": null,
   "id": "99d55042",
   "metadata": {
    "papermill": {
     "duration": 0.015815,
     "end_time": "2022-02-22T13:44:33.748844",
     "exception": false,
     "start_time": "2022-02-22T13:44:33.733029",
     "status": "completed"
    },
    "tags": []
   },
   "outputs": [],
   "source": []
  }
 ],
 "metadata": {
  "kernelspec": {
   "display_name": "Python 3",
   "language": "python",
   "name": "python3"
  },
  "language_info": {
   "codemirror_mode": {
    "name": "ipython",
    "version": 3
   },
   "file_extension": ".py",
   "mimetype": "text/x-python",
   "name": "python",
   "nbconvert_exporter": "python",
   "pygments_lexer": "ipython3",
   "version": "3.7.12"
  },
  "papermill": {
   "default_parameters": {},
   "duration": 126.786223,
   "end_time": "2022-02-22T13:44:35.277480",
   "environment_variables": {},
   "exception": null,
   "input_path": "__notebook__.ipynb",
   "output_path": "__notebook__.ipynb",
   "parameters": {},
   "start_time": "2022-02-22T13:42:28.491257",
   "version": "2.3.3"
  }
 },
 "nbformat": 4,
 "nbformat_minor": 5
}
