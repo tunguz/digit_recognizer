{
 "cells": [
  {
   "cell_type": "code",
   "execution_count": 1,
   "id": "bd19a0fd-172f-45ca-a4b9-e961be401f6d",
   "metadata": {},
   "outputs": [],
   "source": [
    "import os\n",
    "#os.environ[\"CUDA_DEVICE_ORDER\"]=\"PCI_BUS_ID\"\n",
    "#os.environ[\"CUDA_VISIBLE_DEVICES\"]=\"0, 1\""
   ]
  },
  {
   "cell_type": "code",
   "execution_count": 2,
   "id": "2fce9d4a-a8b2-45e7-9506-b77821911a0a",
   "metadata": {},
   "outputs": [
    {
     "data": {
      "text/plain": [
       "'2022.03.0'"
      ]
     },
     "execution_count": 2,
     "metadata": {},
     "output_type": "execute_result"
    }
   ],
   "source": [
    "from dask.distributed import Client\n",
    "from dask_cuda import LocalCUDACluster\n",
    "from dask import dataframe as dd\n",
    "import pandas as pd\n",
    "import numpy as np\n",
    "import xgboost as xgb\n",
    "from sklearn.model_selection import KFold, train_test_split\n",
    "from sklearn.metrics import accuracy_score\n",
    "from sklearn.preprocessing import StandardScaler\n",
    "from sklearn.preprocessing import LabelEncoder\n",
    "import optuna\n",
    "import gc\n",
    "import dask\n",
    "dask.__version__"
   ]
  },
  {
   "cell_type": "code",
   "execution_count": 3,
   "id": "9c9b1d12-98d9-40c8-b392-7fa23ba4d123",
   "metadata": {},
   "outputs": [
    {
     "data": {
      "text/plain": [
       "'1.6.1'"
      ]
     },
     "execution_count": 3,
     "metadata": {},
     "output_type": "execute_result"
    }
   ],
   "source": [
    "xgb.__version__"
   ]
  },
  {
   "cell_type": "code",
   "execution_count": 4,
   "id": "83cc1ded-e05c-4e26-b9bd-49147be6579e",
   "metadata": {},
   "outputs": [
    {
     "name": "stdout",
     "output_type": "stream",
     "text": [
      "Sun May 22 21:36:52 2022       \n",
      "+-----------------------------------------------------------------------------+\n",
      "| NVIDIA-SMI 470.57.02    Driver Version: 470.57.02    CUDA Version: 11.4     |\n",
      "|-------------------------------+----------------------+----------------------+\n",
      "| GPU  Name        Persistence-M| Bus-Id        Disp.A | Volatile Uncorr. ECC |\n",
      "| Fan  Temp  Perf  Pwr:Usage/Cap|         Memory-Usage | GPU-Util  Compute M. |\n",
      "|                               |                      |               MIG M. |\n",
      "|===============================+======================+======================|\n",
      "|   0  NVIDIA TITAN RTX    On   | 00000000:09:00.0 Off |                  N/A |\n",
      "| 41%   44C    P8    30W / 280W |      5MiB / 24220MiB |      0%      Default |\n",
      "|                               |                      |                  N/A |\n",
      "+-------------------------------+----------------------+----------------------+\n",
      "|   1  NVIDIA TITAN RTX    On   | 00000000:41:00.0 Off |                  N/A |\n",
      "| 41%   51C    P8    33W / 280W |    108MiB / 24217MiB |      0%      Default |\n",
      "|                               |                      |                  N/A |\n",
      "+-------------------------------+----------------------+----------------------+\n",
      "                                                                               \n",
      "+-----------------------------------------------------------------------------+\n",
      "| Processes:                                                                  |\n",
      "|  GPU   GI   CI        PID   Type   Process name                  GPU Memory |\n",
      "|        ID   ID                                                   Usage      |\n",
      "|=============================================================================|\n",
      "|    0   N/A  N/A      1254      G   /usr/lib/xorg/Xorg                  4MiB |\n",
      "|    1   N/A  N/A      1254      G   /usr/lib/xorg/Xorg                 82MiB |\n",
      "|    1   N/A  N/A      1500      G   /usr/bin/gnome-shell               11MiB |\n",
      "|    1   N/A  N/A      6719      G   ...mviewer/tv_bin/TeamViewer       11MiB |\n",
      "+-----------------------------------------------------------------------------+\n"
     ]
    }
   ],
   "source": [
    "!nvidia-smi"
   ]
  },
  {
   "cell_type": "code",
   "execution_count": 5,
   "id": "d31cebf5-cd3b-4da3-af8a-0b146d310d3f",
   "metadata": {},
   "outputs": [
    {
     "name": "stdout",
     "output_type": "stream",
     "text": [
      "GPU 0: NVIDIA TITAN RTX (UUID: GPU-0eb32f58-b8d5-17c0-e952-f4ec26a9353f)\n",
      "GPU 1: NVIDIA TITAN RTX (UUID: GPU-50aeb092-88f5-4e0b-7f73-32741666f319)\n"
     ]
    }
   ],
   "source": [
    "!nvidia-smi -L"
   ]
  },
  {
   "cell_type": "code",
   "execution_count": 6,
   "id": "04f41c9b-29c5-41a6-bde2-e57e56f8f5ee",
   "metadata": {},
   "outputs": [],
   "source": [
    "train_x = dd.read_csv('../input/xgtrain.csv')\n",
    "test_x = dd.read_csv('../input/xgval.csv')"
   ]
  },
  {
   "cell_type": "code",
   "execution_count": 7,
   "id": "26eb0c40-0277-4cc8-ae26-f64bcbb4324d",
   "metadata": {},
   "outputs": [],
   "source": [
    "train_y = train_x['target']\n",
    "train_x = train_x[train_x.columns.difference(['target'])]\n",
    "\n",
    "test_y = test_x['target']\n",
    "test_x = test_x[test_x.columns.difference(['target'])]"
   ]
  },
  {
   "cell_type": "code",
   "execution_count": 8,
   "id": "6bee8870-b9e8-47ba-8714-0f16c19b734a",
   "metadata": {},
   "outputs": [
    {
     "name": "stderr",
     "output_type": "stream",
     "text": [
      "2022-05-22 21:36:56,743 - distributed.preloading - INFO - Import preload module: dask_cuda.initialize\n",
      "2022-05-22 21:36:56,753 - distributed.preloading - INFO - Import preload module: dask_cuda.initialize\n"
     ]
    }
   ],
   "source": [
    "cluster = LocalCUDACluster(CUDA_VISIBLE_DEVICES=[\"GPU-0eb32f58-b8d5-17c0-e952-f4ec26a9353f\",\n",
    "                                                 \"GPU-50aeb092-88f5-4e0b-7f73-32741666f319\"])\n",
    "client = Client(cluster)\n"
   ]
  },
  {
   "cell_type": "code",
   "execution_count": 9,
   "id": "fd6cc84c-af12-4219-b019-3b7022a7d4b9",
   "metadata": {},
   "outputs": [],
   "source": [
    "dtrain = xgb.dask.DaskDMatrix(client, train_x, train_y)"
   ]
  },
  {
   "cell_type": "code",
   "execution_count": 10,
   "id": "c9b61cd3-1d42-41a0-804e-c1235953f19c",
   "metadata": {},
   "outputs": [],
   "source": [
    "dtest = xgb.dask.DaskDMatrix(client, test_x, test_y)"
   ]
  },
  {
   "cell_type": "code",
   "execution_count": 11,
   "id": "74319c68-d47c-4907-bd68-28e94daab554",
   "metadata": {},
   "outputs": [],
   "source": [
    "num_round = 1000"
   ]
  },
  {
   "cell_type": "code",
   "execution_count": 12,
   "id": "3638d8a1-252b-4dba-9786-2786aa47defd",
   "metadata": {},
   "outputs": [],
   "source": [
    "def objective(trial):\n",
    "        \n",
    "    params = {\n",
    "        'objective': trial.suggest_categorical('objective',['multi:softprob']), \n",
    "        'tree_method': trial.suggest_categorical('tree_method',['gpu_hist']),  # 'gpu_hist','hist'\n",
    "        'lambda': trial.suggest_loguniform('lambda',1e-3, 1.0),\n",
    "        'alpha': trial.suggest_loguniform('alpha',1e-3, 10.0),\n",
    "        'colsample_bytree': trial.suggest_uniform('colsample_bytree', 0.7, 1.0),\n",
    "        'subsample': trial.suggest_uniform('subsample', 0.7, 1.0),\n",
    "        'learning_rate': trial.suggest_loguniform('learning_rate', 0.01, 0.1),\n",
    "        #'n_estimators': trial.suggest_categorical('n_estimators', [1000]),\n",
    "        'max_depth': trial.suggest_int('max_depth', 20, 29),\n",
    "        #'random_state': trial.suggest_categorical('random_state', [24,48,2020]),\n",
    "        'min_child_weight': trial.suggest_int('min_child_weight', 1, 20),\n",
    "        'eval_metric': trial.suggest_categorical('eval_metric',['merror']),\n",
    "        'num_class': 10,\n",
    "\n",
    "    }\n",
    "\n",
    "    output = xgb.dask.train(client, params, dtrain, num_round)\n",
    "    \n",
    "    booster = output['booster']  # booster is the trained model\n",
    "    booster.set_param({'predictor': 'gpu_predictor'})\n",
    "\n",
    "    predictions = xgb.dask.predict(client, booster, dtest)\n",
    "    \n",
    "    predictions = predictions.compute()\n",
    "    \n",
    "    predictions = np.argmax(predictions, axis=1)\n",
    "\n",
    "    acc = accuracy_score(test_y, predictions)\n",
    "    \n",
    "    return acc"
   ]
  },
  {
   "cell_type": "code",
   "execution_count": 13,
   "id": "d147411e-7115-4d00-8a4a-a503c96b3a52",
   "metadata": {},
   "outputs": [
    {
     "name": "stderr",
     "output_type": "stream",
     "text": [
      "\u001b[32m[I 2022-05-22 21:37:00,277]\u001b[0m A new study created in memory with name: no-name-f2800484-e610-415a-b253-97884cc696a6\u001b[0m\n"
     ]
    }
   ],
   "source": [
    "study = optuna.create_study(direction='maximize')"
   ]
  },
  {
   "cell_type": "code",
   "execution_count": 14,
   "id": "5fdded1a-28b1-4bcd-a994-4b7b12208e4f",
   "metadata": {},
   "outputs": [
    {
     "name": "stderr",
     "output_type": "stream",
     "text": [
      "[21:37:01] task [xgboost.dask]:tcp://127.0.0.1:40703 got new rank 0\n",
      "[21:37:01] task [xgboost.dask]:tcp://127.0.0.1:35831 got new rank 1\n",
      "\u001b[32m[I 2022-05-23 02:42:50,281]\u001b[0m Trial 0 finished with value: 0.9672619047619048 and parameters: {'objective': 'multi:softprob', 'tree_method': 'gpu_hist', 'lambda': 0.009918281416724807, 'alpha': 7.419020073614173, 'colsample_bytree': 0.921463217650149, 'subsample': 0.7867067475979554, 'learning_rate': 0.028327221135803687, 'max_depth': 27, 'min_child_weight': 4, 'eval_metric': 'merror'}. Best is trial 0 with value: 0.9672619047619048.\u001b[0m\n",
      "[02:42:50] task [xgboost.dask]:tcp://127.0.0.1:35831 got new rank 0\n",
      "[02:42:50] task [xgboost.dask]:tcp://127.0.0.1:40703 got new rank 1\n",
      "\u001b[32m[I 2022-05-23 03:02:57,706]\u001b[0m Trial 1 finished with value: 0.9723809523809523 and parameters: {'objective': 'multi:softprob', 'tree_method': 'gpu_hist', 'lambda': 0.007843886534117904, 'alpha': 0.01970718296905166, 'colsample_bytree': 0.8962444452978422, 'subsample': 0.976992663999547, 'learning_rate': 0.09075079787353042, 'max_depth': 23, 'min_child_weight': 19, 'eval_metric': 'merror'}. Best is trial 1 with value: 0.9723809523809523.\u001b[0m\n"
     ]
    },
    {
     "name": "stdout",
     "output_type": "stream",
     "text": [
      "CPU times: user 8min 44s, sys: 3min 4s, total: 11min 48s\n",
      "Wall time: 5h 25min 55s\n"
     ]
    }
   ],
   "source": [
    "%%time\n",
    "study.optimize(objective, n_trials=2)"
   ]
  },
  {
   "cell_type": "code",
   "execution_count": 15,
   "id": "4f0cc26e-d436-4508-97e1-396e04b0493d",
   "metadata": {},
   "outputs": [
    {
     "name": "stderr",
     "output_type": "stream",
     "text": [
      "[03:02:57] task [xgboost.dask]:tcp://127.0.0.1:40703 got new rank 0\n",
      "[03:02:57] task [xgboost.dask]:tcp://127.0.0.1:35831 got new rank 1\n",
      "\u001b[32m[I 2022-05-23 08:12:32,243]\u001b[0m Trial 2 finished with value: 0.9660714285714286 and parameters: {'objective': 'multi:softprob', 'tree_method': 'gpu_hist', 'lambda': 0.36651945191994934, 'alpha': 3.3847526445059803, 'colsample_bytree': 0.7834250489411011, 'subsample': 0.7351438314508559, 'learning_rate': 0.01108018070539185, 'max_depth': 27, 'min_child_weight': 1, 'eval_metric': 'merror'}. Best is trial 1 with value: 0.9723809523809523.\u001b[0m\n",
      "[08:12:32] task [xgboost.dask]:tcp://127.0.0.1:35831 got new rank 0\n",
      "[08:12:32] task [xgboost.dask]:tcp://127.0.0.1:40703 got new rank 1\n",
      "\u001b[32m[I 2022-05-23 18:21:33,242]\u001b[0m Trial 3 finished with value: 0.9694047619047619 and parameters: {'objective': 'multi:softprob', 'tree_method': 'gpu_hist', 'lambda': 0.12780107141273903, 'alpha': 4.637463020762252, 'colsample_bytree': 0.9383785662810683, 'subsample': 0.9261472426454624, 'learning_rate': 0.03512418537431252, 'max_depth': 28, 'min_child_weight': 10, 'eval_metric': 'merror'}. Best is trial 1 with value: 0.9723809523809523.\u001b[0m\n",
      "[18:21:33] task [xgboost.dask]:tcp://127.0.0.1:35831 got new rank 0\n",
      "[18:21:33] task [xgboost.dask]:tcp://127.0.0.1:40703 got new rank 1\n",
      "\u001b[32m[I 2022-05-23 18:32:23,021]\u001b[0m Trial 4 finished with value: 0.9708333333333333 and parameters: {'objective': 'multi:softprob', 'tree_method': 'gpu_hist', 'lambda': 0.0013632190152128797, 'alpha': 0.8296492732620055, 'colsample_bytree': 0.9893035719865977, 'subsample': 0.9553075385466209, 'learning_rate': 0.05605896421130806, 'max_depth': 22, 'min_child_weight': 20, 'eval_metric': 'merror'}. Best is trial 1 with value: 0.9723809523809523.\u001b[0m\n",
      "[18:32:23] task [xgboost.dask]:tcp://127.0.0.1:35831 got new rank 0\n",
      "[18:32:23] task [xgboost.dask]:tcp://127.0.0.1:40703 got new rank 1\n",
      "\u001b[32m[I 2022-05-23 23:37:13,811]\u001b[0m Trial 5 finished with value: 0.9710714285714286 and parameters: {'objective': 'multi:softprob', 'tree_method': 'gpu_hist', 'lambda': 0.44363720186669325, 'alpha': 0.07694495289136544, 'colsample_bytree': 0.7878033301874675, 'subsample': 0.809169529285374, 'learning_rate': 0.045881457649956055, 'max_depth': 27, 'min_child_weight': 17, 'eval_metric': 'merror'}. Best is trial 1 with value: 0.9723809523809523.\u001b[0m\n",
      "[23:37:13] task [xgboost.dask]:tcp://127.0.0.1:35831 got new rank 0\n",
      "[23:37:13] task [xgboost.dask]:tcp://127.0.0.1:40703 got new rank 1\n",
      "\u001b[32m[I 2022-05-23 23:44:05,250]\u001b[0m Trial 6 finished with value: 0.9709523809523809 and parameters: {'objective': 'multi:softprob', 'tree_method': 'gpu_hist', 'lambda': 0.01055114215515813, 'alpha': 0.007027488015420542, 'colsample_bytree': 0.7624656922463315, 'subsample': 0.81163718543614, 'learning_rate': 0.02500310015554397, 'max_depth': 21, 'min_child_weight': 16, 'eval_metric': 'merror'}. Best is trial 1 with value: 0.9723809523809523.\u001b[0m\n",
      "[23:44:05] task [xgboost.dask]:tcp://127.0.0.1:40703 got new rank 0\n",
      "[23:44:05] task [xgboost.dask]:tcp://127.0.0.1:35831 got new rank 1\n",
      "\u001b[32m[I 2022-05-23 23:50:19,903]\u001b[0m Trial 7 finished with value: 0.9723809523809523 and parameters: {'objective': 'multi:softprob', 'tree_method': 'gpu_hist', 'lambda': 0.27657955303900883, 'alpha': 0.01721860903060033, 'colsample_bytree': 0.8495776053496402, 'subsample': 0.7614907899029195, 'learning_rate': 0.05482418669250509, 'max_depth': 21, 'min_child_weight': 11, 'eval_metric': 'merror'}. Best is trial 1 with value: 0.9723809523809523.\u001b[0m\n",
      "[23:50:19] task [xgboost.dask]:tcp://127.0.0.1:35831 got new rank 0\n",
      "[23:50:19] task [xgboost.dask]:tcp://127.0.0.1:40703 got new rank 1\n",
      "\u001b[32m[I 2022-05-23 23:56:56,823]\u001b[0m Trial 8 finished with value: 0.9723809523809523 and parameters: {'objective': 'multi:softprob', 'tree_method': 'gpu_hist', 'lambda': 0.18620551638911487, 'alpha': 0.22959251969553598, 'colsample_bytree': 0.8384182713492434, 'subsample': 0.8062013831151811, 'learning_rate': 0.061041378668614005, 'max_depth': 21, 'min_child_weight': 3, 'eval_metric': 'merror'}. Best is trial 1 with value: 0.9723809523809523.\u001b[0m\n",
      "[23:56:56] task [xgboost.dask]:tcp://127.0.0.1:40703 got new rank 0\n",
      "[23:56:56] task [xgboost.dask]:tcp://127.0.0.1:35831 got new rank 1\n",
      "\u001b[32m[I 2022-05-24 00:02:43,126]\u001b[0m Trial 9 finished with value: 0.969047619047619 and parameters: {'objective': 'multi:softprob', 'tree_method': 'gpu_hist', 'lambda': 0.10093979326598043, 'alpha': 5.57252068796472, 'colsample_bytree': 0.7361026239954721, 'subsample': 0.8740375510536527, 'learning_rate': 0.08365970256029069, 'max_depth': 21, 'min_child_weight': 11, 'eval_metric': 'merror'}. Best is trial 1 with value: 0.9723809523809523.\u001b[0m\n",
      "[00:02:43] task [xgboost.dask]:tcp://127.0.0.1:35831 got new rank 0\n",
      "[00:02:43] task [xgboost.dask]:tcp://127.0.0.1:40703 got new rank 1\n",
      "\u001b[32m[I 2022-05-24 00:41:26,220]\u001b[0m Trial 10 finished with value: 0.9729761904761904 and parameters: {'objective': 'multi:softprob', 'tree_method': 'gpu_hist', 'lambda': 0.0010921869448633666, 'alpha': 0.0013419184658839318, 'colsample_bytree': 0.9020184421058147, 'subsample': 0.9904189630383342, 'learning_rate': 0.09896848325063398, 'max_depth': 24, 'min_child_weight': 15, 'eval_metric': 'merror'}. Best is trial 10 with value: 0.9729761904761904.\u001b[0m\n",
      "[00:41:26] task [xgboost.dask]:tcp://127.0.0.1:35831 got new rank 0\n",
      "[00:41:26] task [xgboost.dask]:tcp://127.0.0.1:40703 got new rank 1\n",
      "\u001b[32m[I 2022-05-24 01:20:15,012]\u001b[0m Trial 11 finished with value: 0.9719047619047619 and parameters: {'objective': 'multi:softprob', 'tree_method': 'gpu_hist', 'lambda': 0.0010556416896437952, 'alpha': 0.0012889177981178757, 'colsample_bytree': 0.9077615579457633, 'subsample': 0.996750504218999, 'learning_rate': 0.09358926950008198, 'max_depth': 24, 'min_child_weight': 15, 'eval_metric': 'merror'}. Best is trial 10 with value: 0.9729761904761904.\u001b[0m\n",
      "[01:20:15] task [xgboost.dask]:tcp://127.0.0.1:35831 got new rank 0\n",
      "[01:20:15] task [xgboost.dask]:tcp://127.0.0.1:40703 got new rank 1\n",
      "\u001b[32m[I 2022-05-24 01:58:55,001]\u001b[0m Trial 12 finished with value: 0.9733333333333334 and parameters: {'objective': 'multi:softprob', 'tree_method': 'gpu_hist', 'lambda': 0.004279166460272325, 'alpha': 0.0011164706262882678, 'colsample_bytree': 0.8762548582607368, 'subsample': 0.9954165976628015, 'learning_rate': 0.09801745782297969, 'max_depth': 24, 'min_child_weight': 20, 'eval_metric': 'merror'}. Best is trial 12 with value: 0.9733333333333334.\u001b[0m\n",
      "[01:58:55] task [xgboost.dask]:tcp://127.0.0.1:35831 got new rank 0\n",
      "[01:58:55] task [xgboost.dask]:tcp://127.0.0.1:40703 got new rank 1\n",
      "\u001b[32m[I 2022-05-24 03:17:54,663]\u001b[0m Trial 13 finished with value: 0.9709523809523809 and parameters: {'objective': 'multi:softprob', 'tree_method': 'gpu_hist', 'lambda': 0.003167188775619518, 'alpha': 0.0010386554834966785, 'colsample_bytree': 0.8704095887705001, 'subsample': 0.9062205229518496, 'learning_rate': 0.017151869582704347, 'max_depth': 25, 'min_child_weight': 14, 'eval_metric': 'merror'}. Best is trial 12 with value: 0.9733333333333334.\u001b[0m\n",
      "[03:17:54] task [xgboost.dask]:tcp://127.0.0.1:35831 got new rank 0\n",
      "[03:17:54] task [xgboost.dask]:tcp://127.0.0.1:40703 got new rank 1\n",
      "\u001b[32m[I 2022-05-24 04:34:55,516]\u001b[0m Trial 14 finished with value: 0.9716666666666667 and parameters: {'objective': 'multi:softprob', 'tree_method': 'gpu_hist', 'lambda': 0.030149631131319528, 'alpha': 0.006071745584504113, 'colsample_bytree': 0.9604196495978141, 'subsample': 0.936586951317515, 'learning_rate': 0.07062689059554936, 'max_depth': 25, 'min_child_weight': 20, 'eval_metric': 'merror'}. Best is trial 12 with value: 0.9733333333333334.\u001b[0m\n",
      "[04:34:55] task [xgboost.dask]:tcp://127.0.0.1:35831 got new rank 0\n",
      "[04:34:55] task [xgboost.dask]:tcp://127.0.0.1:40703 got new rank 1\n",
      "\u001b[32m[I 2022-05-24 05:14:16,060]\u001b[0m Trial 15 finished with value: 0.9730952380952381 and parameters: {'objective': 'multi:softprob', 'tree_method': 'gpu_hist', 'lambda': 0.0033412712614235237, 'alpha': 0.003309045606665752, 'colsample_bytree': 0.8144043581250346, 'subsample': 0.8747473890594796, 'learning_rate': 0.04199127395089183, 'max_depth': 24, 'min_child_weight': 13, 'eval_metric': 'merror'}. Best is trial 12 with value: 0.9733333333333334.\u001b[0m\n",
      "[05:14:16] task [xgboost.dask]:tcp://127.0.0.1:35831 got new rank 0\n",
      "[05:14:16] task [xgboost.dask]:tcp://127.0.0.1:40703 got new rank 1\n",
      "\u001b[32m[I 2022-05-24 05:35:16,795]\u001b[0m Trial 16 finished with value: 0.9723809523809523 and parameters: {'objective': 'multi:softprob', 'tree_method': 'gpu_hist', 'lambda': 0.004131010636315219, 'alpha': 0.005195294570024948, 'colsample_bytree': 0.8195733447197282, 'subsample': 0.8548754830736954, 'learning_rate': 0.03784643684071666, 'max_depth': 23, 'min_child_weight': 9, 'eval_metric': 'merror'}. Best is trial 12 with value: 0.9733333333333334.\u001b[0m\n",
      "[05:35:16] task [xgboost.dask]:tcp://127.0.0.1:35831 got new rank 0\n",
      "[05:35:16] task [xgboost.dask]:tcp://127.0.0.1:40703 got new rank 1\n",
      "\u001b[32m[I 2022-05-24 08:10:07,802]\u001b[0m Trial 17 finished with value: 0.9717857142857143 and parameters: {'objective': 'multi:softprob', 'tree_method': 'gpu_hist', 'lambda': 0.02805455453443339, 'alpha': 0.03706269812254066, 'colsample_bytree': 0.8157939685820954, 'subsample': 0.892179026414936, 'learning_rate': 0.0204996321636085, 'max_depth': 26, 'min_child_weight': 7, 'eval_metric': 'merror'}. Best is trial 12 with value: 0.9733333333333334.\u001b[0m\n",
      "[08:10:07] task [xgboost.dask]:tcp://127.0.0.1:35831 got new rank 0\n",
      "[08:10:07] task [xgboost.dask]:tcp://127.0.0.1:40703 got new rank 1\n",
      "\u001b[32m[I 2022-05-24 08:30:40,030]\u001b[0m Trial 18 finished with value: 0.9721428571428572 and parameters: {'objective': 'multi:softprob', 'tree_method': 'gpu_hist', 'lambda': 0.0032836309429285994, 'alpha': 0.0030403801311540183, 'colsample_bytree': 0.7270627333141074, 'subsample': 0.7072662659240315, 'learning_rate': 0.04371419607462877, 'max_depth': 23, 'min_child_weight': 13, 'eval_metric': 'merror'}. Best is trial 12 with value: 0.9733333333333334.\u001b[0m\n",
      "[08:30:40] task [xgboost.dask]:tcp://127.0.0.1:35831 got new rank 0\n",
      "[08:30:40] task [xgboost.dask]:tcp://127.0.0.1:40703 got new rank 1\n",
      "\u001b[32m[I 2022-05-25 04:45:45,213]\u001b[0m Trial 19 finished with value: 0.9676190476190476 and parameters: {'objective': 'multi:softprob', 'tree_method': 'gpu_hist', 'lambda': 0.06341588758602987, 'alpha': 0.245557852863263, 'colsample_bytree': 0.8035940629515748, 'subsample': 0.8382476090644537, 'learning_rate': 0.012927381280709261, 'max_depth': 29, 'min_child_weight': 18, 'eval_metric': 'merror'}. Best is trial 12 with value: 0.9733333333333334.\u001b[0m\n",
      "[04:45:45] task [xgboost.dask]:tcp://127.0.0.1:35831 got new rank 0\n",
      "[04:45:45] task [xgboost.dask]:tcp://127.0.0.1:40703 got new rank 1\n",
      "\u001b[32m[I 2022-05-25 04:49:45,974]\u001b[0m Trial 20 finished with value: 0.9728571428571429 and parameters: {'objective': 'multi:softprob', 'tree_method': 'gpu_hist', 'lambda': 0.006298963682300414, 'alpha': 0.0029752504750773004, 'colsample_bytree': 0.707219597018649, 'subsample': 0.9592490038048822, 'learning_rate': 0.07017049698717033, 'max_depth': 20, 'min_child_weight': 6, 'eval_metric': 'merror'}. Best is trial 12 with value: 0.9733333333333334.\u001b[0m\n",
      "[04:49:46] task [xgboost.dask]:tcp://127.0.0.1:40703 got new rank 0\n",
      "[04:49:46] task [xgboost.dask]:tcp://127.0.0.1:35831 got new rank 1\n",
      "\u001b[32m[I 2022-05-25 05:28:43,918]\u001b[0m Trial 21 finished with value: 0.9730952380952381 and parameters: {'objective': 'multi:softprob', 'tree_method': 'gpu_hist', 'lambda': 0.00164611787795985, 'alpha': 0.0019425662057453903, 'colsample_bytree': 0.8756831683495593, 'subsample': 0.9847503699250422, 'learning_rate': 0.07571694657031647, 'max_depth': 24, 'min_child_weight': 13, 'eval_metric': 'merror'}. Best is trial 12 with value: 0.9733333333333334.\u001b[0m\n",
      "[05:28:43] task [xgboost.dask]:tcp://127.0.0.1:40703 got new rank 0\n",
      "[05:28:43] task [xgboost.dask]:tcp://127.0.0.1:35831 got new rank 1\n",
      "\u001b[32m[I 2022-05-25 06:46:02,683]\u001b[0m Trial 22 finished with value: 0.9727380952380953 and parameters: {'objective': 'multi:softprob', 'tree_method': 'gpu_hist', 'lambda': 0.002131196560939094, 'alpha': 0.0025771526291001605, 'colsample_bytree': 0.8652847406742793, 'subsample': 0.9618162333193112, 'learning_rate': 0.07592527590101027, 'max_depth': 25, 'min_child_weight': 13, 'eval_metric': 'merror'}. Best is trial 12 with value: 0.9733333333333334.\u001b[0m\n",
      "[06:46:02] task [xgboost.dask]:tcp://127.0.0.1:40703 got new rank 0\n",
      "[06:46:02] task [xgboost.dask]:tcp://127.0.0.1:35831 got new rank 1\n",
      "\u001b[32m[I 2022-05-25 07:25:16,567]\u001b[0m Trial 23 finished with value: 0.9727380952380953 and parameters: {'objective': 'multi:softprob', 'tree_method': 'gpu_hist', 'lambda': 0.01680155737075498, 'alpha': 0.01117944045379467, 'colsample_bytree': 0.8767393913854259, 'subsample': 0.9310142935080303, 'learning_rate': 0.04785709746455125, 'max_depth': 24, 'min_child_weight': 13, 'eval_metric': 'merror'}. Best is trial 12 with value: 0.9733333333333334.\u001b[0m\n",
      "[07:25:16] task [xgboost.dask]:tcp://127.0.0.1:40703 got new rank 0\n",
      "[07:25:16] task [xgboost.dask]:tcp://127.0.0.1:35831 got new rank 1\n",
      "\u001b[32m[I 2022-05-25 09:58:45,687]\u001b[0m Trial 24 finished with value: 0.9726190476190476 and parameters: {'objective': 'multi:softprob', 'tree_method': 'gpu_hist', 'lambda': 0.001964156450227679, 'alpha': 0.002133237929649092, 'colsample_bytree': 0.8404359900443144, 'subsample': 0.9129928789855347, 'learning_rate': 0.064072053421212, 'max_depth': 26, 'min_child_weight': 8, 'eval_metric': 'merror'}. Best is trial 12 with value: 0.9733333333333334.\u001b[0m\n",
      "[09:58:45] task [xgboost.dask]:tcp://127.0.0.1:40703 got new rank 0\n",
      "[09:58:45] task [xgboost.dask]:tcp://127.0.0.1:35831 got new rank 1\n",
      "\u001b[32m[I 2022-05-25 10:19:00,306]\u001b[0m Trial 25 finished with value: 0.9728571428571429 and parameters: {'objective': 'multi:softprob', 'tree_method': 'gpu_hist', 'lambda': 0.0021189862142830963, 'alpha': 0.042827661650370795, 'colsample_bytree': 0.8864435397493451, 'subsample': 0.9731816214678002, 'learning_rate': 0.07902507078931377, 'max_depth': 23, 'min_child_weight': 17, 'eval_metric': 'merror'}. Best is trial 12 with value: 0.9733333333333334.\u001b[0m\n",
      "[10:19:00] task [xgboost.dask]:tcp://127.0.0.1:35831 got new rank 0\n",
      "[10:19:00] task [xgboost.dask]:tcp://127.0.0.1:40703 got new rank 1\n",
      "\u001b[32m[I 2022-05-25 10:30:43,993]\u001b[0m Trial 26 finished with value: 0.9727380952380953 and parameters: {'objective': 'multi:softprob', 'tree_method': 'gpu_hist', 'lambda': 0.7671919881378398, 'alpha': 0.0048177563805109486, 'colsample_bytree': 0.9364483691936394, 'subsample': 0.9985624145981455, 'learning_rate': 0.030574711329555398, 'max_depth': 22, 'min_child_weight': 12, 'eval_metric': 'merror'}. Best is trial 12 with value: 0.9733333333333334.\u001b[0m\n",
      "[10:30:44] task [xgboost.dask]:tcp://127.0.0.1:35831 got new rank 0\n",
      "[10:30:44] task [xgboost.dask]:tcp://127.0.0.1:40703 got new rank 1\n",
      "\u001b[32m[I 2022-05-25 13:04:07,613]\u001b[0m Trial 27 finished with value: 0.9707142857142858 and parameters: {'objective': 'multi:softprob', 'tree_method': 'gpu_hist', 'lambda': 0.003235996624278173, 'alpha': 0.00974381222540858, 'colsample_bytree': 0.8322422794190687, 'subsample': 0.8810983240931899, 'learning_rate': 0.03903442495007255, 'max_depth': 26, 'min_child_weight': 18, 'eval_metric': 'merror'}. Best is trial 12 with value: 0.9733333333333334.\u001b[0m\n",
      "[13:04:07] task [xgboost.dask]:tcp://127.0.0.1:35831 got new rank 0\n",
      "[13:04:07] task [xgboost.dask]:tcp://127.0.0.1:40703 got new rank 1\n",
      "\u001b[32m[I 2022-05-25 13:43:17,339]\u001b[0m Trial 28 finished with value: 0.9722619047619048 and parameters: {'objective': 'multi:softprob', 'tree_method': 'gpu_hist', 'lambda': 0.004889641443829033, 'alpha': 0.001053259462745522, 'colsample_bytree': 0.8604139387223687, 'subsample': 0.9368433807326594, 'learning_rate': 0.053061344193245194, 'max_depth': 24, 'min_child_weight': 15, 'eval_metric': 'merror'}. Best is trial 12 with value: 0.9733333333333334.\u001b[0m\n",
      "[13:43:17] task [xgboost.dask]:tcp://127.0.0.1:35831 got new rank 0\n",
      "[13:43:17] task [xgboost.dask]:tcp://127.0.0.1:40703 got new rank 1\n",
      "\u001b[32m[I 2022-05-25 13:56:10,670]\u001b[0m Trial 29 finished with value: 0.971547619047619 and parameters: {'objective': 'multi:softprob', 'tree_method': 'gpu_hist', 'lambda': 0.013449088697615465, 'alpha': 0.002066020647173275, 'colsample_bytree': 0.9252832532141257, 'subsample': 0.8512730282643971, 'learning_rate': 0.023593795528328382, 'max_depth': 22, 'min_child_weight': 6, 'eval_metric': 'merror'}. Best is trial 12 with value: 0.9733333333333334.\u001b[0m\n",
      "[13:56:10] task [xgboost.dask]:tcp://127.0.0.1:35831 got new rank 0\n",
      "[13:56:10] task [xgboost.dask]:tcp://127.0.0.1:40703 got new rank 1\n",
      "\u001b[32m[I 2022-05-25 15:13:14,585]\u001b[0m Trial 30 finished with value: 0.9728571428571429 and parameters: {'objective': 'multi:softprob', 'tree_method': 'gpu_hist', 'lambda': 0.016572744633127967, 'alpha': 0.021993811414003514, 'colsample_bytree': 0.762964935468263, 'subsample': 0.7763423125021381, 'learning_rate': 0.09952244095707187, 'max_depth': 25, 'min_child_weight': 9, 'eval_metric': 'merror'}. Best is trial 12 with value: 0.9733333333333334.\u001b[0m\n",
      "[15:13:14] task [xgboost.dask]:tcp://127.0.0.1:40703 got new rank 0\n",
      "[15:13:14] task [xgboost.dask]:tcp://127.0.0.1:35831 got new rank 1\n",
      "\u001b[32m[I 2022-05-25 15:51:58,301]\u001b[0m Trial 31 finished with value: 0.9725 and parameters: {'objective': 'multi:softprob', 'tree_method': 'gpu_hist', 'lambda': 0.0010899508380894055, 'alpha': 0.0016684333273899452, 'colsample_bytree': 0.9054539781234452, 'subsample': 0.9837597871226108, 'learning_rate': 0.09907205933505614, 'max_depth': 24, 'min_child_weight': 15, 'eval_metric': 'merror'}. Best is trial 12 with value: 0.9733333333333334.\u001b[0m\n",
      "[15:51:58] task [xgboost.dask]:tcp://127.0.0.1:35831 got new rank 0\n",
      "[15:51:58] task [xgboost.dask]:tcp://127.0.0.1:40703 got new rank 1\n",
      "\u001b[32m[I 2022-05-25 16:12:15,041]\u001b[0m Trial 32 finished with value: 0.9721428571428572 and parameters: {'objective': 'multi:softprob', 'tree_method': 'gpu_hist', 'lambda': 0.0016999424517605065, 'alpha': 0.003959429740857877, 'colsample_bytree': 0.8907446392007067, 'subsample': 0.983721110190795, 'learning_rate': 0.08018606509995635, 'max_depth': 23, 'min_child_weight': 12, 'eval_metric': 'merror'}. Best is trial 12 with value: 0.9733333333333334.\u001b[0m\n",
      "[16:12:15] task [xgboost.dask]:tcp://127.0.0.1:35831 got new rank 0\n",
      "[16:12:15] task [xgboost.dask]:tcp://127.0.0.1:40703 got new rank 1\n",
      "\u001b[32m[I 2022-05-25 16:51:02,833]\u001b[0m Trial 33 finished with value: 0.9729761904761904 and parameters: {'objective': 'multi:softprob', 'tree_method': 'gpu_hist', 'lambda': 0.007378092147829498, 'alpha': 0.0016211387330183288, 'colsample_bytree': 0.9136580970547235, 'subsample': 0.9476217793662216, 'learning_rate': 0.08648548605431887, 'max_depth': 24, 'min_child_weight': 16, 'eval_metric': 'merror'}. Best is trial 12 with value: 0.9733333333333334.\u001b[0m\n",
      "[16:51:02] task [xgboost.dask]:tcp://127.0.0.1:35831 got new rank 0\n",
      "[16:51:02] task [xgboost.dask]:tcp://127.0.0.1:40703 got new rank 1\n",
      "\u001b[32m[I 2022-05-25 19:24:18,860]\u001b[0m Trial 34 finished with value: 0.9709523809523809 and parameters: {'objective': 'multi:softprob', 'tree_method': 'gpu_hist', 'lambda': 0.00847977720368633, 'alpha': 0.009370072958215537, 'colsample_bytree': 0.9202945100300215, 'subsample': 0.951517600679389, 'learning_rate': 0.06382170396578518, 'max_depth': 26, 'min_child_weight': 19, 'eval_metric': 'merror'}. Best is trial 12 with value: 0.9733333333333334.\u001b[0m\n",
      "[19:24:18] task [xgboost.dask]:tcp://127.0.0.1:35831 got new rank 0\n",
      "[19:24:18] task [xgboost.dask]:tcp://127.0.0.1:40703 got new rank 1\n",
      "\u001b[32m[I 2022-05-25 20:41:26,653]\u001b[0m Trial 35 finished with value: 0.9719047619047619 and parameters: {'objective': 'multi:softprob', 'tree_method': 'gpu_hist', 'lambda': 0.005724032886013938, 'alpha': 0.9286847268772986, 'colsample_bytree': 0.9704263296975562, 'subsample': 0.9688067468046014, 'learning_rate': 0.0860053994119429, 'max_depth': 25, 'min_child_weight': 17, 'eval_metric': 'merror'}. Best is trial 12 with value: 0.9733333333333334.\u001b[0m\n",
      "[20:41:26] task [xgboost.dask]:tcp://127.0.0.1:35831 got new rank 0\n",
      "[20:41:26] task [xgboost.dask]:tcp://127.0.0.1:40703 got new rank 1\n",
      "\u001b[32m[I 2022-05-25 21:01:53,298]\u001b[0m Trial 36 finished with value: 0.9732142857142857 and parameters: {'objective': 'multi:softprob', 'tree_method': 'gpu_hist', 'lambda': 0.0025173326033597915, 'alpha': 0.0036252980864225942, 'colsample_bytree': 0.8894241693006293, 'subsample': 0.9944468654853964, 'learning_rate': 0.07045011074730621, 'max_depth': 23, 'min_child_weight': 12, 'eval_metric': 'merror'}. Best is trial 12 with value: 0.9733333333333334.\u001b[0m\n",
      "[21:01:53] task [xgboost.dask]:tcp://127.0.0.1:35831 got new rank 0\n",
      "[21:01:53] task [xgboost.dask]:tcp://127.0.0.1:40703 got new rank 1\n",
      "\u001b[32m[I 2022-05-25 21:23:04,254]\u001b[0m Trial 37 finished with value: 0.9723809523809523 and parameters: {'objective': 'multi:softprob', 'tree_method': 'gpu_hist', 'lambda': 0.0024348510798952966, 'alpha': 0.014515399442886549, 'colsample_bytree': 0.7929592315971977, 'subsample': 0.9756034473448645, 'learning_rate': 0.03352198921100866, 'max_depth': 23, 'min_child_weight': 10, 'eval_metric': 'merror'}. Best is trial 12 with value: 0.9733333333333334.\u001b[0m\n",
      "[21:23:04] task [xgboost.dask]:tcp://127.0.0.1:35831 got new rank 0\n",
      "[21:23:04] task [xgboost.dask]:tcp://127.0.0.1:40703 got new rank 1\n",
      "\u001b[32m[I 2022-05-25 21:35:11,198]\u001b[0m Trial 38 finished with value: 0.9736904761904762 and parameters: {'objective': 'multi:softprob', 'tree_method': 'gpu_hist', 'lambda': 0.0015522087104655816, 'alpha': 0.025835019675864476, 'colsample_bytree': 0.8529628179059024, 'subsample': 0.9151354940158133, 'learning_rate': 0.049760133821676315, 'max_depth': 22, 'min_child_weight': 2, 'eval_metric': 'merror'}. Best is trial 38 with value: 0.9736904761904762.\u001b[0m\n",
      "[21:35:11] task [xgboost.dask]:tcp://127.0.0.1:35831 got new rank 0\n",
      "[21:35:11] task [xgboost.dask]:tcp://127.0.0.1:40703 got new rank 1\n",
      "\u001b[32m[I 2022-05-25 21:46:56,500]\u001b[0m Trial 39 finished with value: 0.9741666666666666 and parameters: {'objective': 'multi:softprob', 'tree_method': 'gpu_hist', 'lambda': 0.004447277651030098, 'alpha': 0.10239747544576408, 'colsample_bytree': 0.8214408473829404, 'subsample': 0.9096245035757717, 'learning_rate': 0.05103305742737401, 'max_depth': 22, 'min_child_weight': 3, 'eval_metric': 'merror'}. Best is trial 39 with value: 0.9741666666666666.\u001b[0m\n",
      "[21:46:56] task [xgboost.dask]:tcp://127.0.0.1:35831 got new rank 0\n",
      "[21:46:56] task [xgboost.dask]:tcp://127.0.0.1:40703 got new rank 1\n",
      "\u001b[32m[I 2022-05-25 21:59:19,531]\u001b[0m Trial 40 finished with value: 0.9714285714285714 and parameters: {'objective': 'multi:softprob', 'tree_method': 'gpu_hist', 'lambda': 0.010970418698777965, 'alpha': 0.13164677403726144, 'colsample_bytree': 0.8486187011581198, 'subsample': 0.9145999703292306, 'learning_rate': 0.05026286859380706, 'max_depth': 22, 'min_child_weight': 1, 'eval_metric': 'merror'}. Best is trial 39 with value: 0.9741666666666666.\u001b[0m\n",
      "[21:59:19] task [xgboost.dask]:tcp://127.0.0.1:35831 got new rank 0\n",
      "[21:59:19] task [xgboost.dask]:tcp://127.0.0.1:40703 got new rank 1\n",
      "\u001b[32m[I 2022-05-25 22:10:52,600]\u001b[0m Trial 41 finished with value: 0.9732142857142857 and parameters: {'objective': 'multi:softprob', 'tree_method': 'gpu_hist', 'lambda': 0.0017761500149037306, 'alpha': 0.03655601888877152, 'colsample_bytree': 0.8779418182524377, 'subsample': 0.8954244963325719, 'learning_rate': 0.060177386528789026, 'max_depth': 22, 'min_child_weight': 4, 'eval_metric': 'merror'}. Best is trial 39 with value: 0.9741666666666666.\u001b[0m\n",
      "[22:10:52] task [xgboost.dask]:tcp://127.0.0.1:35831 got new rank 0\n",
      "[22:10:52] task [xgboost.dask]:tcp://127.0.0.1:40703 got new rank 1\n",
      "\u001b[32m[I 2022-05-25 22:15:14,814]\u001b[0m Trial 42 finished with value: 0.9725 and parameters: {'objective': 'multi:softprob', 'tree_method': 'gpu_hist', 'lambda': 0.0015325240498066045, 'alpha': 0.050067696866958514, 'colsample_bytree': 0.8560130712307781, 'subsample': 0.8933468108051483, 'learning_rate': 0.06381169136725262, 'max_depth': 20, 'min_child_weight': 3, 'eval_metric': 'merror'}. Best is trial 39 with value: 0.9741666666666666.\u001b[0m\n",
      "[22:15:14] task [xgboost.dask]:tcp://127.0.0.1:35831 got new rank 0\n",
      "[22:15:14] task [xgboost.dask]:tcp://127.0.0.1:40703 got new rank 1\n",
      "\u001b[32m[I 2022-05-25 22:26:53,900]\u001b[0m Trial 43 finished with value: 0.9730952380952381 and parameters: {'objective': 'multi:softprob', 'tree_method': 'gpu_hist', 'lambda': 0.004292293182121721, 'alpha': 0.10085879568553824, 'colsample_bytree': 0.8880806011508293, 'subsample': 0.832877120544967, 'learning_rate': 0.05644458981906876, 'max_depth': 22, 'min_child_weight': 3, 'eval_metric': 'merror'}. Best is trial 39 with value: 0.9741666666666666.\u001b[0m\n",
      "[22:26:53] task [xgboost.dask]:tcp://127.0.0.1:40703 got new rank 0\n",
      "[22:26:53] task [xgboost.dask]:tcp://127.0.0.1:35831 got new rank 1\n",
      "\u001b[32m[I 2022-05-25 22:34:12,355]\u001b[0m Trial 44 finished with value: 0.9720238095238095 and parameters: {'objective': 'multi:softprob', 'tree_method': 'gpu_hist', 'lambda': 0.002647211761646724, 'alpha': 0.17988324042431816, 'colsample_bytree': 0.825460504021789, 'subsample': 0.9191283376470603, 'learning_rate': 0.05836460557991667, 'max_depth': 21, 'min_child_weight': 1, 'eval_metric': 'merror'}. Best is trial 39 with value: 0.9741666666666666.\u001b[0m\n",
      "[22:34:12] task [xgboost.dask]:tcp://127.0.0.1:40703 got new rank 0\n",
      "[22:34:12] task [xgboost.dask]:tcp://127.0.0.1:35831 got new rank 1\n",
      "\u001b[32m[I 2022-05-25 22:45:49,398]\u001b[0m Trial 45 finished with value: 0.9736904761904762 and parameters: {'objective': 'multi:softprob', 'tree_method': 'gpu_hist', 'lambda': 0.0013217608457586746, 'alpha': 0.528618190905831, 'colsample_bytree': 0.848571914088105, 'subsample': 0.8631305108371218, 'learning_rate': 0.04664789088850061, 'max_depth': 22, 'min_child_weight': 4, 'eval_metric': 'merror'}. Best is trial 39 with value: 0.9741666666666666.\u001b[0m\n",
      "[22:45:49] task [xgboost.dask]:tcp://127.0.0.1:35831 got new rank 0\n",
      "[22:45:49] task [xgboost.dask]:tcp://127.0.0.1:40703 got new rank 1\n",
      "\u001b[32m[I 2022-05-25 22:52:42,129]\u001b[0m Trial 46 finished with value: 0.9745238095238096 and parameters: {'objective': 'multi:softprob', 'tree_method': 'gpu_hist', 'lambda': 0.0014345301923969806, 'alpha': 0.4687380486697353, 'colsample_bytree': 0.8434345456331338, 'subsample': 0.8991048362147761, 'learning_rate': 0.04635349901133093, 'max_depth': 21, 'min_child_weight': 4, 'eval_metric': 'merror'}. Best is trial 46 with value: 0.9745238095238096.\u001b[0m\n",
      "[22:52:42] task [xgboost.dask]:tcp://127.0.0.1:35831 got new rank 0\n",
      "[22:52:42] task [xgboost.dask]:tcp://127.0.0.1:40703 got new rank 1\n",
      "\u001b[32m[I 2022-05-25 22:59:42,501]\u001b[0m Trial 47 finished with value: 0.9735714285714285 and parameters: {'objective': 'multi:softprob', 'tree_method': 'gpu_hist', 'lambda': 0.0010010503399534886, 'alpha': 0.5339798872389796, 'colsample_bytree': 0.8420795980593533, 'subsample': 0.8631270425769675, 'learning_rate': 0.04099365375193212, 'max_depth': 21, 'min_child_weight': 4, 'eval_metric': 'merror'}. Best is trial 46 with value: 0.9745238095238096.\u001b[0m\n",
      "[22:59:42] task [xgboost.dask]:tcp://127.0.0.1:40703 got new rank 0\n",
      "[22:59:42] task [xgboost.dask]:tcp://127.0.0.1:35831 got new rank 1\n",
      "\u001b[32m[I 2022-05-25 23:07:12,060]\u001b[0m Trial 48 finished with value: 0.9728571428571429 and parameters: {'objective': 'multi:softprob', 'tree_method': 'gpu_hist', 'lambda': 0.0013038421511058235, 'alpha': 0.6046014568828331, 'colsample_bytree': 0.7733119819185053, 'subsample': 0.8698438594084557, 'learning_rate': 0.02817157049110576, 'max_depth': 21, 'min_child_weight': 4, 'eval_metric': 'merror'}. Best is trial 46 with value: 0.9745238095238096.\u001b[0m\n",
      "[23:07:12] task [xgboost.dask]:tcp://127.0.0.1:40703 got new rank 0\n",
      "[23:07:12] task [xgboost.dask]:tcp://127.0.0.1:35831 got new rank 1\n",
      "\u001b[32m[I 2022-05-25 23:12:22,704]\u001b[0m Trial 49 finished with value: 0.9702380952380952 and parameters: {'objective': 'multi:softprob', 'tree_method': 'gpu_hist', 'lambda': 0.001011986421039851, 'alpha': 1.9992827416517824, 'colsample_bytree': 0.8012259328194239, 'subsample': 0.8666597873347395, 'learning_rate': 0.03627202879102967, 'max_depth': 20, 'min_child_weight': 2, 'eval_metric': 'merror'}. Best is trial 46 with value: 0.9745238095238096.\u001b[0m\n",
      "[23:12:22] task [xgboost.dask]:tcp://127.0.0.1:35831 got new rank 0\n",
      "[23:12:22] task [xgboost.dask]:tcp://127.0.0.1:40703 got new rank 1\n",
      "\u001b[32m[I 2022-05-25 23:19:14,248]\u001b[0m Trial 50 finished with value: 0.9728571428571429 and parameters: {'objective': 'multi:softprob', 'tree_method': 'gpu_hist', 'lambda': 0.0013879493901764342, 'alpha': 0.453469062791414, 'colsample_bytree': 0.8391572214206097, 'subsample': 0.8324387419060887, 'learning_rate': 0.04097667031625411, 'max_depth': 21, 'min_child_weight': 5, 'eval_metric': 'merror'}. Best is trial 46 with value: 0.9745238095238096.\u001b[0m\n",
      "[23:19:14] task [xgboost.dask]:tcp://127.0.0.1:35831 got new rank 0\n",
      "[23:19:14] task [xgboost.dask]:tcp://127.0.0.1:40703 got new rank 1\n",
      "\u001b[32m[I 2022-05-25 23:31:21,402]\u001b[0m Trial 51 finished with value: 0.9711904761904762 and parameters: {'objective': 'multi:softprob', 'tree_method': 'gpu_hist', 'lambda': 0.0012690592227033032, 'alpha': 1.0697965073360685, 'colsample_bytree': 0.8521526338246508, 'subsample': 0.8569871230246145, 'learning_rate': 0.04576235942902026, 'max_depth': 22, 'min_child_weight': 2, 'eval_metric': 'merror'}. Best is trial 46 with value: 0.9745238095238096.\u001b[0m\n"
     ]
    },
    {
     "name": "stdout",
     "output_type": "stream",
     "text": [
      "CPU times: user 1h 52min 16s, sys: 40min 18s, total: 2h 32min 35s\n",
      "Wall time: 2d 20h 28min 23s\n"
     ]
    }
   ],
   "source": [
    "%%time\n",
    "study.optimize(objective, n_trials=50)"
   ]
  },
  {
   "cell_type": "code",
   "execution_count": 16,
   "id": "7014a924-e39e-4b62-802e-77e3c3d0af3d",
   "metadata": {},
   "outputs": [
    {
     "data": {
      "text/plain": [
       "{'objective': 'multi:softprob',\n",
       " 'tree_method': 'gpu_hist',\n",
       " 'lambda': 0.0014345301923969806,\n",
       " 'alpha': 0.4687380486697353,\n",
       " 'colsample_bytree': 0.8434345456331338,\n",
       " 'subsample': 0.8991048362147761,\n",
       " 'learning_rate': 0.04635349901133093,\n",
       " 'max_depth': 21,\n",
       " 'min_child_weight': 4,\n",
       " 'eval_metric': 'merror'}"
      ]
     },
     "execution_count": 16,
     "metadata": {},
     "output_type": "execute_result"
    }
   ],
   "source": [
    "study.best_params"
   ]
  },
  {
   "cell_type": "code",
   "execution_count": 17,
   "id": "be52f0a4-daf8-4fea-aaf3-f27418cd8d0c",
   "metadata": {},
   "outputs": [
    {
     "data": {
      "text/plain": [
       "0.9745238095238096"
      ]
     },
     "execution_count": 17,
     "metadata": {},
     "output_type": "execute_result"
    }
   ],
   "source": [
    "study.best_value"
   ]
  },
  {
   "cell_type": "code",
   "execution_count": 18,
   "id": "a6a3cdd7-8d74-4923-83fe-df3eadd04b46",
   "metadata": {},
   "outputs": [
    {
     "data": {
      "text/plain": [
       "FrozenTrial(number=46, values=[0.9745238095238096], datetime_start=datetime.datetime(2022, 5, 25, 22, 45, 49, 398971), datetime_complete=datetime.datetime(2022, 5, 25, 22, 52, 42, 128624), params={'objective': 'multi:softprob', 'tree_method': 'gpu_hist', 'lambda': 0.0014345301923969806, 'alpha': 0.4687380486697353, 'colsample_bytree': 0.8434345456331338, 'subsample': 0.8991048362147761, 'learning_rate': 0.04635349901133093, 'max_depth': 21, 'min_child_weight': 4, 'eval_metric': 'merror'}, distributions={'objective': CategoricalDistribution(choices=('multi:softprob',)), 'tree_method': CategoricalDistribution(choices=('gpu_hist',)), 'lambda': LogUniformDistribution(high=1.0, low=0.001), 'alpha': LogUniformDistribution(high=10.0, low=0.001), 'colsample_bytree': UniformDistribution(high=1.0, low=0.7), 'subsample': UniformDistribution(high=1.0, low=0.7), 'learning_rate': LogUniformDistribution(high=0.1, low=0.01), 'max_depth': IntUniformDistribution(high=29, low=20, step=1), 'min_child_weight': IntUniformDistribution(high=20, low=1, step=1), 'eval_metric': CategoricalDistribution(choices=('merror',))}, user_attrs={}, system_attrs={}, intermediate_values={}, trial_id=46, state=TrialState.COMPLETE, value=None)"
      ]
     },
     "execution_count": 18,
     "metadata": {},
     "output_type": "execute_result"
    }
   ],
   "source": [
    "study.best_trial"
   ]
  },
  {
   "cell_type": "code",
   "execution_count": null,
   "id": "c6456929-b216-4fa1-9127-6cb685ff6543",
   "metadata": {},
   "outputs": [],
   "source": []
  }
 ],
 "metadata": {
  "kernelspec": {
   "display_name": "Python 3 (ipykernel)",
   "language": "python",
   "name": "python3"
  },
  "language_info": {
   "codemirror_mode": {
    "name": "ipython",
    "version": 3
   },
   "file_extension": ".py",
   "mimetype": "text/x-python",
   "name": "python",
   "nbconvert_exporter": "python",
   "pygments_lexer": "ipython3",
   "version": "3.8.10"
  }
 },
 "nbformat": 4,
 "nbformat_minor": 5
}
